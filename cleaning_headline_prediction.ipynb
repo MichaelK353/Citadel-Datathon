{
 "cells": [
  {
   "cell_type": "code",
   "execution_count": 2,
   "id": "cd965887",
   "metadata": {},
   "outputs": [],
   "source": [
    "import pandas as pd"
   ]
  },
  {
   "cell_type": "markdown",
   "id": "a4aab1b9-cdf0-4ed5-ab3b-d3fc6f5f15d5",
   "metadata": {},
   "source": [
    "# Load and Clean Data"
   ]
  },
  {
   "cell_type": "code",
   "execution_count": 3,
   "id": "bdc99b0f-f9f3-40d3-85e6-9813e77667c9",
   "metadata": {},
   "outputs": [],
   "source": [
    "# Load exploratory data\n",
    "# fname = '../osfstorage-archive/upworthy-archive-datasets/upworthy-archive-exploratory-packages-03.12.2020.csv'\n",
    "fname = '../output/armando_packages.csv'\n",
    "df = pd.read_csv(fname)"
   ]
  },
  {
   "cell_type": "code",
   "execution_count": 4,
   "id": "5d7caab0-647d-41ea-a06b-f19f0e91358c",
   "metadata": {},
   "outputs": [
    {
     "name": "stdout",
     "output_type": "stream",
     "text": [
      "<class 'pandas.core.frame.DataFrame'>\n",
      "RangeIndex: 66972 entries, 0 to 66971\n",
      "Data columns (total 18 columns):\n",
      " #   Column               Non-Null Count  Dtype  \n",
      "---  ------               --------------  -----  \n",
      " 0   Unnamed: 0           66972 non-null  int64  \n",
      " 1   created_at           66972 non-null  object \n",
      " 2   test_week            66972 non-null  object \n",
      " 3   test_id              66972 non-null  object \n",
      " 4   headline             66972 non-null  object \n",
      " 5   image_id             66871 non-null  object \n",
      " 6   excerpt              59135 non-null  object \n",
      " 7   lede                 66909 non-null  object \n",
      " 8   slug                 66972 non-null  object \n",
      " 9   share_text           3531 non-null   object \n",
      " 10  share_image          21846 non-null  object \n",
      " 11  impressions          66972 non-null  int64  \n",
      " 12  clicks               66972 non-null  int64  \n",
      " 13  first_place          66972 non-null  bool   \n",
      " 14  winner               66972 non-null  bool   \n",
      " 15  ctr                  66972 non-null  float64\n",
      " 16  high_ctr_test        66972 non-null  bool   \n",
      " 17  high_ctr_test_image  66972 non-null  bool   \n",
      "dtypes: bool(4), float64(1), int64(3), object(10)\n",
      "memory usage: 7.4+ MB\n"
     ]
    }
   ],
   "source": [
    "df.info()"
   ]
  },
  {
   "cell_type": "code",
   "execution_count": 5,
   "id": "419a1d39-0ad4-4a81-9d6b-feaf5d420cc8",
   "metadata": {},
   "outputs": [
    {
     "data": {
      "text/html": [
       "<div>\n",
       "<style scoped>\n",
       "    .dataframe tbody tr th:only-of-type {\n",
       "        vertical-align: middle;\n",
       "    }\n",
       "\n",
       "    .dataframe tbody tr th {\n",
       "        vertical-align: top;\n",
       "    }\n",
       "\n",
       "    .dataframe thead th {\n",
       "        text-align: right;\n",
       "    }\n",
       "</style>\n",
       "<table border=\"1\" class=\"dataframe\">\n",
       "  <thead>\n",
       "    <tr style=\"text-align: right;\">\n",
       "      <th></th>\n",
       "      <th>headline</th>\n",
       "      <th>impressions</th>\n",
       "      <th>clicks</th>\n",
       "    </tr>\n",
       "  </thead>\n",
       "  <tbody>\n",
       "    <tr>\n",
       "      <th>36803</th>\n",
       "      <td>Then, In One Part Of The Movie, They Were All,...</td>\n",
       "      <td>3560</td>\n",
       "      <td>57</td>\n",
       "    </tr>\n",
       "    <tr>\n",
       "      <th>29288</th>\n",
       "      <td>Louis CK Breaks Down Why Our Experiences Might...</td>\n",
       "      <td>2844</td>\n",
       "      <td>86</td>\n",
       "    </tr>\n",
       "    <tr>\n",
       "      <th>18188</th>\n",
       "      <td>Apparently People (Famous People) Are Recogniz...</td>\n",
       "      <td>5757</td>\n",
       "      <td>54</td>\n",
       "    </tr>\n",
       "    <tr>\n",
       "      <th>22834</th>\n",
       "      <td>What Should Both Violent Men And Property Owne...</td>\n",
       "      <td>2559</td>\n",
       "      <td>30</td>\n",
       "    </tr>\n",
       "    <tr>\n",
       "      <th>48350</th>\n",
       "      <td>It's Happening, My Friends, Whether We Like It...</td>\n",
       "      <td>5106</td>\n",
       "      <td>37</td>\n",
       "    </tr>\n",
       "  </tbody>\n",
       "</table>\n",
       "</div>"
      ],
      "text/plain": [
       "                                                headline  impressions  clicks\n",
       "36803  Then, In One Part Of The Movie, They Were All,...         3560      57\n",
       "29288  Louis CK Breaks Down Why Our Experiences Might...         2844      86\n",
       "18188  Apparently People (Famous People) Are Recogniz...         5757      54\n",
       "22834  What Should Both Violent Men And Property Owne...         2559      30\n",
       "48350  It's Happening, My Friends, Whether We Like It...         5106      37"
      ]
     },
     "execution_count": 5,
     "metadata": {},
     "output_type": "execute_result"
    }
   ],
   "source": [
    "# Remove useless columns\n",
    "df = df[['headline','impressions', 'clicks']]\n",
    "\n",
    "df.sample(5)"
   ]
  },
  {
   "cell_type": "code",
   "execution_count": 6,
   "id": "6097eee6-0c18-4065-a29e-6bba3d2e2911",
   "metadata": {},
   "outputs": [
    {
     "name": "stdout",
     "output_type": "stream",
     "text": [
      "<class 'pandas.core.frame.DataFrame'>\n",
      "RangeIndex: 66972 entries, 0 to 66971\n",
      "Data columns (total 3 columns):\n",
      " #   Column       Non-Null Count  Dtype \n",
      "---  ------       --------------  ----- \n",
      " 0   headline     66972 non-null  object\n",
      " 1   impressions  66972 non-null  int64 \n",
      " 2   clicks       66972 non-null  int64 \n",
      "dtypes: int64(2), object(1)\n",
      "memory usage: 1.5+ MB\n"
     ]
    }
   ],
   "source": [
    "# Description\n",
    "df.info()"
   ]
  },
  {
   "cell_type": "code",
   "execution_count": 7,
   "id": "4611a233-5c1e-4ed6-9327-0d1f3808596b",
   "metadata": {},
   "outputs": [
    {
     "name": "stdout",
     "output_type": "stream",
     "text": [
      "<class 'pandas.core.frame.DataFrame'>\n",
      "RangeIndex: 59021 entries, 0 to 59020\n",
      "Data columns (total 2 columns):\n",
      " #   Column    Non-Null Count  Dtype  \n",
      "---  ------    --------------  -----  \n",
      " 0   headline  59021 non-null  object \n",
      " 1   ctr       59021 non-null  float64\n",
      "dtypes: float64(1), object(1)\n",
      "memory usage: 922.3+ KB\n"
     ]
    }
   ],
   "source": [
    "# Correctly type the data\n",
    "strings = ['headline']\n",
    "\n",
    "df[strings] = df[strings].astype('string')\n",
    "\n",
    "# Aggregate the same packages\n",
    "aggregation_functions = {'clicks': 'sum', 'impressions': 'sum'} # 'significance': 'avg'}\n",
    "df = df.groupby(['headline'], as_index=False, observed=True).aggregate(aggregation_functions)\n",
    "\n",
    "# Replace clicks and impressions with ctr (click-through-rate)\n",
    "df['ctr'] = df['clicks']/df['impressions']\n",
    "df = df.drop(columns=['clicks', 'impressions'])\n",
    "\n",
    "# Description\n",
    "df.info()"
   ]
  },
  {
   "cell_type": "code",
   "execution_count": 8,
   "id": "f73d53a9-df98-46bc-b9da-368ed26b87f4",
   "metadata": {},
   "outputs": [
    {
     "data": {
      "text/html": [
       "<div>\n",
       "<style scoped>\n",
       "    .dataframe tbody tr th:only-of-type {\n",
       "        vertical-align: middle;\n",
       "    }\n",
       "\n",
       "    .dataframe tbody tr th {\n",
       "        vertical-align: top;\n",
       "    }\n",
       "\n",
       "    .dataframe thead th {\n",
       "        text-align: right;\n",
       "    }\n",
       "</style>\n",
       "<table border=\"1\" class=\"dataframe\">\n",
       "  <thead>\n",
       "    <tr style=\"text-align: right;\">\n",
       "      <th></th>\n",
       "      <th>ctr</th>\n",
       "    </tr>\n",
       "  </thead>\n",
       "  <tbody>\n",
       "    <tr>\n",
       "      <th>count</th>\n",
       "      <td>59021.000000</td>\n",
       "    </tr>\n",
       "    <tr>\n",
       "      <th>mean</th>\n",
       "      <td>0.013331</td>\n",
       "    </tr>\n",
       "    <tr>\n",
       "      <th>std</th>\n",
       "      <td>0.011223</td>\n",
       "    </tr>\n",
       "    <tr>\n",
       "      <th>min</th>\n",
       "      <td>0.000000</td>\n",
       "    </tr>\n",
       "    <tr>\n",
       "      <th>25%</th>\n",
       "      <td>0.005976</td>\n",
       "    </tr>\n",
       "    <tr>\n",
       "      <th>50%</th>\n",
       "      <td>0.010131</td>\n",
       "    </tr>\n",
       "    <tr>\n",
       "      <th>75%</th>\n",
       "      <td>0.016957</td>\n",
       "    </tr>\n",
       "    <tr>\n",
       "      <th>max</th>\n",
       "      <td>0.148913</td>\n",
       "    </tr>\n",
       "  </tbody>\n",
       "</table>\n",
       "</div>"
      ],
      "text/plain": [
       "                ctr\n",
       "count  59021.000000\n",
       "mean       0.013331\n",
       "std        0.011223\n",
       "min        0.000000\n",
       "25%        0.005976\n",
       "50%        0.010131\n",
       "75%        0.016957\n",
       "max        0.148913"
      ]
     },
     "execution_count": 8,
     "metadata": {},
     "output_type": "execute_result"
    }
   ],
   "source": [
    "# Summary\n",
    "df.describe()"
   ]
  },
  {
   "cell_type": "code",
   "execution_count": 9,
   "id": "4fdbfb05-1b6f-4991-b60a-2ee962c569f1",
   "metadata": {},
   "outputs": [
    {
     "data": {
      "text/html": [
       "<div>\n",
       "<style scoped>\n",
       "    .dataframe tbody tr th:only-of-type {\n",
       "        vertical-align: middle;\n",
       "    }\n",
       "\n",
       "    .dataframe tbody tr th {\n",
       "        vertical-align: top;\n",
       "    }\n",
       "\n",
       "    .dataframe thead th {\n",
       "        text-align: right;\n",
       "    }\n",
       "</style>\n",
       "<table border=\"1\" class=\"dataframe\">\n",
       "  <thead>\n",
       "    <tr style=\"text-align: right;\">\n",
       "      <th></th>\n",
       "      <th>headline</th>\n",
       "      <th>ctr</th>\n",
       "    </tr>\n",
       "  </thead>\n",
       "  <tbody>\n",
       "    <tr>\n",
       "      <th>0</th>\n",
       "      <td>\\nLike Downton Abbey? Well, There’s Another Dr...</td>\n",
       "      <td>0.016213</td>\n",
       "    </tr>\n",
       "    <tr>\n",
       "      <th>1</th>\n",
       "      <td>\\nWell I Gotta Give It To Him, That's A Pretty...</td>\n",
       "      <td>0.019236</td>\n",
       "    </tr>\n",
       "    <tr>\n",
       "      <th>2</th>\n",
       "      <td>\\nYet Another Anti-Gay Guy Saying Gays Should…...</td>\n",
       "      <td>0.019155</td>\n",
       "    </tr>\n",
       "    <tr>\n",
       "      <th>3</th>\n",
       "      <td>'Be The Change You Want To See.' It's An Insp...</td>\n",
       "      <td>0.014886</td>\n",
       "    </tr>\n",
       "    <tr>\n",
       "      <th>4</th>\n",
       "      <td>'This Land Was Made For You And Me' — Or Was It?</td>\n",
       "      <td>0.012906</td>\n",
       "    </tr>\n",
       "    <tr>\n",
       "      <th>...</th>\n",
       "      <td>...</td>\n",
       "      <td>...</td>\n",
       "    </tr>\n",
       "    <tr>\n",
       "      <th>59016</th>\n",
       "      <td>“Success Means Winning First Place” And Other ...</td>\n",
       "      <td>0.010306</td>\n",
       "    </tr>\n",
       "    <tr>\n",
       "      <th>59017</th>\n",
       "      <td>“There Is Nothing More Dangerous Than A Govern...</td>\n",
       "      <td>0.007223</td>\n",
       "    </tr>\n",
       "    <tr>\n",
       "      <th>59018</th>\n",
       "      <td>“You Make A Dime, They Take A Dollar.” Here's ...</td>\n",
       "      <td>0.004309</td>\n",
       "    </tr>\n",
       "    <tr>\n",
       "      <th>59019</th>\n",
       "      <td>“You’re Rude. I Save Lives.”</td>\n",
       "      <td>0.030717</td>\n",
       "    </tr>\n",
       "    <tr>\n",
       "      <th>59020</th>\n",
       "      <td>…And This Is Why We’ll Never See A Superheroin...</td>\n",
       "      <td>0.011705</td>\n",
       "    </tr>\n",
       "  </tbody>\n",
       "</table>\n",
       "<p>59021 rows × 2 columns</p>\n",
       "</div>"
      ],
      "text/plain": [
       "                                                headline       ctr\n",
       "0      \\nLike Downton Abbey? Well, There’s Another Dr...  0.016213\n",
       "1      \\nWell I Gotta Give It To Him, That's A Pretty...  0.019236\n",
       "2      \\nYet Another Anti-Gay Guy Saying Gays Should…...  0.019155\n",
       "3       'Be The Change You Want To See.' It's An Insp...  0.014886\n",
       "4       'This Land Was Made For You And Me' — Or Was It?  0.012906\n",
       "...                                                  ...       ...\n",
       "59016  “Success Means Winning First Place” And Other ...  0.010306\n",
       "59017  “There Is Nothing More Dangerous Than A Govern...  0.007223\n",
       "59018  “You Make A Dime, They Take A Dollar.” Here's ...  0.004309\n",
       "59019                       “You’re Rude. I Save Lives.”  0.030717\n",
       "59020  …And This Is Why We’ll Never See A Superheroin...  0.011705\n",
       "\n",
       "[59021 rows x 2 columns]"
      ]
     },
     "execution_count": 9,
     "metadata": {},
     "output_type": "execute_result"
    }
   ],
   "source": [
    "df # Unique Packages"
   ]
  },
  {
   "cell_type": "code",
   "execution_count": 10,
   "id": "99358b91-3be0-4f2e-ba6d-2b4aacbfbec0",
   "metadata": {},
   "outputs": [],
   "source": [
    "output = '../output/armando_headline_prediction.csv'\n",
    "# output = '../output/packages.csv'\n",
    "df.to_csv(output, index=False)"
   ]
  }
 ],
 "metadata": {
  "kernelspec": {
   "display_name": "citadel",
   "language": "python",
   "name": "citadel"
  },
  "language_info": {
   "codemirror_mode": {
    "name": "ipython",
    "version": 3
   },
   "file_extension": ".py",
   "mimetype": "text/x-python",
   "name": "python",
   "nbconvert_exporter": "python",
   "pygments_lexer": "ipython3",
   "version": "3.9.7"
  },
  "toc": {
   "base_numbering": 1,
   "nav_menu": {},
   "number_sections": true,
   "sideBar": true,
   "skip_h1_title": false,
   "title_cell": "Table of Contents",
   "title_sidebar": "Contents",
   "toc_cell": false,
   "toc_position": {},
   "toc_section_display": true,
   "toc_window_display": false
  },
  "varInspector": {
   "cols": {
    "lenName": 16,
    "lenType": 16,
    "lenVar": 40
   },
   "kernels_config": {
    "python": {
     "delete_cmd_postfix": "",
     "delete_cmd_prefix": "del ",
     "library": "var_list.py",
     "varRefreshCmd": "print(var_dic_list())"
    },
    "r": {
     "delete_cmd_postfix": ") ",
     "delete_cmd_prefix": "rm(",
     "library": "var_list.r",
     "varRefreshCmd": "cat(var_dic_list()) "
    }
   },
   "types_to_exclude": [
    "module",
    "function",
    "builtin_function_or_method",
    "instance",
    "_Feature"
   ],
   "window_display": false
  }
 },
 "nbformat": 4,
 "nbformat_minor": 5
}
