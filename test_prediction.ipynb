{
 "cells": [
  {
   "cell_type": "code",
   "execution_count": 136,
   "id": "245baec1-5fdb-4cac-bfe4-3413be67e911",
   "metadata": {},
   "outputs": [],
   "source": [
    "import sys\n",
    "sys.path.insert(0,'..')"
   ]
  },
  {
   "cell_type": "markdown",
   "id": "fa8365a5-cfe4-40af-8585-2292db320cbb",
   "metadata": {},
   "source": [
    "# Compute Embeddings "
   ]
  },
  {
   "cell_type": "code",
   "execution_count": 135,
   "id": "4f1a4658-6f76-411f-b309-5f485f610e0b",
   "metadata": {},
   "outputs": [],
   "source": [
    "import pandas as pd\n",
    "from src import embeddings\n",
    "\n",
    "df = pd.read_csv('../output/armando_with_all_features_test_prediction.csv')"
   ]
  },
  {
   "cell_type": "code",
   "execution_count": 67,
   "id": "99e7d236-6f35-4b05-8bdf-f0924bf9105d",
   "metadata": {},
   "outputs": [],
   "source": [
    "DIM_Y = df['test_id'].value_counts().max()"
   ]
  },
  {
   "cell_type": "code",
   "execution_count": 137,
   "id": "7a763f38-7938-462f-8875-9c38a917d57f",
   "metadata": {},
   "outputs": [
    {
     "data": {
      "text/html": [
       "<div>\n",
       "<style scoped>\n",
       "    .dataframe tbody tr th:only-of-type {\n",
       "        vertical-align: middle;\n",
       "    }\n",
       "\n",
       "    .dataframe tbody tr th {\n",
       "        vertical-align: top;\n",
       "    }\n",
       "\n",
       "    .dataframe thead th {\n",
       "        text-align: right;\n",
       "    }\n",
       "</style>\n",
       "<table border=\"1\" class=\"dataframe\">\n",
       "  <thead>\n",
       "    <tr style=\"text-align: right;\">\n",
       "      <th></th>\n",
       "      <th>test_id</th>\n",
       "      <th>headline</th>\n",
       "      <th>picked</th>\n",
       "    </tr>\n",
       "  </thead>\n",
       "  <tbody>\n",
       "    <tr>\n",
       "      <th>0</th>\n",
       "      <td>5143605e220cb80002000076</td>\n",
       "      <td>Hey Dude. If You Have An Older Brother, There'...</td>\n",
       "      <td>0&lt;SEP&gt;0&lt;SEP&gt;0&lt;SEP&gt;0&lt;SEP&gt;1</td>\n",
       "    </tr>\n",
       "    <tr>\n",
       "      <th>1</th>\n",
       "      <td>51436060220cb800020001e1</td>\n",
       "      <td>There Is Quicksand All Over Manhattan&lt;SEP&gt;'Get...</td>\n",
       "      <td>0&lt;SEP&gt;0&lt;SEP&gt;0&lt;SEP&gt;1</td>\n",
       "    </tr>\n",
       "    <tr>\n",
       "      <th>2</th>\n",
       "      <td>51436060220cb800020001e3</td>\n",
       "      <td>Thousands Of Protesters Are About To Descend O...</td>\n",
       "      <td>1&lt;SEP&gt;0&lt;SEP&gt;0&lt;SEP&gt;0</td>\n",
       "    </tr>\n",
       "    <tr>\n",
       "      <th>3</th>\n",
       "      <td>51436061220cb800020001e4</td>\n",
       "      <td>3 Things You Can Do Instead Of Watching TV&lt;SEP...</td>\n",
       "      <td>1&lt;SEP&gt;0&lt;SEP&gt;0&lt;SEP&gt;0</td>\n",
       "    </tr>\n",
       "    <tr>\n",
       "      <th>4</th>\n",
       "      <td>51436061220cb800020001e7</td>\n",
       "      <td>Creationism Has Nothing To Do With Christianit...</td>\n",
       "      <td>0&lt;SEP&gt;1&lt;SEP&gt;0&lt;SEP&gt;0</td>\n",
       "    </tr>\n",
       "    <tr>\n",
       "      <th>...</th>\n",
       "      <td>...</td>\n",
       "      <td>...</td>\n",
       "      <td>...</td>\n",
       "    </tr>\n",
       "    <tr>\n",
       "      <th>14636</th>\n",
       "      <td>55413048643265002c840200</td>\n",
       "      <td>Pope Francis says it's 'pure scandal' that wom...</td>\n",
       "      <td>0&lt;SEP&gt;0&lt;SEP&gt;1&lt;SEP&gt;0&lt;SEP&gt;0</td>\n",
       "    </tr>\n",
       "    <tr>\n",
       "      <th>14637</th>\n",
       "      <td>5541323d643265002cbc0200</td>\n",
       "      <td>Being addicted to a particular drug should not...</td>\n",
       "      <td>0&lt;SEP&gt;0&lt;SEP&gt;0&lt;SEP&gt;1&lt;SEP&gt;0</td>\n",
       "    </tr>\n",
       "    <tr>\n",
       "      <th>14638</th>\n",
       "      <td>5541358d643933000c3c0300</td>\n",
       "      <td>How a neurological condition led to one artist...</td>\n",
       "      <td>0&lt;SEP&gt;0&lt;SEP&gt;1&lt;SEP&gt;0&lt;SEP&gt;0</td>\n",
       "    </tr>\n",
       "    <tr>\n",
       "      <th>14639</th>\n",
       "      <td>55413ef4333531000c180000</td>\n",
       "      <td>They spent 4 days in the swamp looking for a c...</td>\n",
       "      <td>1&lt;SEP&gt;0</td>\n",
       "    </tr>\n",
       "    <tr>\n",
       "      <th>14640</th>\n",
       "      <td>55414789313638001c520000</td>\n",
       "      <td>There's a big taboo in Egypt that it's not ok ...</td>\n",
       "      <td>1&lt;SEP&gt;0&lt;SEP&gt;0&lt;SEP&gt;0&lt;SEP&gt;0&lt;SEP&gt;0</td>\n",
       "    </tr>\n",
       "  </tbody>\n",
       "</table>\n",
       "<p>14641 rows × 3 columns</p>\n",
       "</div>"
      ],
      "text/plain": [
       "                        test_id  \\\n",
       "0      5143605e220cb80002000076   \n",
       "1      51436060220cb800020001e1   \n",
       "2      51436060220cb800020001e3   \n",
       "3      51436061220cb800020001e4   \n",
       "4      51436061220cb800020001e7   \n",
       "...                         ...   \n",
       "14636  55413048643265002c840200   \n",
       "14637  5541323d643265002cbc0200   \n",
       "14638  5541358d643933000c3c0300   \n",
       "14639  55413ef4333531000c180000   \n",
       "14640  55414789313638001c520000   \n",
       "\n",
       "                                                headline  \\\n",
       "0      Hey Dude. If You Have An Older Brother, There'...   \n",
       "1      There Is Quicksand All Over Manhattan<SEP>'Get...   \n",
       "2      Thousands Of Protesters Are About To Descend O...   \n",
       "3      3 Things You Can Do Instead Of Watching TV<SEP...   \n",
       "4      Creationism Has Nothing To Do With Christianit...   \n",
       "...                                                  ...   \n",
       "14636  Pope Francis says it's 'pure scandal' that wom...   \n",
       "14637  Being addicted to a particular drug should not...   \n",
       "14638  How a neurological condition led to one artist...   \n",
       "14639  They spent 4 days in the swamp looking for a c...   \n",
       "14640  There's a big taboo in Egypt that it's not ok ...   \n",
       "\n",
       "                                picked  \n",
       "0            0<SEP>0<SEP>0<SEP>0<SEP>1  \n",
       "1                  0<SEP>0<SEP>0<SEP>1  \n",
       "2                  1<SEP>0<SEP>0<SEP>0  \n",
       "3                  1<SEP>0<SEP>0<SEP>0  \n",
       "4                  0<SEP>1<SEP>0<SEP>0  \n",
       "...                                ...  \n",
       "14636        0<SEP>0<SEP>1<SEP>0<SEP>0  \n",
       "14637        0<SEP>0<SEP>0<SEP>1<SEP>0  \n",
       "14638        0<SEP>0<SEP>1<SEP>0<SEP>0  \n",
       "14639                          1<SEP>0  \n",
       "14640  1<SEP>0<SEP>0<SEP>0<SEP>0<SEP>0  \n",
       "\n",
       "[14641 rows x 3 columns]"
      ]
     },
     "execution_count": 137,
     "metadata": {},
     "output_type": "execute_result"
    }
   ],
   "source": [
    "SEP_TOKEN = '<SEP>'\n",
    "test_ids = df['test_id'].unique()\n",
    "\n",
    "df['picked'] = df['picked'].astype('string')\n",
    "test_df = df.groupby(['test_id'], as_index=False).aggregate({'headline': SEP_TOKEN.join, 'picked':SEP_TOKEN.join})\n",
    "test_df"
   ]
  },
  {
   "cell_type": "code",
   "execution_count": 138,
   "id": "f8c2e4b3-ad9a-4c51-a646-743740c2f3c2",
   "metadata": {},
   "outputs": [
    {
     "data": {
      "text/plain": [
       "(66972, 384)"
      ]
     },
     "execution_count": 138,
     "metadata": {},
     "output_type": "execute_result"
    }
   ],
   "source": [
    "import pickle\n",
    "import numpy as np\n",
    "\n",
    "hle_fname = '../output/hl_embeddings_test_prediction.pkl'\n",
    "hl_embeddings = pickle.load(open(hle_fname, \"rb\"))\n",
    "hl_embeddings = np.array(hl_embeddings)\n",
    "hl_embeddings.shape"
   ]
  },
  {
   "cell_type": "code",
   "execution_count": 139,
   "id": "04dc6c10-a1c3-4225-b97c-024f30ba1f9b",
   "metadata": {},
   "outputs": [
    {
     "name": "stderr",
     "output_type": "stream",
     "text": [
      "INFO:sentence_transformers.SentenceTransformer:Load pretrained SentenceTransformer: sentence-transformers/all-MiniLM-L6-v2\n",
      "INFO:sentence_transformers.SentenceTransformer:Use pytorch device: cpu\n"
     ]
    },
    {
     "data": {
      "application/vnd.jupyter.widget-view+json": {
       "model_id": "3de9472989774ea68edbf41020a51f17",
       "version_major": 2,
       "version_minor": 0
      },
      "text/plain": [
       "Batches:   0%|          | 0/1 [00:00<?, ?it/s]"
      ]
     },
     "metadata": {},
     "output_type": "display_data"
    }
   ],
   "source": [
    "from src import embeddings\n",
    "blank_embedding = embeddings.bert([''])[0]"
   ]
  },
  {
   "cell_type": "code",
   "execution_count": 140,
   "id": "d9158ae6-115f-43bd-8e98-2089fee13599",
   "metadata": {},
   "outputs": [],
   "source": [
    "ner_keys = ['LOC', 'PERSON', 'WORK_OF_ART','LANGUAGE','PRODUCT','QUANTITY','DATE','CARDINAL','GPE','TIME','ORG','LAW','MONEY','FAC','EVENT','PERCENT','NORP','ORDINAL']\n",
    "ner_cols = [f'{k}_start' for k in ner_keys] + [f'{k}_end' for k in ner_keys]\n",
    "other_features = ['hl_len', 'neg', 'neu', 'pos'] + ner_cols\n",
    "df[other_features]\n",
    "\n",
    "other_embeddings = df[other_features].to_numpy()"
   ]
  },
  {
   "cell_type": "code",
   "execution_count": 143,
   "id": "0dcb327a-4861-427c-a63f-27e7e2b16898",
   "metadata": {},
   "outputs": [
    {
     "data": {
      "text/plain": [
       "array([[8.90000000e+01, 1.22290142e-02, 8.39928269e-01, ...,\n",
       "        0.00000000e+00, 0.00000000e+00, 0.00000000e+00],\n",
       "       [8.20000000e+01, 1.88391993e-03, 7.45916069e-01, ...,\n",
       "        0.00000000e+00, 0.00000000e+00, 0.00000000e+00],\n",
       "       [9.20000000e+01, 7.81922996e-01, 2.13357523e-01, ...,\n",
       "        0.00000000e+00, 0.00000000e+00, 0.00000000e+00],\n",
       "       ...,\n",
       "       [8.30000000e+01, 9.83206391e-01, 1.29922926e-02, ...,\n",
       "        0.00000000e+00, 0.00000000e+00, 0.00000000e+00],\n",
       "       [8.00000000e+01, 9.85054851e-01, 9.63695347e-03, ...,\n",
       "        0.00000000e+00, 0.00000000e+00, 0.00000000e+00],\n",
       "       [6.10000000e+01, 9.84386027e-01, 1.09683834e-02, ...,\n",
       "        0.00000000e+00, 0.00000000e+00, 0.00000000e+00]])"
      ]
     },
     "execution_count": 143,
     "metadata": {},
     "output_type": "execute_result"
    }
   ],
   "source": [
    "other_embeddings"
   ]
  },
  {
   "cell_type": "code",
   "execution_count": 142,
   "id": "63f77185-0dcf-44a7-aece-ef974324e867",
   "metadata": {
    "tags": []
   },
   "outputs": [
    {
     "ename": "TypeError",
     "evalue": "only integer scalar arrays can be converted to a scalar index",
     "output_type": "error",
     "traceback": [
      "\u001b[0;31m---------------------------------------------------------------------------\u001b[0m",
      "\u001b[0;31mTypeError\u001b[0m                                 Traceback (most recent call last)",
      "\u001b[0;32m/tmp/ipykernel_1729/3130727343.py\u001b[0m in \u001b[0;36m<module>\u001b[0;34m\u001b[0m\n\u001b[1;32m     24\u001b[0m \u001b[0;34m\u001b[0m\u001b[0m\n\u001b[1;32m     25\u001b[0m \u001b[0mtest_dict\u001b[0m \u001b[0;34m=\u001b[0m \u001b[0;34m{\u001b[0m\u001b[0mtest_id\u001b[0m\u001b[0;34m:\u001b[0m \u001b[0;34m(\u001b[0m\u001b[0mheadline\u001b[0m\u001b[0;34m,\u001b[0m \u001b[0mpicked\u001b[0m\u001b[0;34m)\u001b[0m \u001b[0;32mfor\u001b[0m \u001b[0mtest_id\u001b[0m\u001b[0;34m,\u001b[0m \u001b[0mheadline\u001b[0m\u001b[0;34m,\u001b[0m \u001b[0mpicked\u001b[0m \u001b[0;32min\u001b[0m \u001b[0mzip\u001b[0m\u001b[0;34m(\u001b[0m\u001b[0mtdf\u001b[0m\u001b[0;34m[\u001b[0m\u001b[0;34m'test_id'\u001b[0m\u001b[0;34m]\u001b[0m\u001b[0;34m,\u001b[0m \u001b[0mtdf\u001b[0m\u001b[0;34m[\u001b[0m\u001b[0;34m'headline'\u001b[0m\u001b[0;34m]\u001b[0m\u001b[0;34m,\u001b[0m \u001b[0mtdf\u001b[0m\u001b[0;34m[\u001b[0m\u001b[0;34m'picked'\u001b[0m\u001b[0;34m]\u001b[0m\u001b[0;34m)\u001b[0m\u001b[0;34m}\u001b[0m\u001b[0;34m\u001b[0m\u001b[0;34m\u001b[0m\u001b[0m\n\u001b[0;32m---> 26\u001b[0;31m \u001b[0mtest_dict\u001b[0m \u001b[0;34m=\u001b[0m \u001b[0;34m{\u001b[0m\u001b[0mk\u001b[0m\u001b[0;34m:\u001b[0m \u001b[0mcreate_sample\u001b[0m\u001b[0;34m(\u001b[0m\u001b[0;34m*\u001b[0m\u001b[0mv\u001b[0m\u001b[0;34m)\u001b[0m \u001b[0;32mfor\u001b[0m \u001b[0mk\u001b[0m\u001b[0;34m,\u001b[0m \u001b[0mv\u001b[0m \u001b[0;32min\u001b[0m \u001b[0mtest_dict\u001b[0m\u001b[0;34m.\u001b[0m\u001b[0mitems\u001b[0m\u001b[0;34m(\u001b[0m\u001b[0;34m)\u001b[0m\u001b[0;34m}\u001b[0m\u001b[0;34m\u001b[0m\u001b[0;34m\u001b[0m\u001b[0m\n\u001b[0m\u001b[1;32m     27\u001b[0m \u001b[0mtest_dict\u001b[0m\u001b[0;34m\u001b[0m\u001b[0;34m\u001b[0m\u001b[0m\n",
      "\u001b[0;32m/tmp/ipykernel_1729/3130727343.py\u001b[0m in \u001b[0;36m<dictcomp>\u001b[0;34m(.0)\u001b[0m\n\u001b[1;32m     24\u001b[0m \u001b[0;34m\u001b[0m\u001b[0m\n\u001b[1;32m     25\u001b[0m \u001b[0mtest_dict\u001b[0m \u001b[0;34m=\u001b[0m \u001b[0;34m{\u001b[0m\u001b[0mtest_id\u001b[0m\u001b[0;34m:\u001b[0m \u001b[0;34m(\u001b[0m\u001b[0mheadline\u001b[0m\u001b[0;34m,\u001b[0m \u001b[0mpicked\u001b[0m\u001b[0;34m)\u001b[0m \u001b[0;32mfor\u001b[0m \u001b[0mtest_id\u001b[0m\u001b[0;34m,\u001b[0m \u001b[0mheadline\u001b[0m\u001b[0;34m,\u001b[0m \u001b[0mpicked\u001b[0m \u001b[0;32min\u001b[0m \u001b[0mzip\u001b[0m\u001b[0;34m(\u001b[0m\u001b[0mtdf\u001b[0m\u001b[0;34m[\u001b[0m\u001b[0;34m'test_id'\u001b[0m\u001b[0;34m]\u001b[0m\u001b[0;34m,\u001b[0m \u001b[0mtdf\u001b[0m\u001b[0;34m[\u001b[0m\u001b[0;34m'headline'\u001b[0m\u001b[0;34m]\u001b[0m\u001b[0;34m,\u001b[0m \u001b[0mtdf\u001b[0m\u001b[0;34m[\u001b[0m\u001b[0;34m'picked'\u001b[0m\u001b[0;34m]\u001b[0m\u001b[0;34m)\u001b[0m\u001b[0;34m}\u001b[0m\u001b[0;34m\u001b[0m\u001b[0;34m\u001b[0m\u001b[0m\n\u001b[0;32m---> 26\u001b[0;31m \u001b[0mtest_dict\u001b[0m \u001b[0;34m=\u001b[0m \u001b[0;34m{\u001b[0m\u001b[0mk\u001b[0m\u001b[0;34m:\u001b[0m \u001b[0mcreate_sample\u001b[0m\u001b[0;34m(\u001b[0m\u001b[0;34m*\u001b[0m\u001b[0mv\u001b[0m\u001b[0;34m)\u001b[0m \u001b[0;32mfor\u001b[0m \u001b[0mk\u001b[0m\u001b[0;34m,\u001b[0m \u001b[0mv\u001b[0m \u001b[0;32min\u001b[0m \u001b[0mtest_dict\u001b[0m\u001b[0;34m.\u001b[0m\u001b[0mitems\u001b[0m\u001b[0;34m(\u001b[0m\u001b[0;34m)\u001b[0m\u001b[0;34m}\u001b[0m\u001b[0;34m\u001b[0m\u001b[0;34m\u001b[0m\u001b[0m\n\u001b[0m\u001b[1;32m     27\u001b[0m \u001b[0mtest_dict\u001b[0m\u001b[0;34m\u001b[0m\u001b[0;34m\u001b[0m\u001b[0m\n",
      "\u001b[0;32m/tmp/ipykernel_1729/3130727343.py\u001b[0m in \u001b[0;36mcreate_sample\u001b[0;34m(headline, picked)\u001b[0m\n\u001b[1;32m     17\u001b[0m     \u001b[0mheadline\u001b[0m \u001b[0;34m=\u001b[0m \u001b[0mcomplete_list\u001b[0m\u001b[0;34m(\u001b[0m\u001b[0mheadline\u001b[0m\u001b[0;34m.\u001b[0m\u001b[0msplit\u001b[0m\u001b[0;34m(\u001b[0m\u001b[0mSEP_TOKEN\u001b[0m\u001b[0;34m)\u001b[0m\u001b[0;34m,\u001b[0m \u001b[0mDIM_Y\u001b[0m\u001b[0;34m,\u001b[0m \u001b[0;34m''\u001b[0m\u001b[0;34m)\u001b[0m\u001b[0;34m\u001b[0m\u001b[0;34m\u001b[0m\u001b[0m\n\u001b[1;32m     18\u001b[0m     \u001b[0mpicked\u001b[0m \u001b[0;34m=\u001b[0m \u001b[0mcomplete_list\u001b[0m\u001b[0;34m(\u001b[0m\u001b[0mpicked\u001b[0m\u001b[0;34m.\u001b[0m\u001b[0msplit\u001b[0m\u001b[0;34m(\u001b[0m\u001b[0mSEP_TOKEN\u001b[0m\u001b[0;34m)\u001b[0m\u001b[0;34m,\u001b[0m \u001b[0mDIM_Y\u001b[0m\u001b[0;34m,\u001b[0m \u001b[0;34m'0'\u001b[0m\u001b[0;34m)\u001b[0m\u001b[0;34m\u001b[0m\u001b[0;34m\u001b[0m\u001b[0m\n\u001b[0;32m---> 19\u001b[0;31m     \u001b[0mheadline\u001b[0m \u001b[0;34m=\u001b[0m \u001b[0mnp\u001b[0m\u001b[0;34m.\u001b[0m\u001b[0mconcatenate\u001b[0m\u001b[0;34m(\u001b[0m\u001b[0mtuple\u001b[0m\u001b[0;34m(\u001b[0m\u001b[0mget_embedding\u001b[0m\u001b[0;34m(\u001b[0m\u001b[0mhl\u001b[0m\u001b[0;34m)\u001b[0m \u001b[0;32mfor\u001b[0m \u001b[0mhl\u001b[0m \u001b[0;32min\u001b[0m \u001b[0mheadline\u001b[0m\u001b[0;34m)\u001b[0m\u001b[0;34m)\u001b[0m\u001b[0;34m\u001b[0m\u001b[0;34m\u001b[0m\u001b[0m\n\u001b[0m\u001b[1;32m     20\u001b[0m     \u001b[0mpicked\u001b[0m \u001b[0;34m=\u001b[0m \u001b[0mnp\u001b[0m\u001b[0;34m.\u001b[0m\u001b[0marray\u001b[0m\u001b[0;34m(\u001b[0m\u001b[0;34m[\u001b[0m\u001b[0mint\u001b[0m\u001b[0;34m(\u001b[0m\u001b[0mp\u001b[0m\u001b[0;34m)\u001b[0m \u001b[0;32mfor\u001b[0m \u001b[0mp\u001b[0m \u001b[0;32min\u001b[0m \u001b[0mpicked\u001b[0m\u001b[0;34m]\u001b[0m\u001b[0;34m)\u001b[0m\u001b[0;34m\u001b[0m\u001b[0;34m\u001b[0m\u001b[0m\n\u001b[1;32m     21\u001b[0m     \u001b[0;32mreturn\u001b[0m \u001b[0mheadline\u001b[0m\u001b[0;34m,\u001b[0m \u001b[0mpicked\u001b[0m\u001b[0;34m\u001b[0m\u001b[0;34m\u001b[0m\u001b[0m\n",
      "\u001b[0;32m/tmp/ipykernel_1729/3130727343.py\u001b[0m in \u001b[0;36m<genexpr>\u001b[0;34m(.0)\u001b[0m\n\u001b[1;32m     17\u001b[0m     \u001b[0mheadline\u001b[0m \u001b[0;34m=\u001b[0m \u001b[0mcomplete_list\u001b[0m\u001b[0;34m(\u001b[0m\u001b[0mheadline\u001b[0m\u001b[0;34m.\u001b[0m\u001b[0msplit\u001b[0m\u001b[0;34m(\u001b[0m\u001b[0mSEP_TOKEN\u001b[0m\u001b[0;34m)\u001b[0m\u001b[0;34m,\u001b[0m \u001b[0mDIM_Y\u001b[0m\u001b[0;34m,\u001b[0m \u001b[0;34m''\u001b[0m\u001b[0;34m)\u001b[0m\u001b[0;34m\u001b[0m\u001b[0;34m\u001b[0m\u001b[0m\n\u001b[1;32m     18\u001b[0m     \u001b[0mpicked\u001b[0m \u001b[0;34m=\u001b[0m \u001b[0mcomplete_list\u001b[0m\u001b[0;34m(\u001b[0m\u001b[0mpicked\u001b[0m\u001b[0;34m.\u001b[0m\u001b[0msplit\u001b[0m\u001b[0;34m(\u001b[0m\u001b[0mSEP_TOKEN\u001b[0m\u001b[0;34m)\u001b[0m\u001b[0;34m,\u001b[0m \u001b[0mDIM_Y\u001b[0m\u001b[0;34m,\u001b[0m \u001b[0;34m'0'\u001b[0m\u001b[0;34m)\u001b[0m\u001b[0;34m\u001b[0m\u001b[0;34m\u001b[0m\u001b[0m\n\u001b[0;32m---> 19\u001b[0;31m     \u001b[0mheadline\u001b[0m \u001b[0;34m=\u001b[0m \u001b[0mnp\u001b[0m\u001b[0;34m.\u001b[0m\u001b[0mconcatenate\u001b[0m\u001b[0;34m(\u001b[0m\u001b[0mtuple\u001b[0m\u001b[0;34m(\u001b[0m\u001b[0mget_embedding\u001b[0m\u001b[0;34m(\u001b[0m\u001b[0mhl\u001b[0m\u001b[0;34m)\u001b[0m \u001b[0;32mfor\u001b[0m \u001b[0mhl\u001b[0m \u001b[0;32min\u001b[0m \u001b[0mheadline\u001b[0m\u001b[0;34m)\u001b[0m\u001b[0;34m)\u001b[0m\u001b[0;34m\u001b[0m\u001b[0;34m\u001b[0m\u001b[0m\n\u001b[0m\u001b[1;32m     20\u001b[0m     \u001b[0mpicked\u001b[0m \u001b[0;34m=\u001b[0m \u001b[0mnp\u001b[0m\u001b[0;34m.\u001b[0m\u001b[0marray\u001b[0m\u001b[0;34m(\u001b[0m\u001b[0;34m[\u001b[0m\u001b[0mint\u001b[0m\u001b[0;34m(\u001b[0m\u001b[0mp\u001b[0m\u001b[0;34m)\u001b[0m \u001b[0;32mfor\u001b[0m \u001b[0mp\u001b[0m \u001b[0;32min\u001b[0m \u001b[0mpicked\u001b[0m\u001b[0;34m]\u001b[0m\u001b[0;34m)\u001b[0m\u001b[0;34m\u001b[0m\u001b[0;34m\u001b[0m\u001b[0m\n\u001b[1;32m     21\u001b[0m     \u001b[0;32mreturn\u001b[0m \u001b[0mheadline\u001b[0m\u001b[0;34m,\u001b[0m \u001b[0mpicked\u001b[0m\u001b[0;34m\u001b[0m\u001b[0;34m\u001b[0m\u001b[0m\n",
      "\u001b[0;32m/tmp/ipykernel_1729/3130727343.py\u001b[0m in \u001b[0;36mget_embedding\u001b[0;34m(hl)\u001b[0m\n\u001b[1;32m     10\u001b[0m         \u001b[0;32mreturn\u001b[0m \u001b[0mblank_embedding\u001b[0m\u001b[0;34m\u001b[0m\u001b[0;34m\u001b[0m\u001b[0m\n\u001b[1;32m     11\u001b[0m     \u001b[0mhl_idx\u001b[0m \u001b[0;34m=\u001b[0m \u001b[0mdf\u001b[0m\u001b[0;34m.\u001b[0m\u001b[0mindex\u001b[0m\u001b[0;34m[\u001b[0m\u001b[0mdf\u001b[0m\u001b[0;34m[\u001b[0m\u001b[0;34m'headline'\u001b[0m\u001b[0;34m]\u001b[0m \u001b[0;34m==\u001b[0m \u001b[0mhl\u001b[0m\u001b[0;34m]\u001b[0m\u001b[0;34m.\u001b[0m\u001b[0mtolist\u001b[0m\u001b[0;34m(\u001b[0m\u001b[0;34m)\u001b[0m\u001b[0;34m[\u001b[0m\u001b[0;36m0\u001b[0m\u001b[0;34m]\u001b[0m\u001b[0;34m\u001b[0m\u001b[0;34m\u001b[0m\u001b[0m\n\u001b[0;32m---> 12\u001b[0;31m     \u001b[0;32mreturn\u001b[0m \u001b[0mnp\u001b[0m\u001b[0;34m.\u001b[0m\u001b[0mconcatenate\u001b[0m\u001b[0;34m(\u001b[0m\u001b[0mhl_embeddings\u001b[0m\u001b[0;34m[\u001b[0m\u001b[0mhl_idx\u001b[0m\u001b[0;34m]\u001b[0m\u001b[0;34m,\u001b[0m \u001b[0mother_embeddings\u001b[0m\u001b[0;34m[\u001b[0m\u001b[0mhl_idx\u001b[0m\u001b[0;34m]\u001b[0m\u001b[0;34m)\u001b[0m\u001b[0;34m\u001b[0m\u001b[0;34m\u001b[0m\u001b[0m\n\u001b[0m\u001b[1;32m     13\u001b[0m \u001b[0;34m\u001b[0m\u001b[0m\n\u001b[1;32m     14\u001b[0m \u001b[0;34m\u001b[0m\u001b[0m\n",
      "\u001b[0;32m<__array_function__ internals>\u001b[0m in \u001b[0;36mconcatenate\u001b[0;34m(*args, **kwargs)\u001b[0m\n",
      "\u001b[0;31mTypeError\u001b[0m: only integer scalar arrays can be converted to a scalar index"
     ]
    }
   ],
   "source": [
    "def complete_list(l, to, val):\n",
    "    init_len = len(l)\n",
    "    for i in range(init_len, to):\n",
    "        l.append(val)\n",
    "    return l\n",
    "\n",
    "def get_embedding(hl):\n",
    "    global hl_embeddings, df, blank_embedding\n",
    "    if not hl:\n",
    "        return blank_embedding\n",
    "    hl_idx = df.index[df['headline'] == hl].tolist()[0]\n",
    "    return np.concatenate(hl_embeddings[hl_idx], other_embeddings[hl_idx])\n",
    "\n",
    "\n",
    "def create_sample(headline, picked):\n",
    "    global DIM_Y\n",
    "    headline = complete_list(headline.split(SEP_TOKEN), DIM_Y, '')\n",
    "    picked = complete_list(picked.split(SEP_TOKEN), DIM_Y, '0')\n",
    "    headline = np.concatenate(tuple(get_embedding(hl) for hl in headline))\n",
    "    picked = np.array([int(p) for p in picked])\n",
    "    return headline, picked\n",
    "\n",
    "tdf = test_df\n",
    "\n",
    "test_dict = {test_id: (headline, picked) for test_id, headline, picked in zip(tdf['test_id'], tdf['headline'], tdf['picked'])}\n",
    "test_dict = {k: create_sample(*v) for k, v in test_dict.items()}\n",
    "test_dict"
   ]
  },
  {
   "cell_type": "code",
   "execution_count": 92,
   "id": "03402c03-dbcc-4393-858b-fd653632ec34",
   "metadata": {},
   "outputs": [],
   "source": [
    "# storing embeddings\n",
    "# pickle.dump(test_dict, open('../output/test_dict.pkl', \"wb\"))"
   ]
  },
  {
   "cell_type": "code",
   "execution_count": 93,
   "id": "a2aeb989-e2d7-4b7c-b866-f531204f9270",
   "metadata": {},
   "outputs": [],
   "source": [
    "X, y = tuple(zip(*test_dict.values()))\n",
    "X, y = np.array(X), np.array(y)"
   ]
  },
  {
   "cell_type": "code",
   "execution_count": 111,
   "id": "8bd9af81-3cf8-4455-b4d6-45844ba2313d",
   "metadata": {},
   "outputs": [],
   "source": [
    "y = np.array([np.where(r==1)[0][0] for r in y])"
   ]
  },
  {
   "cell_type": "code",
   "execution_count": 112,
   "id": "c0ccc2d1-2eda-4efc-bcff-589d536b3b49",
   "metadata": {},
   "outputs": [
    {
     "data": {
      "text/plain": [
       "((14641, 6528), (14641,))"
      ]
     },
     "execution_count": 112,
     "metadata": {},
     "output_type": "execute_result"
    }
   ],
   "source": [
    "X.shape, y.shape"
   ]
  },
  {
   "cell_type": "markdown",
   "id": "5168f0f3-1dfc-47ef-aa71-486366d154e3",
   "metadata": {},
   "source": [
    "# Predict "
   ]
  },
  {
   "cell_type": "code",
   "execution_count": 116,
   "id": "caeec389-1624-490c-b9bc-73accc0d264b",
   "metadata": {},
   "outputs": [],
   "source": [
    "import torch\n",
    "from sklearn.preprocessing import StandardScaler\n",
    "from torch import nn\n",
    "from torch.utils.data import DataLoader\n",
    "\n",
    "class PackagesDataset(torch.utils.data.Dataset):\n",
    "    \"\"\"\n",
    "    Prepare the Packages dataset for regression\n",
    "    \"\"\"\n",
    "\n",
    "    def __init__(self, X, y, scale_data=True):\n",
    "        if not torch.is_tensor(X) and not torch.is_tensor(y):\n",
    "            # Apply scaling if necessary\n",
    "            if scale_data:\n",
    "                X = StandardScaler().fit_transform(X)\n",
    "            self.X = torch.from_numpy(X)\n",
    "            self.y = torch.from_numpy(y).type(torch.LongTensor)\n",
    "\n",
    "    def __len__(self):\n",
    "        return len(self.X)\n",
    "\n",
    "    def __getitem__(self, i):\n",
    "        return self.X[i], self.y[i]\n",
    "\n",
    "\n",
    "class MLP(nn.Module):\n",
    "    \"\"\"\n",
    "      Multilayer Perceptron for classification.\n",
    "    \"\"\"\n",
    "\n",
    "    def __init__(self, in_size):\n",
    "        super().__init__()\n",
    "        self.layers = nn.Sequential(\n",
    "            nn.Linear(in_size, 64),\n",
    "            nn.ReLU(),\n",
    "            nn.Linear(64, 32),\n",
    "            nn.ReLU(),\n",
    "            nn.Linear(32, DIM_Y)\n",
    "        )\n",
    "\n",
    "    def forward(self, x):\n",
    "        \"\"\"\n",
    "          Forward pass\n",
    "        \"\"\"\n",
    "        return self.layers(x)"
   ]
  },
  {
   "cell_type": "code",
   "execution_count": 130,
   "id": "f6b66885-48bf-4f28-a764-ac000915368e",
   "metadata": {
    "tags": []
   },
   "outputs": [
    {
     "name": "stdout",
     "output_type": "stream",
     "text": [
      "Starting epoch 1\n",
      "huggingface/tokenizers: The current process just got forked, after parallelism has already been used. Disabling parallelism to avoid deadlocks...\n",
      "To disable this warning, you can either:\n",
      "\t- Avoid using `tokenizers` before the fork if possible\n",
      "\t- Explicitly set the environment variable TOKENIZERS_PARALLELISM=(true | false)\n",
      "Train: (1721, 11712)\n",
      "Train Loss: 2.728 | Accuracy: 14.694\n",
      "huggingface/tokenizers: The current process just got forked, after parallelism has already been used. Disabling parallelism to avoid deadlocks...\n",
      "To disable this warning, you can either:\n",
      "\t- Avoid using `tokenizers` before the fork if possible\n",
      "\t- Explicitly set the environment variable TOKENIZERS_PARALLELISM=(true | false)\n",
      "Test: (708, 2929)\n",
      "Test 2.615 | Accuracy: 24.172\n",
      "Starting epoch 2\n",
      "huggingface/tokenizers: The current process just got forked, after parallelism has already been used. Disabling parallelism to avoid deadlocks...\n",
      "To disable this warning, you can either:\n",
      "\t- Avoid using `tokenizers` before the fork if possible\n",
      "\t- Explicitly set the environment variable TOKENIZERS_PARALLELISM=(true | false)\n",
      "Train: (3175, 11712)\n",
      "Train Loss: 2.378 | Accuracy: 27.109\n",
      "huggingface/tokenizers: The current process just got forked, after parallelism has already been used. Disabling parallelism to avoid deadlocks...\n",
      "To disable this warning, you can either:\n",
      "\t- Avoid using `tokenizers` before the fork if possible\n",
      "\t- Explicitly set the environment variable TOKENIZERS_PARALLELISM=(true | false)\n",
      "Test: (803, 2929)\n",
      "Test 2.265 | Accuracy: 27.416\n",
      "Starting epoch 3\n",
      "huggingface/tokenizers: The current process just got forked, after parallelism has already been used. Disabling parallelism to avoid deadlocks...\n",
      "To disable this warning, you can either:\n",
      "\t- Avoid using `tokenizers` before the fork if possible\n",
      "\t- Explicitly set the environment variable TOKENIZERS_PARALLELISM=(true | false)\n",
      "Train: (3269, 11712)\n",
      "Train Loss: 2.029 | Accuracy: 27.912\n",
      "huggingface/tokenizers: The current process just got forked, after parallelism has already been used. Disabling parallelism to avoid deadlocks...\n",
      "To disable this warning, you can either:\n",
      "\t- Avoid using `tokenizers` before the fork if possible\n",
      "\t- Explicitly set the environment variable TOKENIZERS_PARALLELISM=(true | false)\n",
      "Test: (806, 2929)\n",
      "Test 1.951 | Accuracy: 27.518\n",
      "Starting epoch 4\n",
      "huggingface/tokenizers: The current process just got forked, after parallelism has already been used. Disabling parallelism to avoid deadlocks...\n",
      "To disable this warning, you can either:\n",
      "\t- Avoid using `tokenizers` before the fork if possible\n",
      "\t- Explicitly set the environment variable TOKENIZERS_PARALLELISM=(true | false)\n",
      "Train: (3521, 11712)\n",
      "Train Loss: 1.747 | Accuracy: 30.063\n",
      "huggingface/tokenizers: The current process just got forked, after parallelism has already been used. Disabling parallelism to avoid deadlocks...\n",
      "To disable this warning, you can either:\n",
      "\t- Avoid using `tokenizers` before the fork if possible\n",
      "\t- Explicitly set the environment variable TOKENIZERS_PARALLELISM=(true | false)\n",
      "Test: (844, 2929)\n",
      "Test 1.742 | Accuracy: 28.815\n",
      "Starting epoch 5\n",
      "huggingface/tokenizers: The current process just got forked, after parallelism has already been used. Disabling parallelism to avoid deadlocks...\n",
      "To disable this warning, you can either:\n",
      "\t- Avoid using `tokenizers` before the fork if possible\n",
      "\t- Explicitly set the environment variable TOKENIZERS_PARALLELISM=(true | false)\n",
      "Train: (3945, 11712)\n",
      "Train Loss: 1.580 | Accuracy: 33.683\n",
      "huggingface/tokenizers: The current process just got forked, after parallelism has already been used. Disabling parallelism to avoid deadlocks...\n",
      "To disable this warning, you can either:\n",
      "\t- Avoid using `tokenizers` before the fork if possible\n",
      "\t- Explicitly set the environment variable TOKENIZERS_PARALLELISM=(true | false)\n",
      "Test: (838, 2929)\n",
      "Test 1.637 | Accuracy: 28.610\n",
      "Starting epoch 6\n",
      "huggingface/tokenizers: The current process just got forked, after parallelism has already been used. Disabling parallelism to avoid deadlocks...\n",
      "To disable this warning, you can either:\n",
      "\t- Avoid using `tokenizers` before the fork if possible\n",
      "\t- Explicitly set the environment variable TOKENIZERS_PARALLELISM=(true | false)\n",
      "Train: (4347, 11712)\n",
      "Train Loss: 1.488 | Accuracy: 37.116\n",
      "huggingface/tokenizers: The current process just got forked, after parallelism has already been used. Disabling parallelism to avoid deadlocks...\n",
      "To disable this warning, you can either:\n",
      "\t- Avoid using `tokenizers` before the fork if possible\n",
      "\t- Explicitly set the environment variable TOKENIZERS_PARALLELISM=(true | false)\n",
      "Test: (869, 2929)\n",
      "Test 1.586 | Accuracy: 29.669\n",
      "Starting epoch 7\n",
      "huggingface/tokenizers: The current process just got forked, after parallelism has already been used. Disabling parallelism to avoid deadlocks...\n",
      "To disable this warning, you can either:\n",
      "\t- Avoid using `tokenizers` before the fork if possible\n",
      "\t- Explicitly set the environment variable TOKENIZERS_PARALLELISM=(true | false)\n",
      "Train: (4747, 11712)\n",
      "Train Loss: 1.432 | Accuracy: 40.531\n",
      "huggingface/tokenizers: The current process just got forked, after parallelism has already been used. Disabling parallelism to avoid deadlocks...\n",
      "To disable this warning, you can either:\n",
      "\t- Avoid using `tokenizers` before the fork if possible\n",
      "\t- Explicitly set the environment variable TOKENIZERS_PARALLELISM=(true | false)\n",
      "Test: (915, 2929)\n",
      "Test 1.551 | Accuracy: 31.239\n",
      "Starting epoch 8\n",
      "huggingface/tokenizers: The current process just got forked, after parallelism has already been used. Disabling parallelism to avoid deadlocks...\n",
      "To disable this warning, you can either:\n",
      "\t- Avoid using `tokenizers` before the fork if possible\n",
      "\t- Explicitly set the environment variable TOKENIZERS_PARALLELISM=(true | false)\n",
      "Train: (5020, 11712)\n",
      "Train Loss: 1.393 | Accuracy: 42.862\n",
      "huggingface/tokenizers: The current process just got forked, after parallelism has already been used. Disabling parallelism to avoid deadlocks...\n",
      "To disable this warning, you can either:\n",
      "\t- Avoid using `tokenizers` before the fork if possible\n",
      "\t- Explicitly set the environment variable TOKENIZERS_PARALLELISM=(true | false)\n",
      "Test: (901, 2929)\n",
      "Test 1.539 | Accuracy: 30.761\n",
      "Starting epoch 9\n",
      "huggingface/tokenizers: The current process just got forked, after parallelism has already been used. Disabling parallelism to avoid deadlocks...\n",
      "To disable this warning, you can either:\n",
      "\t- Avoid using `tokenizers` before the fork if possible\n",
      "\t- Explicitly set the environment variable TOKENIZERS_PARALLELISM=(true | false)\n",
      "Train: (5244, 11712)\n",
      "Train Loss: 1.361 | Accuracy: 44.775\n",
      "huggingface/tokenizers: The current process just got forked, after parallelism has already been used. Disabling parallelism to avoid deadlocks...\n",
      "To disable this warning, you can either:\n",
      "\t- Avoid using `tokenizers` before the fork if possible\n",
      "\t- Explicitly set the environment variable TOKENIZERS_PARALLELISM=(true | false)\n",
      "Test: (892, 2929)\n",
      "Test 1.537 | Accuracy: 30.454\n",
      "Starting epoch 10\n",
      "huggingface/tokenizers: The current process just got forked, after parallelism has already been used. Disabling parallelism to avoid deadlocks...\n",
      "To disable this warning, you can either:\n",
      "\t- Avoid using `tokenizers` before the fork if possible\n",
      "\t- Explicitly set the environment variable TOKENIZERS_PARALLELISM=(true | false)\n",
      "Train: (5327, 11712)\n",
      "Train Loss: 1.334 | Accuracy: 45.483\n",
      "huggingface/tokenizers: The current process just got forked, after parallelism has already been used. Disabling parallelism to avoid deadlocks...\n",
      "To disable this warning, you can either:\n",
      "\t- Avoid using `tokenizers` before the fork if possible\n",
      "\t- Explicitly set the environment variable TOKENIZERS_PARALLELISM=(true | false)\n",
      "Test: (888, 2929)\n",
      "Test 1.531 | Accuracy: 30.318\n",
      "Starting epoch 11\n",
      "huggingface/tokenizers: The current process just got forked, after parallelism has already been used. Disabling parallelism to avoid deadlocks...\n",
      "To disable this warning, you can either:\n",
      "\t- Avoid using `tokenizers` before the fork if possible\n",
      "\t- Explicitly set the environment variable TOKENIZERS_PARALLELISM=(true | false)\n",
      "Train: (5586, 11712)\n",
      "Train Loss: 1.308 | Accuracy: 47.695\n",
      "huggingface/tokenizers: The current process just got forked, after parallelism has already been used. Disabling parallelism to avoid deadlocks...\n",
      "To disable this warning, you can either:\n",
      "\t- Avoid using `tokenizers` before the fork if possible\n",
      "\t- Explicitly set the environment variable TOKENIZERS_PARALLELISM=(true | false)\n",
      "Test: (887, 2929)\n",
      "Test 1.528 | Accuracy: 30.283\n",
      "Starting epoch 12\n",
      "huggingface/tokenizers: The current process just got forked, after parallelism has already been used. Disabling parallelism to avoid deadlocks...\n",
      "To disable this warning, you can either:\n",
      "\t- Avoid using `tokenizers` before the fork if possible\n",
      "\t- Explicitly set the environment variable TOKENIZERS_PARALLELISM=(true | false)\n",
      "Train: (5641, 11712)\n",
      "Train Loss: 1.284 | Accuracy: 48.164\n",
      "huggingface/tokenizers: The current process just got forked, after parallelism has already been used. Disabling parallelism to avoid deadlocks...\n",
      "To disable this warning, you can either:\n",
      "\t- Avoid using `tokenizers` before the fork if possible\n",
      "\t- Explicitly set the environment variable TOKENIZERS_PARALLELISM=(true | false)\n",
      "Test: (911, 2929)\n",
      "Test 1.525 | Accuracy: 31.103\n",
      "Starting epoch 13\n",
      "huggingface/tokenizers: The current process just got forked, after parallelism has already been used. Disabling parallelism to avoid deadlocks...\n",
      "To disable this warning, you can either:\n",
      "\t- Avoid using `tokenizers` before the fork if possible\n",
      "\t- Explicitly set the environment variable TOKENIZERS_PARALLELISM=(true | false)\n",
      "Train: (5829, 11712)\n",
      "Train Loss: 1.261 | Accuracy: 49.769\n",
      "huggingface/tokenizers: The current process just got forked, after parallelism has already been used. Disabling parallelism to avoid deadlocks...\n",
      "To disable this warning, you can either:\n",
      "\t- Avoid using `tokenizers` before the fork if possible\n",
      "\t- Explicitly set the environment variable TOKENIZERS_PARALLELISM=(true | false)\n",
      "Test: (911, 2929)\n",
      "Test 1.559 | Accuracy: 31.103\n",
      "Starting epoch 14\n",
      "huggingface/tokenizers: The current process just got forked, after parallelism has already been used. Disabling parallelism to avoid deadlocks...\n",
      "To disable this warning, you can either:\n",
      "\t- Avoid using `tokenizers` before the fork if possible\n",
      "\t- Explicitly set the environment variable TOKENIZERS_PARALLELISM=(true | false)\n",
      "Train: (5942, 11712)\n",
      "Train Loss: 1.238 | Accuracy: 50.734\n",
      "huggingface/tokenizers: The current process just got forked, after parallelism has already been used. Disabling parallelism to avoid deadlocks...\n",
      "To disable this warning, you can either:\n",
      "\t- Avoid using `tokenizers` before the fork if possible\n",
      "\t- Explicitly set the environment variable TOKENIZERS_PARALLELISM=(true | false)\n",
      "Test: (905, 2929)\n",
      "Test 1.528 | Accuracy: 30.898\n",
      "Starting epoch 15\n",
      "huggingface/tokenizers: The current process just got forked, after parallelism has already been used. Disabling parallelism to avoid deadlocks...\n",
      "To disable this warning, you can either:\n",
      "\t- Avoid using `tokenizers` before the fork if possible\n",
      "\t- Explicitly set the environment variable TOKENIZERS_PARALLELISM=(true | false)\n",
      "Train: (6159, 11712)\n",
      "Train Loss: 1.215 | Accuracy: 52.587\n",
      "huggingface/tokenizers: The current process just got forked, after parallelism has already been used. Disabling parallelism to avoid deadlocks...\n",
      "To disable this warning, you can either:\n",
      "\t- Avoid using `tokenizers` before the fork if possible\n",
      "\t- Explicitly set the environment variable TOKENIZERS_PARALLELISM=(true | false)\n",
      "Test: (905, 2929)\n",
      "Test 1.532 | Accuracy: 30.898\n"
     ]
    }
   ],
   "source": [
    "NB_EPOCHS = 15\n",
    "# Set fixed random number seed\n",
    "torch.manual_seed(42)\n",
    "\n",
    "# Load Packages dataset\n",
    "# X, y = load_packages()\n",
    "\n",
    "# Prepare Packages dataset\n",
    "dataset = PackagesDataset(X, y)\n",
    "\n",
    "# Split Packages dataset\n",
    "train_size = int(0.8 * len(dataset))\n",
    "test_size = len(dataset) - train_size\n",
    "train_dataset, test_dataset = torch.utils.data.random_split(dataset, [train_size, test_size])\n",
    "\n",
    "# Create trainloader object\n",
    "trainloader = torch.utils.data.DataLoader(train_dataset, batch_size=256, shuffle=True, num_workers=1)\n",
    "\n",
    "# Create testloader object\n",
    "testloader = torch.utils.data.DataLoader(test_dataset, batch_size=256, shuffle=True, num_workers=1)\n",
    "\n",
    "# Initialize the MLP\n",
    "mlp = MLP(in_size=X.shape[1])\n",
    "\n",
    "# Define the loss function and optimizer\n",
    "loss_function = torch.nn.CrossEntropyLoss()\n",
    "optimizer = torch.optim.Adam(mlp.parameters(), lr=1e-4)\n",
    "\n",
    "\n",
    "losses = {'train': [], 'test': []}\n",
    "accuracies = {'train': [], 'test': []}\n",
    "epochs = range(NB_EPOCHS)\n",
    "\n",
    "\n",
    "def train(epoch):\n",
    "     # Print epoch\n",
    "    print(f'Starting epoch {epoch + 1}')\n",
    "\n",
    "    mlp.train()\n",
    "    \n",
    "    # Set current loss value\n",
    "    current_loss = 0.0\n",
    "    correct=0\n",
    "    total=0\n",
    "\n",
    "    # Iterate over the DataLoader for training data\n",
    "    for i, data in enumerate(trainloader, 0):\n",
    "\n",
    "        # Get and prepare inputs\n",
    "        inputs, targets = data\n",
    "        inputs, targets = inputs.float(), targets.float()\n",
    "        # targets = targets.reshape((targets.shape[0], 1))\n",
    "\n",
    "        # Zero the gradients\n",
    "        optimizer.zero_grad()\n",
    "\n",
    "        # Perform forward pass\n",
    "        outputs = mlp(inputs)\n",
    "\n",
    "        # Compute loss\n",
    "        loss = loss_function(outputs, targets.type(torch.LongTensor))\n",
    "\n",
    "        # Perform backward pass\n",
    "        loss.backward()\n",
    "\n",
    "        # Perform optimization\n",
    "        optimizer.step()\n",
    "\n",
    "        # Update Loss\n",
    "        current_loss += loss.item()\n",
    "        \n",
    "        # Update Accuracy\n",
    "        _, predicted = outputs.max(1)\n",
    "        total += targets.size(0)\n",
    "        correct += predicted.eq(targets).sum().item()\n",
    "        \n",
    "    \n",
    "    current_loss /= len(trainloader)\n",
    "    current_accuracy=100.*correct/total\n",
    "    \n",
    "    print(f'Train: {correct, total}')\n",
    "    \n",
    "    losses['train'].append(current_loss)\n",
    "    accuracies['train'].append(current_accuracy)\n",
    "    \n",
    "    print('Train Loss: %.3f | Accuracy: %.3f'%(current_loss, current_accuracy))\n",
    "\n",
    "    \n",
    "def test(epoch):\n",
    "    mlp.eval()\n",
    "\n",
    "    # Set current loss value\n",
    "    current_loss = 0.0\n",
    "    correct=0\n",
    "    total=0\n",
    "\n",
    "    # Iterate over the DataLoader for training data\n",
    "    for i, data in enumerate(testloader, 0):\n",
    "\n",
    "        # Get and prepare inputs\n",
    "        inputs, targets = data\n",
    "        inputs, targets = inputs.float(), targets.float()\n",
    "        # targets = targets.reshape((targets.shape[0], 1))\n",
    "\n",
    "        # Perform forward pass\n",
    "        outputs = mlp(inputs)\n",
    "\n",
    "        # Compute loss\n",
    "        loss = loss_function(outputs, targets.type(torch.LongTensor))\n",
    "\n",
    "        # Update Loss\n",
    "        current_loss += loss.item()\n",
    "        \n",
    "        # Update Accuracy\n",
    "        _, predicted = outputs.max(1)\n",
    "        \n",
    "        total += targets.size(0)\n",
    "        correct += predicted.eq(targets).sum().item()\n",
    "    \n",
    "    current_loss /= len(testloader)\n",
    "    current_accuracy=100.*correct/total\n",
    "    print(f'Test: {correct, total}')\n",
    "    \n",
    "    losses['test'].append(current_loss)\n",
    "    accuracies['test'].append(current_accuracy)\n",
    "    \n",
    "    print('Test %.3f | Accuracy: %.3f'%(current_loss, current_accuracy))\n",
    "\n",
    "# Run the training loop\n",
    "for epoch in epochs:\n",
    "    train(epoch)\n",
    "    test(epoch)"
   ]
  },
  {
   "cell_type": "code",
   "execution_count": 134,
   "id": "3554cc1f-00f6-407f-bb62-40afe6d6a97c",
   "metadata": {},
   "outputs": [
    {
     "data": {
      "image/png": "[encoded data removed]",
      "text/plain": [
       "<Figure size 432x288 with 1 Axes>"
      ]
     },
     "metadata": {
      "needs_background": "light"
     },
     "output_type": "display_data"
    },
    {
     "data": {
      "image/png": "[encoded data removed]",
      "text/plain": [
       "<Figure size 432x288 with 1 Axes>"
      ]
     },
     "metadata": {
      "needs_background": "light"
     },
     "output_type": "display_data"
    }
   ],
   "source": [
    "import matplotlib.pyplot as plt\n",
    "\n",
    "plt.plot(losses['train'], '-o')\n",
    "plt.plot(losses['test'], '-o')\n",
    "plt.xlabel('Epochs')\n",
    "plt.ylabel('Losses')\n",
    "plt.legend(['Train','Valid'])\n",
    "plt.title('Train vs Valid Losses')\n",
    " \n",
    "plt.show()\n",
    "\n",
    "#\n",
    "\n",
    "plt.plot(accuracies['train'], '-o')\n",
    "plt.plot(accuracies['test'], '-o')\n",
    "plt.xlabel('Epochs')\n",
    "plt.ylabel('Accuracies')\n",
    "plt.legend(['Train','Valid'])\n",
    "plt.title('Train vs Valid Accuracies')\n",
    " \n",
    "plt.show()"
   ]
  },
  {
   "cell_type": "code",
   "execution_count": 129,
   "id": "7b9d4b25-86f2-40b1-8f96-4a097008f1d3",
   "metadata": {},
   "outputs": [
    {
     "data": {
      "text/plain": [
       "11"
      ]
     },
     "execution_count": 129,
     "metadata": {},
     "output_type": "execute_result"
    }
   ],
   "source": [
    "losses['test'].index(min(losses['test']))"
   ]
  },
  {
   "cell_type": "markdown",
   "id": "5c24b076-50b9-4582-920f-4c13b1517040",
   "metadata": {},
   "source": [
    "# Examples"
   ]
  },
  {
   "cell_type": "code",
   "execution_count": 17,
   "id": "8cc29dfc-db69-4c42-bebe-2424becc8feb",
   "metadata": {},
   "outputs": [],
   "source": [
    "torch.save(mlp.state_dict(), '../output/mlp_test_prediction_100_epochs.pt')"
   ]
  },
  {
   "cell_type": "code",
   "execution_count": 23,
   "id": "7eece006-411a-4366-bd51-0397229ee7cf",
   "metadata": {},
   "outputs": [
    {
     "ename": "NameError",
     "evalue": "name 'targets' is not defined",
     "output_type": "error",
     "traceback": [
      "\u001b[0;31m---------------------------------------------------------------------------\u001b[0m",
      "\u001b[0;31mNameError\u001b[0m                                 Traceback (most recent call last)",
      "\u001b[0;32m/tmp/ipykernel_1729/3402531884.py\u001b[0m in \u001b[0;36m<module>\u001b[0;34m\u001b[0m\n\u001b[0;32m----> 1\u001b[0;31m \u001b[0mtargets\u001b[0m\u001b[0;34m.\u001b[0m\u001b[0msize\u001b[0m\u001b[0;34m(\u001b[0m\u001b[0;36m0\u001b[0m\u001b[0;34m)\u001b[0m\u001b[0;34m\u001b[0m\u001b[0;34m\u001b[0m\u001b[0m\n\u001b[0m",
      "\u001b[0;31mNameError\u001b[0m: name 'targets' is not defined"
     ]
    }
   ],
   "source": [
    "targets.size(0)"
   ]
  }
 ],
 "metadata": {
  "kernelspec": {
   "display_name": "citadel",
   "language": "python",
   "name": "citadel"
  },
  "language_info": {
   "codemirror_mode": {
    "name": "ipython",
    "version": 3
   },
   "file_extension": ".py",
   "mimetype": "text/x-python",
   "name": "python",
   "nbconvert_exporter": "python",
   "pygments_lexer": "ipython3",
   "version": "3.9.7"
  }
 },
 "nbformat": 4,
 "nbformat_minor": 5
}
