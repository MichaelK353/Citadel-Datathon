{
 "cells": [
  {
   "cell_type": "code",
   "execution_count": 1,
   "id": "245baec1-5fdb-4cac-bfe4-3413be67e911",
   "metadata": {},
   "outputs": [],
   "source": [
    "import sys\n",
    "sys.path.insert(0,'..')"
   ]
  },
  {
   "cell_type": "markdown",
   "id": "cf192b6c-ac78-44d9-8d80-ac2841c26bc8",
   "metadata": {},
   "source": [
    "# Compute Sentiments"
   ]
  },
  {
   "cell_type": "code",
   "execution_count": 2,
   "id": "3b4189cd-697d-40b7-b033-723a68d2e2ad",
   "metadata": {},
   "outputs": [],
   "source": [
    "# import pandas as pd\n",
    "# from transformers import pipeline\n",
    "\n",
    "# # Instantiate model\n",
    "# nlp = pipeline('sentiment-analysis', model='finiteautomata/bertweet-base-sentiment-analysis')\n",
    "\n",
    "# # Get headlines\n",
    "# df = pd.read_csv('path/to/cleaned/data')\n",
    "# headlines = list(df['headline'])\n",
    "\n",
    "# # Compute sentiments\n",
    "# sentiments = nlp(headlines, return_all_scores=True)\n",
    "# sent_list = [{'neg': neg['score'], 'neu': neu['score'], 'pos': pos['score']} for neg, neu, pos in sentiments]\n",
    "# sent_df = pd.DataFrame(sent_list)\n",
    "\n",
    "# # Add sentiments to data\n",
    "# df = pd.concat([df, sent_df], axis=1)"
   ]
  },
  {
   "cell_type": "markdown",
   "id": "fa8365a5-cfe4-40af-8585-2292db320cbb",
   "metadata": {},
   "source": [
    "# Compute Embeddings "
   ]
  },
  {
   "cell_type": "code",
   "execution_count": 3,
   "id": "4f1a4658-6f76-411f-b309-5f485f610e0b",
   "metadata": {},
   "outputs": [],
   "source": [
    "import pandas as pd\n",
    "from src import embeddings\n",
    "\n",
    "df = pd.read_csv('../output/exploratory_v2.csv')\n",
    "headlines = list(df['headline'])"
   ]
  },
  {
   "cell_type": "code",
   "execution_count": 4,
   "id": "d30d9229-57ed-4cbd-b258-002ceb436128",
   "metadata": {},
   "outputs": [],
   "source": [
    "# hl_embeddings = embeddings.bert(headlines)"
   ]
  },
  {
   "cell_type": "code",
   "execution_count": 5,
   "id": "b9f48f34-d59b-44a0-9922-00cc740b70c0",
   "metadata": {},
   "outputs": [
    {
     "data": {
      "text/plain": [
       "0        2.039539\n",
       "1        0.733794\n",
       "2        1.417338\n",
       "3        1.006305\n",
       "4        0.429059\n",
       "           ...   \n",
       "18967    0.139135\n",
       "18968   -0.413325\n",
       "18969   -0.546960\n",
       "18970   -0.654876\n",
       "18971   -0.882459\n",
       "Name: ctr, Length: 18972, dtype: float64"
      ]
     },
     "execution_count": 5,
     "metadata": {},
     "output_type": "execute_result"
    }
   ],
   "source": [
    "# normalize df['ctr']\n",
    "mu = df['ctr'].mean()\n",
    "sigma = df['ctr'].std()\n",
    "\n",
    "df['ctr']=(df['ctr']-mu)/sigma\n",
    "df['ctr']"
   ]
  },
  {
   "cell_type": "code",
   "execution_count": 6,
   "id": "100e4c0e-94e2-4cdb-9181-877b45c2902c",
   "metadata": {},
   "outputs": [
    {
     "data": {
      "image/png": "[encoded data removed]",
      "text/plain": [
       "<Figure size 432x288 with 1 Axes>"
      ]
     },
     "metadata": {
      "needs_background": "light"
     },
     "output_type": "display_data"
    }
   ],
   "source": [
    "import pickle\n",
    "import numpy as np\n",
    "\n",
    "hle_fname = '../output/hl_embeddings.pkl'\n",
    "hl_embeddings = pickle.load(open(hle_fname, \"rb\"))\n",
    "embeddings.plot(hl_embeddings)"
   ]
  },
  {
   "cell_type": "code",
   "execution_count": 7,
   "id": "a2aeb989-e2d7-4b7c-b866-f531204f9270",
   "metadata": {},
   "outputs": [],
   "source": [
    "X = np.array(hl_embeddings)\n",
    "y = np.array(df['ctr'].tolist())"
   ]
  },
  {
   "cell_type": "markdown",
   "id": "5168f0f3-1dfc-47ef-aa71-486366d154e3",
   "metadata": {},
   "source": [
    "# Predict "
   ]
  },
  {
   "cell_type": "code",
   "execution_count": 8,
   "id": "caeec389-1624-490c-b9bc-73accc0d264b",
   "metadata": {},
   "outputs": [],
   "source": [
    "import torch\n",
    "from sklearn.preprocessing import StandardScaler\n",
    "from torch import nn\n",
    "from torch.utils.data import DataLoader\n",
    "\n",
    "class PackagesDataset(torch.utils.data.Dataset):\n",
    "    \"\"\"\n",
    "    Prepare the Packages dataset for regression\n",
    "    \"\"\"\n",
    "\n",
    "    def __init__(self, X, y, scale_data=True):\n",
    "        if not torch.is_tensor(X) and not torch.is_tensor(y):\n",
    "            # Apply scaling if necessary\n",
    "            if scale_data:\n",
    "                X = StandardScaler().fit_transform(X)\n",
    "            self.X = torch.from_numpy(X)\n",
    "            self.y = torch.from_numpy(y)\n",
    "\n",
    "    def __len__(self):\n",
    "        return len(self.X)\n",
    "\n",
    "    def __getitem__(self, i):\n",
    "        return self.X[i], self.y[i]\n",
    "\n",
    "\n",
    "class MLP(nn.Module):\n",
    "    \"\"\"\n",
    "      Multilayer Perceptron for regression.\n",
    "    \"\"\"\n",
    "\n",
    "    def __init__(self, in_size):\n",
    "        super().__init__()\n",
    "        self.layers = nn.Sequential(\n",
    "            nn.Linear(in_size, 64),\n",
    "            nn.ReLU(),\n",
    "            nn.Linear(64, 32),\n",
    "            nn.ReLU(),\n",
    "            nn.Linear(32, 1)\n",
    "        )\n",
    "\n",
    "    def forward(self, x):\n",
    "        \"\"\"\n",
    "          Forward pass\n",
    "        \"\"\"\n",
    "        return self.layers(x)"
   ]
  },
  {
   "cell_type": "code",
   "execution_count": 9,
   "id": "f6b66885-48bf-4f28-a764-ac000915368e",
   "metadata": {
    "tags": []
   },
   "outputs": [],
   "source": [
    "%%capture\n",
    "\n",
    "NB_EPOCHS = 50\n",
    "# Set fixed random number seed\n",
    "torch.manual_seed(42)\n",
    "\n",
    "# Load Packages dataset\n",
    "# X, y = load_packages()\n",
    "\n",
    "# Prepare Packages dataset\n",
    "dataset = PackagesDataset(X, y)\n",
    "\n",
    "# Split Packages dataset\n",
    "train_size = int(0.8 * len(dataset))\n",
    "test_size = len(dataset) - train_size\n",
    "train_dataset, test_dataset = torch.utils.data.random_split(dataset, [train_size, test_size])\n",
    "\n",
    "# Create trainloader object\n",
    "trainloader = torch.utils.data.DataLoader(train_dataset, batch_size=256, shuffle=True, num_workers=1)\n",
    "\n",
    "# Create testloader object\n",
    "testloader = torch.utils.data.DataLoader(test_dataset, batch_size=256, shuffle=True, num_workers=1)\n",
    "\n",
    "# Initialize the MLP\n",
    "mlp = MLP(in_size=X.shape[1])\n",
    "\n",
    "# Define the loss function and optimizer\n",
    "loss_function = nn.MSELoss()\n",
    "optimizer = torch.optim.Adam(mlp.parameters(), lr=1e-4)\n",
    "\n",
    "\n",
    "losses = {'train': [], 'test': []}\n",
    "epochs = range(NB_EPOCHS)\n",
    "\n",
    "\n",
    "def train(epoch):\n",
    "     # Print epoch\n",
    "    print(f'Starting epoch {epoch + 1}')\n",
    "\n",
    "    mlp.train()\n",
    "    \n",
    "    # Set current loss value\n",
    "    current_loss = 0.0\n",
    "\n",
    "    # Iterate over the DataLoader for training data\n",
    "    for i, data in enumerate(trainloader, 0):\n",
    "\n",
    "        # Get and prepare inputs\n",
    "        inputs, targets = data\n",
    "        inputs, targets = inputs.float(), targets.float()\n",
    "        targets = targets.reshape((targets.shape[0], 1))\n",
    "\n",
    "        # Zero the gradients\n",
    "        optimizer.zero_grad()\n",
    "\n",
    "        # Perform forward pass\n",
    "        outputs = mlp(inputs)\n",
    "\n",
    "        # Compute loss\n",
    "        loss = loss_function(outputs, targets)\n",
    "\n",
    "        # Perform backward pass\n",
    "        loss.backward()\n",
    "\n",
    "        # Perform optimization\n",
    "        optimizer.step()\n",
    "\n",
    "        # Print statistics\n",
    "        current_loss += loss.item()\n",
    "    \n",
    "    current_loss /= len(trainloader)\n",
    "    \n",
    "    losses['train'].append(current_loss)\n",
    "    \n",
    "    print('Train Loss: %.3f'%(current_loss))\n",
    "\n",
    "    \n",
    "def test(epoch):\n",
    "    mlp.eval()\n",
    "\n",
    "    # Set current loss value\n",
    "    current_loss = 0.0\n",
    "\n",
    "    # Iterate over the DataLoader for training data\n",
    "    for i, data in enumerate(trainloader, 0):\n",
    "\n",
    "        # Get and prepare inputs\n",
    "        inputs, targets = data\n",
    "        inputs, targets = inputs.float(), targets.float()\n",
    "        targets = targets.reshape((targets.shape[0], 1))\n",
    "\n",
    "        # Perform forward pass\n",
    "        outputs = mlp(inputs)\n",
    "\n",
    "        # Compute loss\n",
    "        loss = loss_function(outputs, targets)\n",
    "\n",
    "        # Perform backward pass\n",
    "        loss.backward()\n",
    "\n",
    "        # Perform optimization\n",
    "        optimizer.step()\n",
    "\n",
    "        # Print statistics\n",
    "        current_loss += loss.item()\n",
    "    \n",
    "    current_loss /= len(testloader)\n",
    "    \n",
    "    losses['test'].append(current_loss)\n",
    "    \n",
    "    print('Test Loss: %.3f'%(current_loss))\n",
    "\n",
    "# Run the training loop\n",
    "for epoch in epochs:\n",
    "    train(epoch)\n",
    "    test(epoch)"
   ]
  },
  {
   "cell_type": "code",
   "execution_count": 10,
   "id": "3554cc1f-00f6-407f-bb62-40afe6d6a97c",
   "metadata": {},
   "outputs": [
    {
     "data": {
      "image/png": "[encoded data removed]",
      "text/plain": [
       "<Figure size 432x288 with 1 Axes>"
      ]
     },
     "metadata": {
      "needs_background": "light"
     },
     "output_type": "display_data"
    }
   ],
   "source": [
    "import matplotlib.pyplot as plt\n",
    "\n",
    "plt.plot(losses['train'],'-o')\n",
    "plt.plot(losses['test'],'-o')\n",
    "plt.xlabel('epoch')\n",
    "plt.ylabel('losses')\n",
    "plt.legend(['Train','Valid'])\n",
    "plt.title('Train vs Valid Losses')\n",
    " \n",
    "plt.show()"
   ]
  },
  {
   "cell_type": "markdown",
   "id": "feeae6d0-ef7b-41bc-994c-11719063bfde",
   "metadata": {},
   "source": [
    "# Correlations between hl_sent, ex_sent, ctr"
   ]
  },
  {
   "cell_type": "code",
   "execution_count": 11,
   "id": "c6a72e03-99e6-47f5-993d-6f766e386e51",
   "metadata": {},
   "outputs": [],
   "source": [
    "# import seaborn as sns\n",
    "\n",
    "# df = pd.read_csv('../output/exploratory_v2.csv')\n",
    "\n",
    "# df=(df-df.mean())/df.std()\n",
    "\n",
    "# data = df[['ctr', 'h_neu', 'h_pos', 'h_neg']]\n",
    "# g = sns.pairplot(data)\n",
    "# g.fig.suptitle(f'ctr correlation with headline sentiment', y=1.05)"
   ]
  },
  {
   "cell_type": "markdown",
   "id": "5c24b076-50b9-4582-920f-4c13b1517040",
   "metadata": {},
   "source": [
    "# Examples"
   ]
  },
  {
   "cell_type": "code",
   "execution_count": 30,
   "id": "452defb8-952b-4d96-af82-22f22b2c98d5",
   "metadata": {},
   "outputs": [],
   "source": [
    "headlines = [\n",
    "    'Oxford is better than Harvad, Here is why.',\n",
    "    'Prince of Sussex is having dinner in Paris tonight.',\n",
    "    'This will blow your mind!',\n",
    "    '10 Ways to get rich without working.',\n",
    "    '208 Catchy Headlines & Attention Grabbing Blog Title',\n",
    "    'maybe even day of week might influence stuff',\n",
    "    \"A Science Guy Helps 3 Dudes From America Understand What They're Really Up Against\",\n",
    "]"
   ]
  },
  {
   "cell_type": "code",
   "execution_count": 31,
   "id": "146908dc-b926-419f-bc52-3432bc7b87d1",
   "metadata": {},
   "outputs": [
    {
     "name": "stderr",
     "output_type": "stream",
     "text": [
      "INFO:sentence_transformers.SentenceTransformer:Load pretrained SentenceTransformer: sentence-transformers/all-MiniLM-L6-v2\n",
      "INFO:sentence_transformers.SentenceTransformer:Use pytorch device: cpu\n"
     ]
    },
    {
     "data": {
      "application/vnd.jupyter.widget-view+json": {
       "model_id": "cbd73b72809e4f028f5c02f5759c2969",
       "version_major": 2,
       "version_minor": 0
      },
      "text/plain": [
       "Batches:   0%|          | 0/1 [00:00<?, ?it/s]"
      ]
     },
     "metadata": {},
     "output_type": "display_data"
    }
   ],
   "source": [
    "hl_embeddings = embeddings.bert(headlines)"
   ]
  },
  {
   "cell_type": "code",
   "execution_count": 32,
   "id": "1e0b8164-3e82-4760-8c41-c4263f1c4c84",
   "metadata": {},
   "outputs": [
    {
     "data": {
      "text/plain": [
       "tensor([[0.0180],\n",
       "        [0.0179],\n",
       "        [0.0180],\n",
       "        [0.0182],\n",
       "        [0.0181],\n",
       "        [0.0179],\n",
       "        [0.0180],\n",
       "        [0.0181]], grad_fn=<AddBackward0>)"
      ]
     },
     "execution_count": 32,
     "metadata": {},
     "output_type": "execute_result"
    }
   ],
   "source": [
    "X = np.array(hl_embeddings)\n",
    "\n",
    "mlp(torch.tensor(X))*sigma + mu"
   ]
  }
 ],
 "metadata": {
  "kernelspec": {
   "display_name": "citadel",
   "language": "python",
   "name": "citadel"
  },
  "language_info": {
   "codemirror_mode": {
    "name": "ipython",
    "version": 3
   },
   "file_extension": ".py",
   "mimetype": "text/x-python",
   "name": "python",
   "nbconvert_exporter": "python",
   "pygments_lexer": "ipython3",
   "version": "3.9.7"
  }
 },
 "nbformat": 4,
 "nbformat_minor": 5
}
