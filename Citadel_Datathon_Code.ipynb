{
 "cells": [
  {
   "cell_type": "code",
   "execution_count": null,
   "metadata": {
    "id": "MSwHVj7py9m_"
   },
   "outputs": [],
   "source": []
  },
  {
   "cell_type": "code",
   "execution_count": null,
   "metadata": {
    "colab": {
     "base_uri": "https://localhost:8080/"
    },
    "id": "jYgdsBP-8gTu",
    "outputId": "2c8d290e-77f3-457d-b15d-87165ade5060"
   },
   "outputs": [
    {
     "name": "stdout",
     "output_type": "stream",
     "text": [
      "Mounted at /content/drive\n"
     ]
    }
   ],
   "source": [
    "from google.colab import drive\n",
    "drive.mount('/content/drive', force_remount=True)"
   ]
  },
  {
   "cell_type": "code",
   "execution_count": null,
   "metadata": {
    "id": "P0wHTcWtXvfK"
   },
   "outputs": [],
   "source": [
    "from google.colab import drive\n",
    "drive.mount('/content/drive/MyDrive/Citadel_Data')"
   ]
  },
  {
   "cell_type": "markdown",
   "metadata": {
    "id": "ysk3njQa5DOF"
   },
   "source": [
    "**Question idea:** \n",
    "\n",
    "1. Can we cluster effectiveness of headlines by the raw text?\n",
    "2. If 1 is true, can we also categories the raw text into sentiment (pre-trained model) to produce analysis on which sentiments best attract interest? (i.e. In a social experiment context)\n",
    "3. Can we compare the results of 1 to another benchmark? i.e. are there clusters for 'Winner'/'Not winner' that are dependent on time of release?\n",
    "  **NB:** statistical comparision would require a held-out validation set, hopefully not too difficult but something to consider.\n",
    "\n",
    "**Method:**\n",
    "\n",
    "1. Represent headlines as a scipy sparse matrix representing sets feature vectors ((n_headlines x n_features) before making into sparse matrix)\n",
    "2. Pass into text classification method (Naive Bayes or SVM - scikit-learn packages for both)\n",
    "3. Train on entire data-set (if we take this approach we would not be looking at predictions, but instead at the net classification - like a semi-supervised algorithm (unspuervised in nature, excpet for the fact that the clusters are then labeled as 'Winner'/'Not Winner') - similar to image segmentation, just on text)\n",
    "4. Feature vectors can be visualised by reducing dimensions of sparse vectors (TruncatedSVD?) and then passing through to a dimensionality mapping algorithm such as t-SNE for visualisation - more qualitative than quantitative due to t-SNEs almost arbitrary variation with parameters\n",
    "5. If the SVM/Naive Bayes clustering fails to produce meaningful results, but t-SNE shows distinct clusters, clusters could be formed directly from the t-SNE (i.e. a non-linear mapping of feature vectors before clustering maybe helpful). **NB:** t-SNE is known to produce false-clusters, so a range of parameters should be tried and checked to produce same results if this approach is to be used"
   ]
  },
  {
   "cell_type": "markdown",
   "metadata": {
    "id": "jll2UDT4nEWc"
   },
   "source": [
    "**(BK 02/11) Headings pre-processing:**"
   ]
  },
  {
   "cell_type": "code",
   "execution_count": null,
   "metadata": {
    "colab": {
     "base_uri": "https://localhost:8080/",
     "height": 450
    },
    "id": "aXwrxfY9XxZE",
    "outputId": "e8d49833-2e23-4325-ce36-02260784c680"
   },
   "outputs": [
    {
     "ename": "FileNotFoundError",
     "evalue": "ignored",
     "output_type": "error",
     "traceback": [
      "\u001b[0;31m---------------------------------------------------------------------------\u001b[0m",
      "\u001b[0;31mFileNotFoundError\u001b[0m                         Traceback (most recent call last)",
      "\u001b[0;32m<ipython-input-18-1dc89d245c7b>\u001b[0m in \u001b[0;36m<module>\u001b[0;34m()\u001b[0m\n\u001b[1;32m      3\u001b[0m \u001b[0;34m\u001b[0m\u001b[0m\n\u001b[1;32m      4\u001b[0m \u001b[0mnrows\u001b[0m \u001b[0;34m=\u001b[0m \u001b[0;36m50000\u001b[0m\u001b[0;34m\u001b[0m\u001b[0;34m\u001b[0m\u001b[0m\n\u001b[0;32m----> 5\u001b[0;31m \u001b[0mdata\u001b[0m \u001b[0;34m=\u001b[0m \u001b[0mpd\u001b[0m\u001b[0;34m.\u001b[0m\u001b[0mread_csv\u001b[0m\u001b[0;34m(\u001b[0m\u001b[0;34m'packages.csv'\u001b[0m\u001b[0;34m,\u001b[0m \u001b[0mnrows\u001b[0m\u001b[0;34m=\u001b[0m\u001b[0mnrows\u001b[0m\u001b[0;34m)\u001b[0m\u001b[0;34m\u001b[0m\u001b[0;34m\u001b[0m\u001b[0m\n\u001b[0m\u001b[1;32m      6\u001b[0m \u001b[0mheadlines\u001b[0m \u001b[0;34m=\u001b[0m \u001b[0mdata\u001b[0m\u001b[0;34m[\u001b[0m\u001b[0;34m'headline'\u001b[0m\u001b[0;34m]\u001b[0m\u001b[0;34m\u001b[0m\u001b[0;34m\u001b[0m\u001b[0m\n\u001b[1;32m      7\u001b[0m \u001b[0mtest_ids\u001b[0m \u001b[0;34m=\u001b[0m \u001b[0mdata\u001b[0m\u001b[0;34m[\u001b[0m\u001b[0;34m'test_id'\u001b[0m\u001b[0;34m]\u001b[0m\u001b[0;34m\u001b[0m\u001b[0;34m\u001b[0m\u001b[0m\n",
      "\u001b[0;32m/usr/local/lib/python3.7/dist-packages/pandas/io/parsers.py\u001b[0m in \u001b[0;36mread_csv\u001b[0;34m(filepath_or_buffer, sep, delimiter, header, names, index_col, usecols, squeeze, prefix, mangle_dupe_cols, dtype, engine, converters, true_values, false_values, skipinitialspace, skiprows, skipfooter, nrows, na_values, keep_default_na, na_filter, verbose, skip_blank_lines, parse_dates, infer_datetime_format, keep_date_col, date_parser, dayfirst, cache_dates, iterator, chunksize, compression, thousands, decimal, lineterminator, quotechar, quoting, doublequote, escapechar, comment, encoding, dialect, error_bad_lines, warn_bad_lines, delim_whitespace, low_memory, memory_map, float_precision)\u001b[0m\n\u001b[1;32m    686\u001b[0m     )\n\u001b[1;32m    687\u001b[0m \u001b[0;34m\u001b[0m\u001b[0m\n\u001b[0;32m--> 688\u001b[0;31m     \u001b[0;32mreturn\u001b[0m \u001b[0m_read\u001b[0m\u001b[0;34m(\u001b[0m\u001b[0mfilepath_or_buffer\u001b[0m\u001b[0;34m,\u001b[0m \u001b[0mkwds\u001b[0m\u001b[0;34m)\u001b[0m\u001b[0;34m\u001b[0m\u001b[0;34m\u001b[0m\u001b[0m\n\u001b[0m\u001b[1;32m    689\u001b[0m \u001b[0;34m\u001b[0m\u001b[0m\n\u001b[1;32m    690\u001b[0m \u001b[0;34m\u001b[0m\u001b[0m\n",
      "\u001b[0;32m/usr/local/lib/python3.7/dist-packages/pandas/io/parsers.py\u001b[0m in \u001b[0;36m_read\u001b[0;34m(filepath_or_buffer, kwds)\u001b[0m\n\u001b[1;32m    452\u001b[0m \u001b[0;34m\u001b[0m\u001b[0m\n\u001b[1;32m    453\u001b[0m     \u001b[0;31m# Create the parser.\u001b[0m\u001b[0;34m\u001b[0m\u001b[0;34m\u001b[0m\u001b[0;34m\u001b[0m\u001b[0m\n\u001b[0;32m--> 454\u001b[0;31m     \u001b[0mparser\u001b[0m \u001b[0;34m=\u001b[0m \u001b[0mTextFileReader\u001b[0m\u001b[0;34m(\u001b[0m\u001b[0mfp_or_buf\u001b[0m\u001b[0;34m,\u001b[0m \u001b[0;34m**\u001b[0m\u001b[0mkwds\u001b[0m\u001b[0;34m)\u001b[0m\u001b[0;34m\u001b[0m\u001b[0;34m\u001b[0m\u001b[0m\n\u001b[0m\u001b[1;32m    455\u001b[0m \u001b[0;34m\u001b[0m\u001b[0m\n\u001b[1;32m    456\u001b[0m     \u001b[0;32mif\u001b[0m \u001b[0mchunksize\u001b[0m \u001b[0;32mor\u001b[0m \u001b[0miterator\u001b[0m\u001b[0;34m:\u001b[0m\u001b[0;34m\u001b[0m\u001b[0;34m\u001b[0m\u001b[0m\n",
      "\u001b[0;32m/usr/local/lib/python3.7/dist-packages/pandas/io/parsers.py\u001b[0m in \u001b[0;36m__init__\u001b[0;34m(self, f, engine, **kwds)\u001b[0m\n\u001b[1;32m    946\u001b[0m             \u001b[0mself\u001b[0m\u001b[0;34m.\u001b[0m\u001b[0moptions\u001b[0m\u001b[0;34m[\u001b[0m\u001b[0;34m\"has_index_names\"\u001b[0m\u001b[0;34m]\u001b[0m \u001b[0;34m=\u001b[0m \u001b[0mkwds\u001b[0m\u001b[0;34m[\u001b[0m\u001b[0;34m\"has_index_names\"\u001b[0m\u001b[0;34m]\u001b[0m\u001b[0;34m\u001b[0m\u001b[0;34m\u001b[0m\u001b[0m\n\u001b[1;32m    947\u001b[0m \u001b[0;34m\u001b[0m\u001b[0m\n\u001b[0;32m--> 948\u001b[0;31m         \u001b[0mself\u001b[0m\u001b[0;34m.\u001b[0m\u001b[0m_make_engine\u001b[0m\u001b[0;34m(\u001b[0m\u001b[0mself\u001b[0m\u001b[0;34m.\u001b[0m\u001b[0mengine\u001b[0m\u001b[0;34m)\u001b[0m\u001b[0;34m\u001b[0m\u001b[0;34m\u001b[0m\u001b[0m\n\u001b[0m\u001b[1;32m    949\u001b[0m \u001b[0;34m\u001b[0m\u001b[0m\n\u001b[1;32m    950\u001b[0m     \u001b[0;32mdef\u001b[0m \u001b[0mclose\u001b[0m\u001b[0;34m(\u001b[0m\u001b[0mself\u001b[0m\u001b[0;34m)\u001b[0m\u001b[0;34m:\u001b[0m\u001b[0;34m\u001b[0m\u001b[0;34m\u001b[0m\u001b[0m\n",
      "\u001b[0;32m/usr/local/lib/python3.7/dist-packages/pandas/io/parsers.py\u001b[0m in \u001b[0;36m_make_engine\u001b[0;34m(self, engine)\u001b[0m\n\u001b[1;32m   1178\u001b[0m     \u001b[0;32mdef\u001b[0m \u001b[0m_make_engine\u001b[0m\u001b[0;34m(\u001b[0m\u001b[0mself\u001b[0m\u001b[0;34m,\u001b[0m \u001b[0mengine\u001b[0m\u001b[0;34m=\u001b[0m\u001b[0;34m\"c\"\u001b[0m\u001b[0;34m)\u001b[0m\u001b[0;34m:\u001b[0m\u001b[0;34m\u001b[0m\u001b[0;34m\u001b[0m\u001b[0m\n\u001b[1;32m   1179\u001b[0m         \u001b[0;32mif\u001b[0m \u001b[0mengine\u001b[0m \u001b[0;34m==\u001b[0m \u001b[0;34m\"c\"\u001b[0m\u001b[0;34m:\u001b[0m\u001b[0;34m\u001b[0m\u001b[0;34m\u001b[0m\u001b[0m\n\u001b[0;32m-> 1180\u001b[0;31m             \u001b[0mself\u001b[0m\u001b[0;34m.\u001b[0m\u001b[0m_engine\u001b[0m \u001b[0;34m=\u001b[0m \u001b[0mCParserWrapper\u001b[0m\u001b[0;34m(\u001b[0m\u001b[0mself\u001b[0m\u001b[0;34m.\u001b[0m\u001b[0mf\u001b[0m\u001b[0;34m,\u001b[0m \u001b[0;34m**\u001b[0m\u001b[0mself\u001b[0m\u001b[0;34m.\u001b[0m\u001b[0moptions\u001b[0m\u001b[0;34m)\u001b[0m\u001b[0;34m\u001b[0m\u001b[0;34m\u001b[0m\u001b[0m\n\u001b[0m\u001b[1;32m   1181\u001b[0m         \u001b[0;32melse\u001b[0m\u001b[0;34m:\u001b[0m\u001b[0;34m\u001b[0m\u001b[0;34m\u001b[0m\u001b[0m\n\u001b[1;32m   1182\u001b[0m             \u001b[0;32mif\u001b[0m \u001b[0mengine\u001b[0m \u001b[0;34m==\u001b[0m \u001b[0;34m\"python\"\u001b[0m\u001b[0;34m:\u001b[0m\u001b[0;34m\u001b[0m\u001b[0;34m\u001b[0m\u001b[0m\n",
      "\u001b[0;32m/usr/local/lib/python3.7/dist-packages/pandas/io/parsers.py\u001b[0m in \u001b[0;36m__init__\u001b[0;34m(self, src, **kwds)\u001b[0m\n\u001b[1;32m   2008\u001b[0m         \u001b[0mkwds\u001b[0m\u001b[0;34m[\u001b[0m\u001b[0;34m\"usecols\"\u001b[0m\u001b[0;34m]\u001b[0m \u001b[0;34m=\u001b[0m \u001b[0mself\u001b[0m\u001b[0;34m.\u001b[0m\u001b[0musecols\u001b[0m\u001b[0;34m\u001b[0m\u001b[0;34m\u001b[0m\u001b[0m\n\u001b[1;32m   2009\u001b[0m \u001b[0;34m\u001b[0m\u001b[0m\n\u001b[0;32m-> 2010\u001b[0;31m         \u001b[0mself\u001b[0m\u001b[0;34m.\u001b[0m\u001b[0m_reader\u001b[0m \u001b[0;34m=\u001b[0m \u001b[0mparsers\u001b[0m\u001b[0;34m.\u001b[0m\u001b[0mTextReader\u001b[0m\u001b[0;34m(\u001b[0m\u001b[0msrc\u001b[0m\u001b[0;34m,\u001b[0m \u001b[0;34m**\u001b[0m\u001b[0mkwds\u001b[0m\u001b[0;34m)\u001b[0m\u001b[0;34m\u001b[0m\u001b[0;34m\u001b[0m\u001b[0m\n\u001b[0m\u001b[1;32m   2011\u001b[0m         \u001b[0mself\u001b[0m\u001b[0;34m.\u001b[0m\u001b[0munnamed_cols\u001b[0m \u001b[0;34m=\u001b[0m \u001b[0mself\u001b[0m\u001b[0;34m.\u001b[0m\u001b[0m_reader\u001b[0m\u001b[0;34m.\u001b[0m\u001b[0munnamed_cols\u001b[0m\u001b[0;34m\u001b[0m\u001b[0;34m\u001b[0m\u001b[0m\n\u001b[1;32m   2012\u001b[0m \u001b[0;34m\u001b[0m\u001b[0m\n",
      "\u001b[0;32mpandas/_libs/parsers.pyx\u001b[0m in \u001b[0;36mpandas._libs.parsers.TextReader.__cinit__\u001b[0;34m()\u001b[0m\n",
      "\u001b[0;32mpandas/_libs/parsers.pyx\u001b[0m in \u001b[0;36mpandas._libs.parsers.TextReader._setup_parser_source\u001b[0;34m()\u001b[0m\n",
      "\u001b[0;31mFileNotFoundError\u001b[0m: [Errno 2] No such file or directory: 'packages.csv'"
     ]
    }
   ],
   "source": [
    "from tqdm import tqdm\n",
    "import pandas as pd\n",
    "\n",
    "nrows = 50000\n",
    "data = pd.read_csv('packages.csv', nrows=nrows)\n",
    "headlines = data['headline']\n",
    "test_ids = data['test_id']\n",
    "image_ids = data['image_id']\n",
    "impression_click_ratio = data['clicks'].divide(data['impressions'])\n",
    "first_place = data['first_place']\n",
    "\n",
    "# We only want to include the headline if it was changed whilst controls held constant. \n",
    "# If this is the case, then there will only be 1 instance of that headline in the headlines series, \n",
    "# and .get_loc() returns an integer location.\n",
    "headline_dict = {'picked':[], 'not_picked':[]} \n",
    "index = {'picked':[], 'not_picked':[]} \n",
    "for i, picked in tqdm(enumerate(first_place), total=nrows):\n",
    "  loc = pd.Index(headlines).get_loc(headlines[i]) \n",
    "  if type(loc) == int:\n",
    "    if picked == True:\n",
    "      index['picked'].append(loc)\n",
    "      headline_dict['picked'].append(headlines[i])\n",
    "    elif picked == False: \n",
    "      headline_dict['not_picked'].append(headlines[i])\n",
    "      index['not_picked'].append(loc)\n",
    "\n",
    "print()\n",
    "print(f\"Length of picked headlines array: {len(headline_dict['picked'])}\")\n",
    "print(f\"Length of not picked headlines array: {len(headline_dict['not_picked'])}\")"
   ]
  },
  {
   "cell_type": "code",
   "execution_count": null,
   "metadata": {
    "id": "xCEGRcuviwk1"
   },
   "outputs": [],
   "source": [
    "# Make sure that no headlines are in both, as this would cause false-classification.\n",
    "assert [statement not in headline_dict['not_picked'] for statement in headline_dict['picked']]"
   ]
  },
  {
   "cell_type": "markdown",
   "metadata": {
    "id": "GpxMcV1gnQmQ"
   },
   "source": [
    "**(BK 02/11) Trying to cluster 'Picked'/'Not picked' from headline content:** \n",
    "\n",
    "***!!NEED TO TURN FROM SUPERVISED CLASSIFICATION TO CLUSTERING!!*** \n",
    "\n",
    "***!!LEARNING TO JUST SAY NOT_PICKED!!***"
   ]
  },
  {
   "cell_type": "code",
   "execution_count": null,
   "metadata": {
    "id": "vVJ0NlTRni8A"
   },
   "outputs": [],
   "source": [
    "from sklearn.feature_extraction.text import CountVectorizer\n",
    "from sklearn.feature_extraction.text import TfidfTransformer\n",
    "from sklearn.pipeline import Pipeline\n",
    "from sklearn.linear_model import SGDClassifier\n",
    "\n",
    "# Build the pipeline for the sklearn classification:\n",
    "# 1. Vectorise the raw text stream input into a scipy sparse matrix for training\n",
    "# 2. Normalise the vectors to account for differences in feature length (headline length here) - i.e. greater vocab in longer texts\n",
    "# 3. Build the classifier (e.g. SVM) ready for normalised scipy sparse inputs to be passed through\n",
    "def build_pipeline(bigrams=False, trigrams=False, use_idf=True):\n",
    "        \n",
    "        if bigrams and not trigrams:\n",
    "            ngram_range = (1,2)\n",
    "        elif trigrams:\n",
    "            ngram_range = (1,3)\n",
    "        else:\n",
    "            ngram_range = (1,1)\n",
    "        \n",
    "        text_clf = Pipeline([('vect', CountVectorizer(ngram_range=ngram_range)),\n",
    "                                  ('tfidf', TfidfTransformer(use_idf=use_idf)),\n",
    "                                  ('clf', SGDClassifier(loss='hinge', penalty='l2', alpha=1e-3, random_state=42, max_iter=5, tol=None)),])\n",
    "        return text_clf"
   ]
  },
  {
   "cell_type": "code",
   "execution_count": null,
   "metadata": {
    "id": "zQtHwov8oF14"
   },
   "outputs": [],
   "source": [
    "frac = 0.8 # Fraction of data to train on (rest is held out for validation)\n",
    "input_features = []\n",
    "labels = []\n",
    "\n",
    "for feature in headline_dict['not_picked'][:int(frac * len(headline_dict['not_picked']))]:\n",
    "  input_features.append(feature)\n",
    "  labels.append(0)\n",
    "for feature in headline_dict['picked'][:int(frac * len(headline_dict['picked']))]:\n",
    "  input_features.append(feature)\n",
    "  labels.append(1)"
   ]
  },
  {
   "cell_type": "code",
   "execution_count": null,
   "metadata": {
    "colab": {
     "base_uri": "https://localhost:8080/"
    },
    "id": "TKDySgNVpD0n",
    "outputId": "00361f94-3b48-45c7-afc1-912a9191ec87"
   },
   "outputs": [
    {
     "data": {
      "text/plain": [
       "Pipeline(memory=None,\n",
       "         steps=[('vect',\n",
       "                 CountVectorizer(analyzer='word', binary=False,\n",
       "                                 decode_error='strict',\n",
       "                                 dtype=<class 'numpy.int64'>, encoding='utf-8',\n",
       "                                 input='content', lowercase=True, max_df=1.0,\n",
       "                                 max_features=None, min_df=1,\n",
       "                                 ngram_range=(1, 1), preprocessor=None,\n",
       "                                 stop_words=None, strip_accents=None,\n",
       "                                 token_pattern='(?u)\\\\b\\\\w\\\\w+\\\\b',\n",
       "                                 tokenizer=None, vocabulary=Non...\n",
       "                ('clf',\n",
       "                 SGDClassifier(alpha=0.001, average=False, class_weight=None,\n",
       "                               early_stopping=False, epsilon=0.1, eta0=0.0,\n",
       "                               fit_intercept=True, l1_ratio=0.15,\n",
       "                               learning_rate='optimal', loss='hinge',\n",
       "                               max_iter=5, n_iter_no_change=5, n_jobs=None,\n",
       "                               penalty='l2', power_t=0.5, random_state=42,\n",
       "                               shuffle=True, tol=None, validation_fraction=0.1,\n",
       "                               verbose=0, warm_start=False))],\n",
       "         verbose=False)"
      ]
     },
     "execution_count": 5,
     "metadata": {},
     "output_type": "execute_result"
    }
   ],
   "source": [
    "pipeline = build_pipeline()\n",
    "pipeline.fit(input_features, labels)"
   ]
  },
  {
   "cell_type": "code",
   "execution_count": null,
   "metadata": {
    "colab": {
     "base_uri": "https://localhost:8080/"
    },
    "id": "ZyCYercKtENq",
    "outputId": "7f2f4ea2-5e0b-4a8f-a98b-4f3dd55df97c"
   },
   "outputs": [
    {
     "name": "stdout",
     "output_type": "stream",
     "text": [
      "Accuracy is 81.4%\n"
     ]
    }
   ],
   "source": [
    "test_features = []\n",
    "labels = []\n",
    "for feature in headline_dict['not_picked'][int(frac * len(headline_dict['not_picked'])):]:\n",
    "  test_features.append(feature)\n",
    "  labels.append(0)\n",
    "for feature in headline_dict['picked'][int(frac * len(headline_dict['picked'])):]:\n",
    "  test_features.append(feature)\n",
    "  labels.append(1)\n",
    "\n",
    "test_results = pipeline.predict(test_features)\n",
    "\n",
    "true = []\n",
    "for i, result in enumerate(test_results):\n",
    "  if result == labels[i]: true.append(1)\n",
    "  else: true.append(0)\n",
    "\n",
    "print(f\"Accuracy is {100*sum(true)/len(true):.1f}%\")"
   ]
  },
  {
   "cell_type": "code",
   "execution_count": null,
   "metadata": {
    "id": "mXEeZ68ELZTL"
   },
   "outputs": [],
   "source": []
  },
  {
   "cell_type": "markdown",
   "metadata": {
    "id": "6Z6aYLyMAPan"
   },
   "source": [
    "**(BK 03/11) Using Doc2Vec for word embedding - training on the IMDB dataset**\n",
    "\n",
    "For memory reasons, I have run all code for Doc2Vec locally on my laptop, and will import results for plotting if they are promising."
   ]
  },
  {
   "cell_type": "markdown",
   "metadata": {
    "id": "-rCewxQjVZFc"
   },
   "source": [
    "**(BK 04/11) Looking at basic click-rate patterns**"
   ]
  },
  {
   "cell_type": "code",
   "execution_count": null,
   "metadata": {
    "id": "t1DQu2s7Vgk2"
   },
   "outputs": [],
   "source": [
    "rate = {'picked':[], 'not_picked':[]}\n",
    "for ind in index['picked']:\n",
    "  rate['picked'].append(data['clicks'][ind] / data['impressions'][ind])\n",
    "\n",
    "for ind in index['not_picked']:\n",
    "  rate['not_picked'].append(data['clicks'][ind] / data['impressions'][ind])\n",
    "\n",
    "assert len(rate['picked']) == len(headline_dict['picked'])"
   ]
  },
  {
   "cell_type": "code",
   "execution_count": null,
   "metadata": {
    "colab": {
     "base_uri": "https://localhost:8080/",
     "height": 295
    },
    "id": "VmAjiE1ZXurf",
    "outputId": "22230e9d-9594-462b-f7a7-b392a82b0ddb"
   },
   "outputs": [
    {
     "data": {
      "image/png": "[encoded data removed]",
      "text/plain": [
       "<Figure size 432x288 with 1 Axes>"
      ]
     },
     "metadata": {
      "needs_background": "light"
     },
     "output_type": "display_data"
    }
   ],
   "source": [
    "import matplotlib.pyplot as plt\n",
    "import numpy as np\n",
    "\n",
    "bins = 50\n",
    "plt.hist(np.array(rate['picked']), bins=bins, label='Picked', density=True, color='cyan', alpha=0.2)\n",
    "plt.hist(np.array(rate['not_picked']), bins=bins, label='Not picked', density=True, color='red', alpha=0.2)\n",
    "plt.legend()\n",
    "plt.xlabel('Click Rate')\n",
    "plt.ylabel('Number (Normalised)')\n",
    "plt.title('Click Rates of Picked/Non-Picked Headlines')\n",
    "plt.xlim(0,0.08)\n",
    "plt.show()"
   ]
  },
  {
   "cell_type": "code",
   "execution_count": null,
   "metadata": {
    "id": "1VHf-mNAaVPe"
   },
   "outputs": [],
   "source": []
  },
  {
   "cell_type": "markdown",
   "metadata": {
    "id": "EL-KvIsZLiFI"
   },
   "source": [
    "**MK 03/11 Exploratory Data Analysis**"
   ]
  },
  {
   "cell_type": "code",
   "execution_count": null,
   "metadata": {
    "id": "rXheCfyMLvD5"
   },
   "outputs": [],
   "source": [
    "import pandas as pd\n",
    "import os\n",
    "import matplotlib.pyplot as plt\n",
    "from collections import Counter\n",
    "from tqdm import tqdm\n",
    "import statistics"
   ]
  },
  {
   "cell_type": "code",
   "execution_count": null,
   "metadata": {
    "id": "aWRT5Xz5L8yN"
   },
   "outputs": [],
   "source": [
    "nrows=50000\n",
    "packageData = pd.read_csv('/content/drive/MyDrive/Datathon Materials/packages.csv', nrows=nrows)"
   ]
  },
  {
   "cell_type": "code",
   "execution_count": null,
   "metadata": {
    "colab": {
     "base_uri": "https://localhost:8080/",
     "height": 681
    },
    "id": "RrRxu1A_L86w",
    "outputId": "e60604e7-7091-48a3-8872-11c4ceaa97e2"
   },
   "outputs": [
    {
     "name": "stdout",
     "output_type": "stream",
     "text": [
      "<class 'pandas.core.frame.DataFrame'>\n",
      "RangeIndex: 50000 entries, 0 to 49999\n",
      "Data columns (total 14 columns):\n",
      " #   Column       Non-Null Count  Dtype \n",
      "---  ------       --------------  ----- \n",
      " 0   created_at   50000 non-null  object\n",
      " 1   test_week    50000 non-null  object\n",
      " 2   test_id      50000 non-null  object\n",
      " 3   headline     50000 non-null  object\n",
      " 4   image_id     49850 non-null  object\n",
      " 5   excerpt      42640 non-null  object\n",
      " 6   lede         49930 non-null  object\n",
      " 7   slug         50000 non-null  object\n",
      " 8   share_text   8014 non-null   object\n",
      " 9   share_image  13883 non-null  object\n",
      " 10  impressions  50000 non-null  int64 \n",
      " 11  clicks       50000 non-null  int64 \n",
      " 12  first_place  50000 non-null  bool  \n",
      " 13  winner       50000 non-null  bool  \n",
      "dtypes: bool(2), int64(2), object(10)\n",
      "memory usage: 4.7+ MB\n",
      "None\n"
     ]
    },
    {
     "data": {
      "text/html": [
       "<div>\n",
       "<style scoped>\n",
       "    .dataframe tbody tr th:only-of-type {\n",
       "        vertical-align: middle;\n",
       "    }\n",
       "\n",
       "    .dataframe tbody tr th {\n",
       "        vertical-align: top;\n",
       "    }\n",
       "\n",
       "    .dataframe thead th {\n",
       "        text-align: right;\n",
       "    }\n",
       "</style>\n",
       "<table border=\"1\" class=\"dataframe\">\n",
       "  <thead>\n",
       "    <tr style=\"text-align: right;\">\n",
       "      <th></th>\n",
       "      <th>impressions</th>\n",
       "      <th>clicks</th>\n",
       "    </tr>\n",
       "  </thead>\n",
       "  <tbody>\n",
       "    <tr>\n",
       "      <th>count</th>\n",
       "      <td>50000.000000</td>\n",
       "      <td>50000.000000</td>\n",
       "    </tr>\n",
       "    <tr>\n",
       "      <th>mean</th>\n",
       "      <td>3314.960460</td>\n",
       "      <td>47.672820</td>\n",
       "    </tr>\n",
       "    <tr>\n",
       "      <th>std</th>\n",
       "      <td>1310.229734</td>\n",
       "      <td>41.950565</td>\n",
       "    </tr>\n",
       "    <tr>\n",
       "      <th>min</th>\n",
       "      <td>13.000000</td>\n",
       "      <td>0.000000</td>\n",
       "    </tr>\n",
       "    <tr>\n",
       "      <th>25%</th>\n",
       "      <td>2543.000000</td>\n",
       "      <td>21.000000</td>\n",
       "    </tr>\n",
       "    <tr>\n",
       "      <th>50%</th>\n",
       "      <td>3029.000000</td>\n",
       "      <td>37.000000</td>\n",
       "    </tr>\n",
       "    <tr>\n",
       "      <th>75%</th>\n",
       "      <td>3691.000000</td>\n",
       "      <td>61.000000</td>\n",
       "    </tr>\n",
       "    <tr>\n",
       "      <th>max</th>\n",
       "      <td>25314.000000</td>\n",
       "      <td>975.000000</td>\n",
       "    </tr>\n",
       "  </tbody>\n",
       "</table>\n",
       "</div>"
      ],
      "text/plain": [
       "        impressions        clicks\n",
       "count  50000.000000  50000.000000\n",
       "mean    3314.960460     47.672820\n",
       "std     1310.229734     41.950565\n",
       "min       13.000000      0.000000\n",
       "25%     2543.000000     21.000000\n",
       "50%     3029.000000     37.000000\n",
       "75%     3691.000000     61.000000\n",
       "max    25314.000000    975.000000"
      ]
     },
     "metadata": {},
     "output_type": "display_data"
    }
   ],
   "source": [
    "## PACKAGE DATA SUMMARY STATISTICS\n",
    "\n",
    "# basic information about data frame\n",
    "print(packageData.info())\n",
    "# summarising numerical variables\n",
    "display(packageData.describe())"
   ]
  },
  {
   "cell_type": "code",
   "execution_count": null,
   "metadata": {
    "colab": {
     "base_uri": "https://localhost:8080/"
    },
    "id": "cqvslB5wn5XH",
    "outputId": "1a82863f-644b-4eb1-d55c-80fd4942e180"
   },
   "outputs": [
    {
     "name": "stdout",
     "output_type": "stream",
     "text": [
      "Percentage of headlines missing: % 0.0\n",
      "Percentage of image IDs missing: % 0.3\n"
     ]
    }
   ],
   "source": [
    "# checking percentage NaN values\n",
    "print('Percentage of headlines missing: %',(packageData['headline'].isnull().sum()*100)/len(packageData['headline']))\n",
    "print('Percentage of image IDs missing: %',(packageData['image_id'].isnull().sum()*100)/len(packageData['image_id']))"
   ]
  },
  {
   "cell_type": "code",
   "execution_count": null,
   "metadata": {
    "colab": {
     "base_uri": "https://localhost:8080/"
    },
    "id": "ncDmUHUBn5aE",
    "outputId": "0f88d196-a375-4fc6-9262-edf186695565"
   },
   "outputs": [
    {
     "name": "stdout",
     "output_type": "stream",
     "text": [
      "<class 'pandas.core.frame.DataFrame'>\n",
      "RangeIndex: 50000 entries, 0 to 49999\n",
      "Data columns (total 9 columns):\n",
      " #   Column       Non-Null Count  Dtype \n",
      "---  ------       --------------  ----- \n",
      " 0   created_at   50000 non-null  object\n",
      " 1   test_week    50000 non-null  object\n",
      " 2   test_id      50000 non-null  object\n",
      " 3   headline     50000 non-null  object\n",
      " 4   image_id     49850 non-null  object\n",
      " 5   impressions  50000 non-null  int64 \n",
      " 6   clicks       50000 non-null  int64 \n",
      " 7   first_place  50000 non-null  bool  \n",
      " 8   winner       50000 non-null  bool  \n",
      "dtypes: bool(2), int64(2), object(5)\n",
      "memory usage: 2.8+ MB\n",
      "None\n",
      "<class 'pandas.core.frame.DataFrame'>\n",
      "RangeIndex: 49850 entries, 0 to 49849\n",
      "Data columns (total 9 columns):\n",
      " #   Column       Non-Null Count  Dtype \n",
      "---  ------       --------------  ----- \n",
      " 0   created_at   49850 non-null  object\n",
      " 1   test_week    49850 non-null  object\n",
      " 2   test_id      49850 non-null  object\n",
      " 3   headline     49850 non-null  object\n",
      " 4   image_id     49850 non-null  object\n",
      " 5   impressions  49850 non-null  int64 \n",
      " 6   clicks       49850 non-null  int64 \n",
      " 7   first_place  49850 non-null  bool  \n",
      " 8   winner       49850 non-null  bool  \n",
      "dtypes: bool(2), int64(2), object(5)\n",
      "memory usage: 2.8+ MB\n",
      "None\n"
     ]
    }
   ],
   "source": [
    "# Subsetting columns of data frame to include only variables which will be used in our analysis\n",
    "packageData = packageData[['created_at', 'test_week', 'test_id', 'headline', 'image_id', 'impressions', 'clicks', 'first_place', 'winner']]\n",
    "print(packageData.info())\n",
    "# removing rows which contain NaN values\n",
    "packageData = packageData.dropna(axis=0, how='any').reset_index(drop=True)\n",
    "print(packageData.info())"
   ]
  },
  {
   "cell_type": "code",
   "execution_count": null,
   "metadata": {
    "colab": {
     "base_uri": "https://localhost:8080/",
     "height": 677
    },
    "id": "rucrc1BBn5co",
    "outputId": "f32abc7a-5d39-47a9-9eec-71bede4e06e0"
   },
   "outputs": [
    {
     "name": "stdout",
     "output_type": "stream",
     "text": [
      "Number of test conducted:  13909\n",
      "Mean:  3.584010353008843\n",
      "Median:  4.0\n",
      "Standard Deviation 1.7252519771636685\n",
      "\n",
      "Frequency Table: \n",
      "4     4304\n",
      "1     2281\n",
      "5     1925\n",
      "2     1823\n",
      "3     1702\n",
      "6     1456\n",
      "7      240\n",
      "8      117\n",
      "9       26\n",
      "10      14\n",
      "11      12\n",
      "12       4\n",
      "14       3\n",
      "15       1\n",
      "13       1\n",
      "dtype: int64\n"
     ]
    },
    {
     "data": {
      "image/png": "[encoded data removed]",
      "text/plain": [
       "<Figure size 432x288 with 1 Axes>"
      ]
     },
     "metadata": {
      "needs_background": "light"
     },
     "output_type": "display_data"
    }
   ],
   "source": [
    "## EXAMINING NUMBER OF TESTS AND NUMBER OF PACKAGES WITHIN A TEST\n",
    "\n",
    "noTests = packageData['test_id'].nunique()\n",
    "print('Number of test conducted: ', noTests)\n",
    "\n",
    "testCounts = pd.Series(Counter(packageData['test_id']).values())\n",
    "\n",
    "print('Mean: ', testCounts.mean())\n",
    "print('Median: ', testCounts.median())\n",
    "print('Standard Deviation', testCounts.std())\n",
    "print('\\nFrequency Table: ')\n",
    "print(testCounts.value_counts())\n",
    "plt.hist(testCounts)\n",
    "plt.xlabel('Number of Packages')\n",
    "plt.ylabel('Frequency')\n",
    "plt.title('No. of Packages within a Test')\n",
    "plt.show()"
   ]
  },
  {
   "cell_type": "code",
   "execution_count": null,
   "metadata": {
    "colab": {
     "base_uri": "https://localhost:8080/"
    },
    "id": "Brundb7Nn5fu",
    "outputId": "86c6dc27-8ddf-4045-ae78-14a608e68e91"
   },
   "outputs": [
    {
     "name": "stdout",
     "output_type": "stream",
     "text": [
      "images are used 2.616 times on average\n"
     ]
    }
   ],
   "source": [
    "## DETERMINING HOW OFTEN IMAGES ARE USED ON AVERAGE\n",
    "\n",
    "timesUsed = round(len(packageData['image_id'])/packageData['image_id'].nunique(), 3)\n",
    "print('images are used {} times on average'.format(timesUsed))"
   ]
  },
  {
   "cell_type": "markdown",
   "metadata": {
    "id": "2aq8elyToYYJ"
   },
   "source": [
    "We need to determine how many distinct headlines within a test have the same image, as these are the only ones we can directly compare to investigate our chosen treatment effect. Is there more than two distinct headlines?  Also, is there pseudoreplication/duplication in the data. That is, are there packages which have the same headline and image as another package. An average of the pseudoreplicates will be need replace them. Also, if this happens a lot we might be able to examine the variance in click rate for the same package. This in turn could be used to test if packages which have the treatment effect are significantly different from other packages."
   ]
  },
  {
   "cell_type": "code",
   "execution_count": null,
   "metadata": {
    "colab": {
     "base_uri": "https://localhost:8080/"
    },
    "id": "W6c81ePkn5ip",
    "outputId": "bb6f2f29-f7a2-4a9a-b602-ae4337a6f619"
   },
   "outputs": [
    {
     "name": "stderr",
     "output_type": "stream",
     "text": [
      "100%|██████████| 13909/13909 [01:47<00:00, 129.12it/s]\n"
     ]
    }
   ],
   "source": [
    "## SUMARISING INDIVIDUAL TESTS\n",
    "\n",
    "# creating dictionary to store information about individual tests\n",
    "testDic = {}\n",
    "# extraction list of unique test IDs\n",
    "uniqueTestIDs = Counter(packageData['test_id']).keys()\n",
    "\n",
    "# looping through tests, extracting relevant information about them, and adding this to testDic\n",
    "for testID in tqdm(uniqueTestIDs):\n",
    "    testDic[testID] = []\n",
    "    packagesInTest =  packageData[packageData['test_id'] == testID]\n",
    "    # storing indexes of packages so we can subset them from main dataframe\n",
    "    testDic[testID].append(packagesInTest.index)\n",
    "    # recording the number of times each image appears within a test\n",
    "    testDic[testID].append(Counter(packagesInTest['image_id']).values())\n",
    "    # Grouping Images by headline to identify duplicates\n",
    "    duplicates = packagesInTest.groupby(['headline','image_id'], as_index = False).size()['size']\n",
    "    #duplicates = packagesInTest.pivot_table(columns=['image_id','headline'], aggfunc='size').values\n",
    "    testDic[testID].append(duplicates)"
   ]
  },
  {
   "cell_type": "code",
   "execution_count": null,
   "metadata": {
    "colab": {
     "base_uri": "https://localhost:8080/"
    },
    "id": "Fv-s6hoqn5mn",
    "outputId": "67ad7047-11df-4449-a637-c4a39d95c1c1"
   },
   "outputs": [
    {
     "name": "stderr",
     "output_type": "stream",
     "text": [
      "100%|██████████| 13909/13909 [00:03<00:00, 4235.44it/s]\n"
     ]
    },
    {
     "name": "stdout",
     "output_type": "stream",
     "text": [
      "Total number of redundant packages:  6734\n"
     ]
    },
    {
     "name": "stderr",
     "output_type": "stream",
     "text": [
      "100%|██████████| 13909/13909 [00:03<00:00, 3513.66it/s]"
     ]
    },
    {
     "name": "stdout",
     "output_type": "stream",
     "text": [
      "Most Common Duplicate Structures:\n",
      " [('[3]', 725), ('[4]', 350), ('[1]', 330), ('[2]', 297), ('[5]', 211), ('[1 1]', 55), ('[2 0]', 41), ('[6]', 35), ('[0 2]', 32), ('[1 0]', 29)]\n"
     ]
    },
    {
     "name": "stderr",
     "output_type": "stream",
     "text": [
      "\n"
     ]
    }
   ],
   "source": [
    "# Determining total number of redundant packages\n",
    "TotReplicates = 0\n",
    "for test in tqdm(testDic):\n",
    "  TotReplicates += testDic[test][2].subtract(1).sum()\n",
    "\n",
    "print('Total number of redundant packages: ', TotReplicates)\n",
    "\n",
    "# Examining structure of replicates\n",
    "NumReplicates = []\n",
    "for test in tqdm(testDic):\n",
    "  if (testDic[test][2].subtract(1).sum() > 0):\n",
    "    NumReplicates.append(str(testDic[test][2].subtract(1).values))\n",
    "\n",
    "print('Most Common Duplicate Structures:\\n', Counter(NumReplicates).most_common(10))"
   ]
  },
  {
   "cell_type": "markdown",
   "metadata": {
    "id": "ypnyF_nidDUO"
   },
   "source": [
    "- There are 6846 test structures which contain replication"
   ]
  },
  {
   "cell_type": "markdown",
   "metadata": {
    "id": "euWElXBxYv7z"
   },
   "source": [
    "### Analysis Variance and Distribution of Click-Rate"
   ]
  },
  {
   "cell_type": "markdown",
   "metadata": {
    "id": "QafoGbDTSBqo"
   },
   "source": [
    "Since we have got repeated observations, we can investigate the population variance in package-click rate"
   ]
  },
  {
   "cell_type": "code",
   "execution_count": null,
   "metadata": {
    "colab": {
     "base_uri": "https://localhost:8080/"
    },
    "id": "QNKObziESFMU",
    "outputId": "c68ab86a-d4c1-4517-a0f6-943f9e6d6508"
   },
   "outputs": [
    {
     "name": "stderr",
     "output_type": "stream",
     "text": [
      "100%|██████████| 13909/13909 [01:22<00:00, 169.48it/s]\n"
     ]
    }
   ],
   "source": [
    "## Extracting package ID for replicated values\n",
    "\n",
    "RepID = {}\n",
    "\n",
    "uniqueTestIDs = Counter(packageData['test_id']).keys()\n",
    "for testID in tqdm(uniqueTestIDs):\n",
    "    packagesInTest =  packageData[packageData['test_id'] == testID]\n",
    "    withoutDuplicatesIndex = packagesInTest.drop_duplicates(subset=['headline', 'image_id'], keep=False).index.values\n",
    "    duplicatesIndex = packagesInTest.index.drop(withoutDuplicatesIndex)\n",
    "    RepID[testID] = duplicatesIndex.values"
   ]
  },
  {
   "cell_type": "markdown",
   "metadata": {
    "id": "-ZEusjh6SNHS"
   },
   "source": [
    "__Assumption: The distribution of click-rate for any given package is identical__\n",
    "\n",
    "Under this assumption, we can use a pooled variance to estimate the population variance $\\sigma^2$\n",
    "See: https://en.wikipedia.org/wiki/Pooled_variance for formula details"
   ]
  },
  {
   "cell_type": "code",
   "execution_count": null,
   "metadata": {
    "colab": {
     "base_uri": "https://localhost:8080/"
    },
    "id": "G2Hmp9R1SOAX",
    "outputId": "ac9e2267-e4c8-40b5-8912-3e967a1b0edb"
   },
   "outputs": [
    {
     "name": "stderr",
     "output_type": "stream",
     "text": [
      "100%|██████████| 13909/13909 [00:04<00:00, 3375.49it/s]"
     ]
    },
    {
     "name": "stdout",
     "output_type": "stream",
     "text": [
      "Estimated Pooled Variance:  1.2263551091851131e-05\n"
     ]
    },
    {
     "name": "stderr",
     "output_type": "stream",
     "text": [
      "\n"
     ]
    }
   ],
   "source": [
    "## CALCULATING VARIANCE OF CLICKRATE\n",
    "\n",
    "packageData['clickrate'] = packageData[\"clicks\"]/packageData[\"impressions\"]\n",
    "\n",
    "Numerator = 0\n",
    "Denominator = 0\n",
    "k = 0\n",
    "uniqueTestIDs = Counter(packageData['test_id']).keys()\n",
    "for testID in tqdm(uniqueTestIDs):\n",
    "    if (len(RepID[testID]) > 0):\n",
    "        duplicates = packageData.iloc[RepID[testID], ]\n",
    "        groupedDuplicates = duplicates.groupby(['headline'])\n",
    "        for headline in Counter(duplicates['headline']).keys():\n",
    "            rate = groupedDuplicates.get_group(headline)['clickrate']\n",
    "            if (len(rate) > 1):\n",
    "                k += 1\n",
    "                Denominator += len(rate)\n",
    "                Numerator += (len(rate) - 1) * statistics.variance(rate)\n",
    "\n",
    "pooledSampleVar = Numerator/(Denominator - k)\n",
    "print('Estimated Pooled Variance: ', pooledSampleVar)"
   ]
  },
  {
   "cell_type": "code",
   "execution_count": null,
   "metadata": {
    "colab": {
     "base_uri": "https://localhost:8080/",
     "height": 283
    },
    "id": "lDBRKNfeXxRd",
    "outputId": "e2d43298-8a83-4099-f7b5-08de99e30e91"
   },
   "outputs": [
    {
     "name": "stderr",
     "output_type": "stream",
     "text": [
      "100%|██████████| 13909/13909 [00:01<00:00, 11703.90it/s]\n"
     ]
    },
    {
     "data": {
      "image/png": "[encoded data removed]",
      "text/plain": [
       "<Figure size 432x288 with 1 Axes>"
      ]
     },
     "metadata": {
      "needs_background": "light"
     },
     "output_type": "display_data"
    }
   ],
   "source": [
    "## DISTRIBUTION OF CLICK RATE\n",
    "\n",
    "rates = []\n",
    "uniqueTestIDs = Counter(packageData['test_id']).keys()\n",
    "for testID in tqdm(uniqueTestIDs):\n",
    "    if (len(RepID[testID]) > 0):\n",
    "        rates.extend(packageData.iloc[RepID[testID], ]['clickrate'].values)\n",
    "plt.hist(rates, bins=150)\n",
    "plt.show()"
   ]
  },
  {
   "cell_type": "markdown",
   "metadata": {
    "id": "gyScMVxYtuT6"
   },
   "source": [
    "**AS 03/11 Exploratory Data Analysis**"
   ]
  },
  {
   "cell_type": "markdown",
   "metadata": {
    "id": "m6Ff-LYlgs5M"
   },
   "source": [
    "## Exploratory Data Analysis"
   ]
  },
  {
   "cell_type": "code",
   "execution_count": null,
   "metadata": {
    "id": "QjOKSE-00gsp"
   },
   "outputs": [],
   "source": [
    "import numpy as np\n",
    "import pandas as pd\n",
    "import matplotlib.pyplot as plt\n",
    "import seaborn as sns\n",
    "\n",
    "import statsmodels.api as sm\n",
    "import statsmodels.formula.api as smf\n",
    "\n"
   ]
  },
  {
   "cell_type": "code",
   "execution_count": null,
   "metadata": {
    "colab": {
     "base_uri": "https://localhost:8080/",
     "height": 374
    },
    "id": "rNwwPyUZK4KE",
    "outputId": "e2906e3a-7479-4831-cd5e-cd5a17ac71e3"
   },
   "outputs": [
    {
     "data": {
      "text/html": [
       "<div>\n",
       "<style scoped>\n",
       "    .dataframe tbody tr th:only-of-type {\n",
       "        vertical-align: middle;\n",
       "    }\n",
       "\n",
       "    .dataframe tbody tr th {\n",
       "        vertical-align: top;\n",
       "    }\n",
       "\n",
       "    .dataframe thead th {\n",
       "        text-align: right;\n",
       "    }\n",
       "</style>\n",
       "<table border=\"1\" class=\"dataframe\">\n",
       "  <thead>\n",
       "    <tr style=\"text-align: right;\">\n",
       "      <th></th>\n",
       "      <th>created_at</th>\n",
       "      <th>test_week</th>\n",
       "      <th>test_id</th>\n",
       "      <th>headline</th>\n",
       "      <th>image_id</th>\n",
       "      <th>excerpt</th>\n",
       "      <th>lede</th>\n",
       "      <th>slug</th>\n",
       "      <th>share_text</th>\n",
       "      <th>share_image</th>\n",
       "      <th>impressions</th>\n",
       "      <th>clicks</th>\n",
       "      <th>first_place</th>\n",
       "      <th>winner</th>\n",
       "      <th>clickrate</th>\n",
       "    </tr>\n",
       "  </thead>\n",
       "  <tbody>\n",
       "    <tr>\n",
       "      <th>0</th>\n",
       "      <td>2014-11-20</td>\n",
       "      <td>2014-11-17</td>\n",
       "      <td>546d88fb84ad38b2ce000024</td>\n",
       "      <td>They're Being Called 'Walmart's Worst Nightmar...</td>\n",
       "      <td>546d6fa19ad54eec8d00002d</td>\n",
       "      <td>Things that matter. Pass 'em on.</td>\n",
       "      <td>&lt;p&gt;When I saw *why* people are calling them \"W...</td>\n",
       "      <td>theyre-being-called-walmarts-worst-nightmare-a...</td>\n",
       "      <td>Anyone who's ever felt guilty about shopping a...</td>\n",
       "      <td>NaN</td>\n",
       "      <td>3052</td>\n",
       "      <td>150</td>\n",
       "      <td>True</td>\n",
       "      <td>True</td>\n",
       "      <td>0.049148</td>\n",
       "    </tr>\n",
       "    <tr>\n",
       "      <th>1</th>\n",
       "      <td>2014-11-20</td>\n",
       "      <td>2014-11-17</td>\n",
       "      <td>546d88fb84ad38b2ce000024</td>\n",
       "      <td>They're Being Called 'Walmart's Worst Nightmar...</td>\n",
       "      <td>546d6fa19ad54eec8d00002d</td>\n",
       "      <td>Things that matter. Pass 'em on.</td>\n",
       "      <td>&lt;p&gt;When I saw *why* people are calling them \"W...</td>\n",
       "      <td>theyre-being-called-walmarts-worst-nightmare-a...</td>\n",
       "      <td>Walmart is getting schooled by another retaile...</td>\n",
       "      <td>NaN</td>\n",
       "      <td>3033</td>\n",
       "      <td>122</td>\n",
       "      <td>False</td>\n",
       "      <td>False</td>\n",
       "      <td>0.040224</td>\n",
       "    </tr>\n",
       "    <tr>\n",
       "      <th>2</th>\n",
       "      <td>2014-11-20</td>\n",
       "      <td>2014-11-17</td>\n",
       "      <td>546d88fb84ad38b2ce000024</td>\n",
       "      <td>They're Being Called 'Walmart's Worst Nightmar...</td>\n",
       "      <td>546d6fa19ad54eec8d00002d</td>\n",
       "      <td>Things that matter. Pass 'em on.</td>\n",
       "      <td>&lt;p&gt;When I saw *why* people are calling them \"W...</td>\n",
       "      <td>theyre-being-called-walmarts-worst-nightmare-a...</td>\n",
       "      <td>Walmart may not be crapping their pants over t...</td>\n",
       "      <td>NaN</td>\n",
       "      <td>3092</td>\n",
       "      <td>110</td>\n",
       "      <td>False</td>\n",
       "      <td>False</td>\n",
       "      <td>0.035576</td>\n",
       "    </tr>\n",
       "    <tr>\n",
       "      <th>3</th>\n",
       "      <td>2014-11-20</td>\n",
       "      <td>2014-11-17</td>\n",
       "      <td>546d902c26714c6c44000039</td>\n",
       "      <td>This Is What Sexism Against Men Sounds Like</td>\n",
       "      <td>546bc55335992b86c8000043</td>\n",
       "      <td>Things that matter. Pass 'em on.</td>\n",
       "      <td>&lt;p&gt;DISCLOSURE: I'm a dude. I have cried on mul...</td>\n",
       "      <td>this-is-what-sexism-against-men-sounds-like-am...</td>\n",
       "      <td>If you ever wondered, \"but what about the men?...</td>\n",
       "      <td>NaN</td>\n",
       "      <td>3526</td>\n",
       "      <td>90</td>\n",
       "      <td>False</td>\n",
       "      <td>False</td>\n",
       "      <td>0.025525</td>\n",
       "    </tr>\n",
       "    <tr>\n",
       "      <th>4</th>\n",
       "      <td>2014-11-20</td>\n",
       "      <td>2014-11-17</td>\n",
       "      <td>546d902c26714c6c44000039</td>\n",
       "      <td>This Is What Sexism Against Men Sounds Like</td>\n",
       "      <td>546d900426714cd2dd00002e</td>\n",
       "      <td>Things that matter. Pass 'em on.</td>\n",
       "      <td>&lt;p&gt;DISCLOSURE: I'm a dude. I have cried on mul...</td>\n",
       "      <td>this-is-what-sexism-against-men-sounds-like-am...</td>\n",
       "      <td>If you ever wondered, \"but what about the men?...</td>\n",
       "      <td>NaN</td>\n",
       "      <td>3506</td>\n",
       "      <td>120</td>\n",
       "      <td>True</td>\n",
       "      <td>False</td>\n",
       "      <td>0.034227</td>\n",
       "    </tr>\n",
       "  </tbody>\n",
       "</table>\n",
       "</div>"
      ],
      "text/plain": [
       "   created_at   test_week  ... winner clickrate\n",
       "0  2014-11-20  2014-11-17  ...   True  0.049148\n",
       "1  2014-11-20  2014-11-17  ...  False  0.040224\n",
       "2  2014-11-20  2014-11-17  ...  False  0.035576\n",
       "3  2014-11-20  2014-11-17  ...  False  0.025525\n",
       "4  2014-11-20  2014-11-17  ...  False  0.034227\n",
       "\n",
       "[5 rows x 15 columns]"
      ]
     },
     "execution_count": 62,
     "metadata": {},
     "output_type": "execute_result"
    }
   ],
   "source": [
    "packages.head()"
   ]
  },
  {
   "cell_type": "markdown",
   "metadata": {
    "id": "IwE4su6Jg_r3"
   },
   "source": [
    "Let's create a new float column clickrate "
   ]
  },
  {
   "cell_type": "code",
   "execution_count": null,
   "metadata": {
    "id": "Hey_DK3CVyr9"
   },
   "outputs": [],
   "source": [
    "packages[\"clickrate\"] = packages[\"clicks\"]/packages[\"impressions\"]"
   ]
  },
  {
   "cell_type": "code",
   "execution_count": null,
   "metadata": {
    "colab": {
     "base_uri": "https://localhost:8080/",
     "height": 297
    },
    "id": "Vc5Vr2oBIPMp",
    "outputId": "4d1ff528-0337-49be-d5ff-d52bb07368ba"
   },
   "outputs": [
    {
     "data": {
      "text/html": [
       "<div>\n",
       "<style scoped>\n",
       "    .dataframe tbody tr th:only-of-type {\n",
       "        vertical-align: middle;\n",
       "    }\n",
       "\n",
       "    .dataframe tbody tr th {\n",
       "        vertical-align: top;\n",
       "    }\n",
       "\n",
       "    .dataframe thead th {\n",
       "        text-align: right;\n",
       "    }\n",
       "</style>\n",
       "<table border=\"1\" class=\"dataframe\">\n",
       "  <thead>\n",
       "    <tr style=\"text-align: right;\">\n",
       "      <th></th>\n",
       "      <th>impressions</th>\n",
       "      <th>clicks</th>\n",
       "      <th>clickrate</th>\n",
       "    </tr>\n",
       "  </thead>\n",
       "  <tbody>\n",
       "    <tr>\n",
       "      <th>count</th>\n",
       "      <td>150817.000000</td>\n",
       "      <td>150817.000000</td>\n",
       "      <td>150817.000000</td>\n",
       "    </tr>\n",
       "    <tr>\n",
       "      <th>mean</th>\n",
       "      <td>3569.046447</td>\n",
       "      <td>54.255648</td>\n",
       "      <td>0.015789</td>\n",
       "    </tr>\n",
       "    <tr>\n",
       "      <th>std</th>\n",
       "      <td>1435.995922</td>\n",
       "      <td>45.521282</td>\n",
       "      <td>0.012371</td>\n",
       "    </tr>\n",
       "    <tr>\n",
       "      <th>min</th>\n",
       "      <td>1.000000</td>\n",
       "      <td>0.000000</td>\n",
       "      <td>0.000000</td>\n",
       "    </tr>\n",
       "    <tr>\n",
       "      <th>25%</th>\n",
       "      <td>2745.000000</td>\n",
       "      <td>25.000000</td>\n",
       "      <td>0.007458</td>\n",
       "    </tr>\n",
       "    <tr>\n",
       "      <th>50%</th>\n",
       "      <td>3117.000000</td>\n",
       "      <td>42.000000</td>\n",
       "      <td>0.012509</td>\n",
       "    </tr>\n",
       "    <tr>\n",
       "      <th>75%</th>\n",
       "      <td>4089.000000</td>\n",
       "      <td>70.000000</td>\n",
       "      <td>0.020386</td>\n",
       "    </tr>\n",
       "    <tr>\n",
       "      <th>max</th>\n",
       "      <td>36908.000000</td>\n",
       "      <td>975.000000</td>\n",
       "      <td>0.183401</td>\n",
       "    </tr>\n",
       "  </tbody>\n",
       "</table>\n",
       "</div>"
      ],
      "text/plain": [
       "         impressions         clicks      clickrate\n",
       "count  150817.000000  150817.000000  150817.000000\n",
       "mean     3569.046447      54.255648       0.015789\n",
       "std      1435.995922      45.521282       0.012371\n",
       "min         1.000000       0.000000       0.000000\n",
       "25%      2745.000000      25.000000       0.007458\n",
       "50%      3117.000000      42.000000       0.012509\n",
       "75%      4089.000000      70.000000       0.020386\n",
       "max     36908.000000     975.000000       0.183401"
      ]
     },
     "execution_count": 60,
     "metadata": {},
     "output_type": "execute_result"
    }
   ],
   "source": [
    "packages.describe()"
   ]
  },
  {
   "cell_type": "code",
   "execution_count": null,
   "metadata": {
    "colab": {
     "base_uri": "https://localhost:8080/"
    },
    "id": "I6DhzhUJEdyh",
    "outputId": "9811011b-12a1-495b-c6e2-fea4a909f107"
   },
   "outputs": [
    {
     "data": {
      "text/plain": [
       "created_at          0\n",
       "test_week           0\n",
       "test_id             0\n",
       "headline            1\n",
       "image_id          181\n",
       "excerpt         16027\n",
       "lede              104\n",
       "slug                0\n",
       "share_text     129917\n",
       "share_image    101017\n",
       "impressions         0\n",
       "clicks              0\n",
       "first_place         0\n",
       "winner              0\n",
       "clickrate           0\n",
       "dtype: int64"
      ]
     },
     "execution_count": 57,
     "metadata": {},
     "output_type": "execute_result"
    }
   ],
   "source": [
    "packages.isna().sum()"
   ]
  },
  {
   "cell_type": "markdown",
   "metadata": {
    "id": "HZTmyQIgbZx4"
   },
   "source": [
    "There are only 5716 first place winners out of 7664 winners and 32122 first places. Roughly 75% of all winners are also listed on first place. What could be the reason that so many first place packages were not selected as winners i.e. that there are far fewer winners than first places."
   ]
  },
  {
   "cell_type": "code",
   "execution_count": null,
   "metadata": {
    "colab": {
     "base_uri": "https://localhost:8080/"
    },
    "id": "ALzCm6r-WLVl",
    "outputId": "ce246454-bccc-4d64-8856-4c837a53f376"
   },
   "outputs": [
    {
     "data": {
      "text/plain": [
       "first_place    32122\n",
       "winner          7664\n",
       "dtype: int64"
      ]
     },
     "execution_count": 10,
     "metadata": {},
     "output_type": "execute_result"
    }
   ],
   "source": [
    "packages.loc[:,(\"first_place\",\"winner\")].sum()"
   ]
  },
  {
   "cell_type": "code",
   "execution_count": null,
   "metadata": {
    "colab": {
     "base_uri": "https://localhost:8080/",
     "height": 297
    },
    "id": "Hqhr_DgtWMos",
    "outputId": "2da8e577-c782-4aa6-b803-b6d202988c41"
   },
   "outputs": [
    {
     "data": {
      "text/html": [
       "<div>\n",
       "<style scoped>\n",
       "    .dataframe tbody tr th:only-of-type {\n",
       "        vertical-align: middle;\n",
       "    }\n",
       "\n",
       "    .dataframe tbody tr th {\n",
       "        vertical-align: top;\n",
       "    }\n",
       "\n",
       "    .dataframe thead th {\n",
       "        text-align: right;\n",
       "    }\n",
       "</style>\n",
       "<table border=\"1\" class=\"dataframe\">\n",
       "  <thead>\n",
       "    <tr style=\"text-align: right;\">\n",
       "      <th></th>\n",
       "      <th>impressions</th>\n",
       "      <th>clicks</th>\n",
       "      <th>clickrate</th>\n",
       "      <th>index</th>\n",
       "    </tr>\n",
       "  </thead>\n",
       "  <tbody>\n",
       "    <tr>\n",
       "      <th>count</th>\n",
       "      <td>5716.000000</td>\n",
       "      <td>5716.000000</td>\n",
       "      <td>5716.000000</td>\n",
       "      <td>5716.000000</td>\n",
       "    </tr>\n",
       "    <tr>\n",
       "      <th>mean</th>\n",
       "      <td>3607.888034</td>\n",
       "      <td>84.818754</td>\n",
       "      <td>0.024348</td>\n",
       "      <td>77182.578202</td>\n",
       "    </tr>\n",
       "    <tr>\n",
       "      <th>std</th>\n",
       "      <td>1520.212110</td>\n",
       "      <td>62.591825</td>\n",
       "      <td>0.015587</td>\n",
       "      <td>43236.321859</td>\n",
       "    </tr>\n",
       "    <tr>\n",
       "      <th>min</th>\n",
       "      <td>194.000000</td>\n",
       "      <td>2.000000</td>\n",
       "      <td>0.000437</td>\n",
       "      <td>0.000000</td>\n",
       "    </tr>\n",
       "    <tr>\n",
       "      <th>25%</th>\n",
       "      <td>2723.000000</td>\n",
       "      <td>45.000000</td>\n",
       "      <td>0.013853</td>\n",
       "      <td>50008.750000</td>\n",
       "    </tr>\n",
       "    <tr>\n",
       "      <th>50%</th>\n",
       "      <td>3097.000000</td>\n",
       "      <td>69.000000</td>\n",
       "      <td>0.020544</td>\n",
       "      <td>74652.000000</td>\n",
       "    </tr>\n",
       "    <tr>\n",
       "      <th>75%</th>\n",
       "      <td>4100.250000</td>\n",
       "      <td>107.000000</td>\n",
       "      <td>0.030577</td>\n",
       "      <td>119527.000000</td>\n",
       "    </tr>\n",
       "    <tr>\n",
       "      <th>max</th>\n",
       "      <td>18038.000000</td>\n",
       "      <td>933.000000</td>\n",
       "      <td>0.136712</td>\n",
       "      <td>150784.000000</td>\n",
       "    </tr>\n",
       "  </tbody>\n",
       "</table>\n",
       "</div>"
      ],
      "text/plain": [
       "        impressions       clicks    clickrate          index\n",
       "count   5716.000000  5716.000000  5716.000000    5716.000000\n",
       "mean    3607.888034    84.818754     0.024348   77182.578202\n",
       "std     1520.212110    62.591825     0.015587   43236.321859\n",
       "min      194.000000     2.000000     0.000437       0.000000\n",
       "25%     2723.000000    45.000000     0.013853   50008.750000\n",
       "50%     3097.000000    69.000000     0.020544   74652.000000\n",
       "75%     4100.250000   107.000000     0.030577  119527.000000\n",
       "max    18038.000000   933.000000     0.136712  150784.000000"
      ]
     },
     "execution_count": 96,
     "metadata": {},
     "output_type": "execute_result"
    }
   ],
   "source": [
    "packages[packages.first_place.eq(True) & packages.winner.eq(True)].describe()"
   ]
  },
  {
   "cell_type": "code",
   "execution_count": null,
   "metadata": {
    "id": "FX7uKoRfMKt3"
   },
   "outputs": [],
   "source": [
    "#packages[\"index\"]= packages.index"
   ]
  },
  {
   "cell_type": "code",
   "execution_count": null,
   "metadata": {
    "id": "IOiND3q_LVIw"
   },
   "outputs": [],
   "source": [
    "# index = pd.MultiIndex.from_arrays(arrays, names=[\"test_id\", \"index\"])\n",
    "# packages.set_index([\"test_id\",\"index\"]).sort_index()"
   ]
  },
  {
   "cell_type": "markdown",
   "metadata": {
    "id": "R1fffmCccqJR"
   },
   "source": [
    "How many of the first places had the highest clickrate?"
   ]
  },
  {
   "cell_type": "code",
   "execution_count": null,
   "metadata": {
    "id": "STWqb1lSbpnO"
   },
   "outputs": [],
   "source": [
    "highest_clickrate = packages.groupby([\"test_id\"], sort=False)[\"clickrate\"].transform(max) == packages[\"clickrate\"] \n",
    "packages[\"highest_clickrate\"] = highest_clickrate"
   ]
  },
  {
   "cell_type": "markdown",
   "metadata": {
    "id": "Q5OX6ZtqE1P2"
   },
   "source": [
    "We see that highest_clickrate and first place are not exactly the same, 32510 test_ids have a highest_clickrate, but only 32122 have a first_place"
   ]
  },
  {
   "cell_type": "code",
   "execution_count": null,
   "metadata": {
    "colab": {
     "base_uri": "https://localhost:8080/"
    },
    "id": "PHsM4WqQAWdJ",
    "outputId": "0c233008-6a73-4747-ba4d-2c736fd9c77b"
   },
   "outputs": [
    {
     "data": {
      "text/plain": [
       "32510"
      ]
     },
     "execution_count": 85,
     "metadata": {},
     "output_type": "execute_result"
    }
   ],
   "source": [
    "sum(highest_clickrate)"
   ]
  },
  {
   "cell_type": "markdown",
   "metadata": {
    "id": "dkqxIepYgZd2"
   },
   "source": [
    "Can we find out what those packages have in common that achieved the highest clickrate, but are not labeled as first_place?"
   ]
  },
  {
   "cell_type": "code",
   "execution_count": null,
   "metadata": {
    "id": "le99byBdEWl5"
   },
   "outputs": [],
   "source": [
    "packages[packages.highest_clickrate.eq(True) & packages.first_place.eq(False)]"
   ]
  },
  {
   "cell_type": "code",
   "execution_count": null,
   "metadata": {
    "colab": {
     "base_uri": "https://localhost:8080/",
     "height": 445
    },
    "id": "t277K42SQ40N",
    "outputId": "2e57bcd5-527b-4dd4-fe87-f7c2d9092977"
   },
   "outputs": [
    {
     "data": {
      "text/html": [
       "<div>\n",
       "<style scoped>\n",
       "    .dataframe tbody tr th:only-of-type {\n",
       "        vertical-align: middle;\n",
       "    }\n",
       "\n",
       "    .dataframe tbody tr th {\n",
       "        vertical-align: top;\n",
       "    }\n",
       "\n",
       "    .dataframe thead th {\n",
       "        text-align: right;\n",
       "    }\n",
       "</style>\n",
       "<table border=\"1\" class=\"dataframe\">\n",
       "  <thead>\n",
       "    <tr style=\"text-align: right;\">\n",
       "      <th></th>\n",
       "      <th>created_at</th>\n",
       "      <th>test_week</th>\n",
       "      <th>test_id</th>\n",
       "      <th>headline</th>\n",
       "      <th>image_id</th>\n",
       "      <th>excerpt</th>\n",
       "      <th>lede</th>\n",
       "      <th>slug</th>\n",
       "      <th>share_text</th>\n",
       "      <th>share_image</th>\n",
       "      <th>impressions</th>\n",
       "      <th>clicks</th>\n",
       "      <th>first_place</th>\n",
       "      <th>winner</th>\n",
       "      <th>clickrate</th>\n",
       "      <th>index</th>\n",
       "      <th>highest_clickrate</th>\n",
       "    </tr>\n",
       "  </thead>\n",
       "  <tbody>\n",
       "    <tr>\n",
       "      <th>71</th>\n",
       "      <td>2014-11-21</td>\n",
       "      <td>2014-11-17</td>\n",
       "      <td>546f486992f391bd48000025</td>\n",
       "      <td>She Let Strangers Ask Her Questions About Lesb...</td>\n",
       "      <td>546d1b4bfd3617f091000041</td>\n",
       "      <td>Things that matter. Pass 'em on.</td>\n",
       "      <td>&lt;p&gt;I'll be honest. I've wondered about 7.&lt;/p&gt;</td>\n",
       "      <td>she-let-strangers-ask-her-questions-about-lesb...</td>\n",
       "      <td>NaN</td>\n",
       "      <td>NaN</td>\n",
       "      <td>3029</td>\n",
       "      <td>84</td>\n",
       "      <td>False</td>\n",
       "      <td>False</td>\n",
       "      <td>0.027732</td>\n",
       "      <td>71</td>\n",
       "      <td>False</td>\n",
       "    </tr>\n",
       "    <tr>\n",
       "      <th>72</th>\n",
       "      <td>2014-11-21</td>\n",
       "      <td>2014-11-17</td>\n",
       "      <td>546f486992f391bd48000025</td>\n",
       "      <td>People Ask This Lesbian Questions And Her Rais...</td>\n",
       "      <td>546d1b4bfd3617f091000041</td>\n",
       "      <td>Things that matter. Pass 'em on.</td>\n",
       "      <td>&lt;p&gt;I'll be honest. I've wondered about 7.&lt;/p&gt;</td>\n",
       "      <td>people-ask-this-lesbian-questions-and-her-rais...</td>\n",
       "      <td>I'll be honest. I've wondered about 7.</td>\n",
       "      <td>NaN</td>\n",
       "      <td>2985</td>\n",
       "      <td>103</td>\n",
       "      <td>True</td>\n",
       "      <td>False</td>\n",
       "      <td>0.034506</td>\n",
       "      <td>72</td>\n",
       "      <td>False</td>\n",
       "    </tr>\n",
       "    <tr>\n",
       "      <th>73</th>\n",
       "      <td>2014-11-21</td>\n",
       "      <td>2014-11-17</td>\n",
       "      <td>546f486992f391bd48000025</td>\n",
       "      <td>People Ask This Lesbian Questions And Her Rais...</td>\n",
       "      <td>546d1b4bfd3617f091000041</td>\n",
       "      <td>Things that matter. Pass 'em on.</td>\n",
       "      <td>&lt;p&gt;I'll be honest. I've wondered about 7.&lt;/p&gt;</td>\n",
       "      <td>people-ask-this-lesbian-questions-and-her-rais...</td>\n",
       "      <td>If you don't chuckle at LEAST twice, I don't k...</td>\n",
       "      <td>NaN</td>\n",
       "      <td>3093</td>\n",
       "      <td>81</td>\n",
       "      <td>False</td>\n",
       "      <td>False</td>\n",
       "      <td>0.026188</td>\n",
       "      <td>73</td>\n",
       "      <td>False</td>\n",
       "    </tr>\n",
       "    <tr>\n",
       "      <th>74</th>\n",
       "      <td>2014-11-21</td>\n",
       "      <td>2014-11-17</td>\n",
       "      <td>546f486992f391bd48000025</td>\n",
       "      <td>People Ask This Lesbian Questions And Her Rais...</td>\n",
       "      <td>546d1b4bfd3617f091000041</td>\n",
       "      <td>Things that matter. Pass 'em on.</td>\n",
       "      <td>&lt;p&gt;I'll be honest. I've wondered about 7.&lt;/p&gt;</td>\n",
       "      <td>people-ask-this-lesbian-questions-and-her-rais...</td>\n",
       "      <td>I love how it's simultaneously hilarious and r...</td>\n",
       "      <td>NaN</td>\n",
       "      <td>3076</td>\n",
       "      <td>109</td>\n",
       "      <td>False</td>\n",
       "      <td>True</td>\n",
       "      <td>0.035436</td>\n",
       "      <td>74</td>\n",
       "      <td>True</td>\n",
       "    </tr>\n",
       "  </tbody>\n",
       "</table>\n",
       "</div>"
      ],
      "text/plain": [
       "    created_at   test_week  ... index highest_clickrate\n",
       "71  2014-11-21  2014-11-17  ...    71             False\n",
       "72  2014-11-21  2014-11-17  ...    72             False\n",
       "73  2014-11-21  2014-11-17  ...    73             False\n",
       "74  2014-11-21  2014-11-17  ...    74              True\n",
       "\n",
       "[4 rows x 17 columns]"
      ]
     },
     "execution_count": 97,
     "metadata": {},
     "output_type": "execute_result"
    }
   ],
   "source": [
    "packages[packages.test_id.eq(\"546f486992f391bd48000025\")]"
   ]
  },
  {
   "cell_type": "code",
   "execution_count": null,
   "metadata": {
    "colab": {
     "base_uri": "https://localhost:8080/",
     "height": 300
    },
    "id": "6cQ8P6CoFi7R",
    "outputId": "ffc1b04a-ba6c-4b67-ab47-8b4851601ca4"
   },
   "outputs": [
    {
     "data": {
      "text/plain": [
       "<matplotlib.axes._subplots.AxesSubplot at 0x7f99a16b0250>"
      ]
     },
     "execution_count": 114,
     "metadata": {},
     "output_type": "execute_result"
    },
    {
     "data": {
      "image/png": "[encoded data removed]",
      "text/plain": [
       "<Figure size 432x288 with 1 Axes>"
      ]
     },
     "metadata": {
      "needs_background": "light"
     },
     "output_type": "display_data"
    }
   ],
   "source": [
    "sns.kdeplot(x=packages.clickrate, hue=packages.first_place, multiple=\"fill\")"
   ]
  },
  {
   "cell_type": "markdown",
   "metadata": {
    "id": "WMHAhnYeukPg"
   },
   "source": [
    "From here on the test dataset is filtered and prepared"
   ]
  },
  {
   "cell_type": "code",
   "execution_count": null,
   "metadata": {
    "id": "bgxAHHsJQkOW"
   },
   "outputs": [],
   "source": [
    "packages[\"test_week\"] = pd.to_datetime(packages[\"test_week\"])\n",
    "packages[\"created_at\"] = pd.to_datetime(packages[\"created_at\"])"
   ]
  },
  {
   "cell_type": "code",
   "execution_count": null,
   "metadata": {
    "id": "3lhTw8XnbGlh"
   },
   "outputs": [],
   "source": [
    "clicks_over_time = packages.groupby([\"test_week\"], sort=True)[\"clicks\"].sum()"
   ]
  },
  {
   "cell_type": "markdown",
   "metadata": {
    "id": "Vgy3b37AYIM2"
   },
   "source": [
    "It seems counterintuitive that the number of clicks per week dropped towards the end of the measure period"
   ]
  },
  {
   "cell_type": "code",
   "execution_count": null,
   "metadata": {
    "colab": {
     "base_uri": "https://localhost:8080/",
     "height": 309
    },
    "id": "XqfV6q6Scctw",
    "outputId": "09ad873c-d2a4-4676-97c1-e90e1d1db22f"
   },
   "outputs": [
    {
     "data": {
      "text/plain": [
       "<matplotlib.axes._subplots.AxesSubplot at 0x7f5fbd745a90>"
      ]
     },
     "execution_count": 26,
     "metadata": {},
     "output_type": "execute_result"
    },
    {
     "data": {
      "image/png": "[encoded data removed]",
      "text/plain": [
       "<Figure size 432x288 with 1 Axes>"
      ]
     },
     "metadata": {
      "needs_background": "light"
     },
     "output_type": "display_data"
    }
   ],
   "source": [
    "clicks_over_time.plot()"
   ]
  },
  {
   "cell_type": "code",
   "execution_count": null,
   "metadata": {
    "id": "Ex1m3In5eOnC"
   },
   "outputs": [],
   "source": [
    "daily_users[\"date\"] = pd.to_datetime(daily_users[\"date\"])\n",
    "daily_users = daily_users.set_index(\"date\")\n",
    "daily_pageviews[\"date\"] = pd.to_datetime(daily_pageviews[\"date\"])\n",
    "daily_pageviews = daily_pageviews.set_index(\"date\")"
   ]
  },
  {
   "cell_type": "code",
   "execution_count": null,
   "metadata": {
    "colab": {
     "base_uri": "https://localhost:8080/"
    },
    "id": "sl5lBGu7apMN",
    "outputId": "c696456c-ce7b-4b3f-9479-e202cf1f4163"
   },
   "outputs": [
    {
     "data": {
      "text/plain": [
       "users                 object\n",
       "new_users             object\n",
       "sessions_per_user    float64\n",
       "sessions              object\n",
       "session_duration      object\n",
       "bounce_rate           object\n",
       "pageviews             object\n",
       "pages_per_session    float64\n",
       "dtype: object"
      ]
     },
     "execution_count": 28,
     "metadata": {},
     "output_type": "execute_result"
    }
   ],
   "source": [
    "daily_users.dtypes"
   ]
  },
  {
   "cell_type": "code",
   "execution_count": null,
   "metadata": {
    "colab": {
     "base_uri": "https://localhost:8080/"
    },
    "id": "oRfcjFd9YXUO",
    "outputId": "34f40459-cb65-4e56-f344-1930f0c55a98"
   },
   "outputs": [
    {
     "data": {
      "text/plain": [
       "0"
      ]
     },
     "execution_count": 29,
     "metadata": {},
     "output_type": "execute_result"
    }
   ],
   "source": [
    "daily_users['users'].isnull().sum()"
   ]
  },
  {
   "cell_type": "code",
   "execution_count": null,
   "metadata": {
    "colab": {
     "base_uri": "https://localhost:8080/",
     "height": 450
    },
    "id": "bTzeojI_muWt",
    "outputId": "e38c53f2-e146-447f-8020-6c349d5750a9"
   },
   "outputs": [
    {
     "data": {
      "text/html": [
       "<div>\n",
       "<style scoped>\n",
       "    .dataframe tbody tr th:only-of-type {\n",
       "        vertical-align: middle;\n",
       "    }\n",
       "\n",
       "    .dataframe tbody tr th {\n",
       "        vertical-align: top;\n",
       "    }\n",
       "\n",
       "    .dataframe thead th {\n",
       "        text-align: right;\n",
       "    }\n",
       "</style>\n",
       "<table border=\"1\" class=\"dataframe\">\n",
       "  <thead>\n",
       "    <tr style=\"text-align: right;\">\n",
       "      <th></th>\n",
       "      <th></th>\n",
       "      <th>impressions</th>\n",
       "      <th>clicks</th>\n",
       "      <th>first_place</th>\n",
       "      <th>winner</th>\n",
       "      <th>test_week</th>\n",
       "      <th>headline</th>\n",
       "      <th>slug</th>\n",
       "      <th>clickrate</th>\n",
       "    </tr>\n",
       "    <tr>\n",
       "      <th>test_id</th>\n",
       "      <th>image_id</th>\n",
       "      <th></th>\n",
       "      <th></th>\n",
       "      <th></th>\n",
       "      <th></th>\n",
       "      <th></th>\n",
       "      <th></th>\n",
       "      <th></th>\n",
       "      <th></th>\n",
       "    </tr>\n",
       "  </thead>\n",
       "  <tbody>\n",
       "    <tr>\n",
       "      <th>5143605e220cb80002000076</th>\n",
       "      <th>5332b5101fae79f09f00020c</th>\n",
       "      <td>20596</td>\n",
       "      <td>287</td>\n",
       "      <td>True</td>\n",
       "      <td>True</td>\n",
       "      <td>1</td>\n",
       "      <td>5</td>\n",
       "      <td>5</td>\n",
       "      <td>0.013935</td>\n",
       "    </tr>\n",
       "    <tr>\n",
       "      <th rowspan=\"2\" valign=\"top\">51436060220cb800020001df</th>\n",
       "      <th>5332ba641fae79f09f003410</th>\n",
       "      <td>8048</td>\n",
       "      <td>68</td>\n",
       "      <td>False</td>\n",
       "      <td>False</td>\n",
       "      <td>1</td>\n",
       "      <td>3</td>\n",
       "      <td>3</td>\n",
       "      <td>0.008449</td>\n",
       "    </tr>\n",
       "    <tr>\n",
       "      <th>5332ba641fae79f09f003414</th>\n",
       "      <td>2733</td>\n",
       "      <td>19</td>\n",
       "      <td>False</td>\n",
       "      <td>False</td>\n",
       "      <td>1</td>\n",
       "      <td>1</td>\n",
       "      <td>1</td>\n",
       "      <td>0.006952</td>\n",
       "    </tr>\n",
       "    <tr>\n",
       "      <th>51436060220cb800020001e1</th>\n",
       "      <th>5332ba161fae79f09f002c78</th>\n",
       "      <td>10641</td>\n",
       "      <td>171</td>\n",
       "      <td>False</td>\n",
       "      <td>False</td>\n",
       "      <td>1</td>\n",
       "      <td>4</td>\n",
       "      <td>4</td>\n",
       "      <td>0.016070</td>\n",
       "    </tr>\n",
       "    <tr>\n",
       "      <th>51436060220cb800020001e3</th>\n",
       "      <th>5332ba141fae79f09f002c4e</th>\n",
       "      <td>10603</td>\n",
       "      <td>190</td>\n",
       "      <td>True</td>\n",
       "      <td>True</td>\n",
       "      <td>1</td>\n",
       "      <td>4</td>\n",
       "      <td>4</td>\n",
       "      <td>0.017919</td>\n",
       "    </tr>\n",
       "    <tr>\n",
       "      <th>...</th>\n",
       "      <th>...</th>\n",
       "      <td>...</td>\n",
       "      <td>...</td>\n",
       "      <td>...</td>\n",
       "      <td>...</td>\n",
       "      <td>...</td>\n",
       "      <td>...</td>\n",
       "      <td>...</td>\n",
       "      <td>...</td>\n",
       "    </tr>\n",
       "    <tr>\n",
       "      <th rowspan=\"3\" valign=\"top\">55417382313766001c440000</th>\n",
       "      <th>55417276343635001c550000</th>\n",
       "      <td>2049</td>\n",
       "      <td>46</td>\n",
       "      <td>True</td>\n",
       "      <td>False</td>\n",
       "      <td>1</td>\n",
       "      <td>1</td>\n",
       "      <td>1</td>\n",
       "      <td>0.022450</td>\n",
       "    </tr>\n",
       "    <tr>\n",
       "      <th>55417276343635002c5e0000</th>\n",
       "      <td>1995</td>\n",
       "      <td>23</td>\n",
       "      <td>False</td>\n",
       "      <td>False</td>\n",
       "      <td>1</td>\n",
       "      <td>1</td>\n",
       "      <td>1</td>\n",
       "      <td>0.011529</td>\n",
       "    </tr>\n",
       "    <tr>\n",
       "      <th>55417276343635002c5f0000</th>\n",
       "      <td>2067</td>\n",
       "      <td>24</td>\n",
       "      <td>False</td>\n",
       "      <td>False</td>\n",
       "      <td>1</td>\n",
       "      <td>1</td>\n",
       "      <td>1</td>\n",
       "      <td>0.011611</td>\n",
       "    </tr>\n",
       "    <tr>\n",
       "      <th>55417f91343635002c7e0000</th>\n",
       "      <th>55417276343635001c550000</th>\n",
       "      <td>12132</td>\n",
       "      <td>230</td>\n",
       "      <td>True</td>\n",
       "      <td>False</td>\n",
       "      <td>1</td>\n",
       "      <td>1</td>\n",
       "      <td>6</td>\n",
       "      <td>0.018958</td>\n",
       "    </tr>\n",
       "    <tr>\n",
       "      <th>55418d7b313132002c070000</th>\n",
       "      <th>55417276343635001c550000</th>\n",
       "      <td>6047</td>\n",
       "      <td>64</td>\n",
       "      <td>True</td>\n",
       "      <td>True</td>\n",
       "      <td>1</td>\n",
       "      <td>1</td>\n",
       "      <td>3</td>\n",
       "      <td>0.010584</td>\n",
       "    </tr>\n",
       "  </tbody>\n",
       "</table>\n",
       "<p>71356 rows × 8 columns</p>\n",
       "</div>"
      ],
      "text/plain": [
       "                                                   impressions  ...  clickrate\n",
       "test_id                  image_id                               ...           \n",
       "5143605e220cb80002000076 5332b5101fae79f09f00020c        20596  ...   0.013935\n",
       "51436060220cb800020001df 5332ba641fae79f09f003410         8048  ...   0.008449\n",
       "                         5332ba641fae79f09f003414         2733  ...   0.006952\n",
       "51436060220cb800020001e1 5332ba161fae79f09f002c78        10641  ...   0.016070\n",
       "51436060220cb800020001e3 5332ba141fae79f09f002c4e        10603  ...   0.017919\n",
       "...                                                        ...  ...        ...\n",
       "55417382313766001c440000 55417276343635001c550000         2049  ...   0.022450\n",
       "                         55417276343635002c5e0000         1995  ...   0.011529\n",
       "                         55417276343635002c5f0000         2067  ...   0.011611\n",
       "55417f91343635002c7e0000 55417276343635001c550000        12132  ...   0.018958\n",
       "55418d7b313132002c070000 55417276343635001c550000         6047  ...   0.010584\n",
       "\n",
       "[71356 rows x 8 columns]"
      ]
     },
     "execution_count": 30,
     "metadata": {},
     "output_type": "execute_result"
    }
   ],
   "source": [
    "testpak = packages.groupby(['test_id','image_id']).aggregate({'impressions':'sum','clicks':'sum','first_place':'max','winner':'max', 'test_week':'nunique', 'headline':'nunique', 'slug':'count'})\n",
    "testpak['clickrate'] = testpak['clicks']/testpak['impressions']\n",
    "testpak"
   ]
  },
  {
   "cell_type": "markdown",
   "metadata": {
    "id": "AQD3C2yNojja"
   },
   "source": [
    "Cause and effect: we must keep all variables fixed and try to understand what was changed and how that provoked a reaction. Why would upworthy do A/B test that only differ by share_text, even though share_text is not shown to the users? How come there are test_ids without a first_place?"
   ]
  },
  {
   "cell_type": "markdown",
   "metadata": {
    "id": "rM-ma9CcrTbb"
   },
   "source": [
    "We could go for all test_ids that have no difference in image_id and test_week and perform some causal inference if they have a difference in headline. This way we can infere causality, not just correlation. There remain 15605 rows that satisfy these conditions. Note: there are test_ids that don't have a first_place, I suggest we could take the highest clickrate instead. It is to some extend dubious how first_place is exactly defined. There are headlines without images, which is ok for us\n",
    "\n",
    "Another idea: We could also try to find out if varying the headline has a bigger effect than varying the image. "
   ]
  },
  {
   "cell_type": "code",
   "execution_count": null,
   "metadata": {
    "id": "1X_9f4uWoP6j"
   },
   "outputs": [],
   "source": [
    "testset_id = testpak[testpak.test_week.eq(1) & testpak.headline.gt(1) & testpak.clicks.gt(0) & testpak.headline.eq(testpak.slug)].index.get_level_values(0)\n",
    "testset_image = testpak[testpak.test_week.eq(1) & testpak.headline.gt(1) & testpak.clicks.gt(0) & testpak.headline.eq(testpak.slug)].index.get_level_values(1)"
   ]
  },
  {
   "cell_type": "code",
   "execution_count": null,
   "metadata": {
    "colab": {
     "base_uri": "https://localhost:8080/",
     "height": 450
    },
    "id": "XlpWRRd5K0mz",
    "outputId": "7f70be55-51f1-45c8-9dc5-36b2c258c35e"
   },
   "outputs": [
    {
     "data": {
      "text/html": [
       "<div>\n",
       "<style scoped>\n",
       "    .dataframe tbody tr th:only-of-type {\n",
       "        vertical-align: middle;\n",
       "    }\n",
       "\n",
       "    .dataframe tbody tr th {\n",
       "        vertical-align: top;\n",
       "    }\n",
       "\n",
       "    .dataframe thead th {\n",
       "        text-align: right;\n",
       "    }\n",
       "</style>\n",
       "<table border=\"1\" class=\"dataframe\">\n",
       "  <thead>\n",
       "    <tr style=\"text-align: right;\">\n",
       "      <th></th>\n",
       "      <th></th>\n",
       "      <th>impressions</th>\n",
       "      <th>clicks</th>\n",
       "      <th>first_place</th>\n",
       "      <th>winner</th>\n",
       "      <th>test_week</th>\n",
       "      <th>headline</th>\n",
       "      <th>slug</th>\n",
       "      <th>clickrate</th>\n",
       "    </tr>\n",
       "    <tr>\n",
       "      <th>test_id</th>\n",
       "      <th>image_id</th>\n",
       "      <th></th>\n",
       "      <th></th>\n",
       "      <th></th>\n",
       "      <th></th>\n",
       "      <th></th>\n",
       "      <th></th>\n",
       "      <th></th>\n",
       "      <th></th>\n",
       "    </tr>\n",
       "  </thead>\n",
       "  <tbody>\n",
       "    <tr>\n",
       "      <th>5143605e220cb80002000076</th>\n",
       "      <th>5332b5101fae79f09f00020c</th>\n",
       "      <td>20596</td>\n",
       "      <td>287</td>\n",
       "      <td>True</td>\n",
       "      <td>True</td>\n",
       "      <td>1</td>\n",
       "      <td>5</td>\n",
       "      <td>5</td>\n",
       "      <td>0.013935</td>\n",
       "    </tr>\n",
       "    <tr>\n",
       "      <th>51436060220cb800020001df</th>\n",
       "      <th>5332ba641fae79f09f003410</th>\n",
       "      <td>8048</td>\n",
       "      <td>68</td>\n",
       "      <td>False</td>\n",
       "      <td>False</td>\n",
       "      <td>1</td>\n",
       "      <td>3</td>\n",
       "      <td>3</td>\n",
       "      <td>0.008449</td>\n",
       "    </tr>\n",
       "    <tr>\n",
       "      <th>51436060220cb800020001e1</th>\n",
       "      <th>5332ba161fae79f09f002c78</th>\n",
       "      <td>10641</td>\n",
       "      <td>171</td>\n",
       "      <td>False</td>\n",
       "      <td>False</td>\n",
       "      <td>1</td>\n",
       "      <td>4</td>\n",
       "      <td>4</td>\n",
       "      <td>0.016070</td>\n",
       "    </tr>\n",
       "    <tr>\n",
       "      <th>51436060220cb800020001e3</th>\n",
       "      <th>5332ba141fae79f09f002c4e</th>\n",
       "      <td>10603</td>\n",
       "      <td>190</td>\n",
       "      <td>True</td>\n",
       "      <td>True</td>\n",
       "      <td>1</td>\n",
       "      <td>4</td>\n",
       "      <td>4</td>\n",
       "      <td>0.017919</td>\n",
       "    </tr>\n",
       "    <tr>\n",
       "      <th>51436061220cb800020001e4</th>\n",
       "      <th>5332ba641fae79f09f003415</th>\n",
       "      <td>15576</td>\n",
       "      <td>96</td>\n",
       "      <td>True</td>\n",
       "      <td>True</td>\n",
       "      <td>1</td>\n",
       "      <td>4</td>\n",
       "      <td>4</td>\n",
       "      <td>0.006163</td>\n",
       "    </tr>\n",
       "    <tr>\n",
       "      <th>...</th>\n",
       "      <th>...</th>\n",
       "      <td>...</td>\n",
       "      <td>...</td>\n",
       "      <td>...</td>\n",
       "      <td>...</td>\n",
       "      <td>...</td>\n",
       "      <td>...</td>\n",
       "      <td>...</td>\n",
       "      <td>...</td>\n",
       "    </tr>\n",
       "    <tr>\n",
       "      <th>55413048643265002c840200</th>\n",
       "      <th>554139db333531001c060000</th>\n",
       "      <td>10146</td>\n",
       "      <td>19</td>\n",
       "      <td>True</td>\n",
       "      <td>False</td>\n",
       "      <td>1</td>\n",
       "      <td>5</td>\n",
       "      <td>5</td>\n",
       "      <td>0.001873</td>\n",
       "    </tr>\n",
       "    <tr>\n",
       "      <th>5541323d643265002cbc0200</th>\n",
       "      <th>554103dc643933001c260100</th>\n",
       "      <td>10176</td>\n",
       "      <td>49</td>\n",
       "      <td>True</td>\n",
       "      <td>False</td>\n",
       "      <td>1</td>\n",
       "      <td>5</td>\n",
       "      <td>5</td>\n",
       "      <td>0.004815</td>\n",
       "    </tr>\n",
       "    <tr>\n",
       "      <th>5541358d643933000c3c0300</th>\n",
       "      <th>5511a35f336563000c400000</th>\n",
       "      <td>10168</td>\n",
       "      <td>43</td>\n",
       "      <td>True</td>\n",
       "      <td>False</td>\n",
       "      <td>1</td>\n",
       "      <td>5</td>\n",
       "      <td>5</td>\n",
       "      <td>0.004229</td>\n",
       "    </tr>\n",
       "    <tr>\n",
       "      <th>55413ef4333531000c180000</th>\n",
       "      <th>55412a79643265000ce10200</th>\n",
       "      <td>4105</td>\n",
       "      <td>50</td>\n",
       "      <td>True</td>\n",
       "      <td>True</td>\n",
       "      <td>1</td>\n",
       "      <td>2</td>\n",
       "      <td>2</td>\n",
       "      <td>0.012180</td>\n",
       "    </tr>\n",
       "    <tr>\n",
       "      <th>55414789313638001c520000</th>\n",
       "      <th>55412d5a643265000c0f0300</th>\n",
       "      <td>12169</td>\n",
       "      <td>153</td>\n",
       "      <td>True</td>\n",
       "      <td>False</td>\n",
       "      <td>1</td>\n",
       "      <td>6</td>\n",
       "      <td>6</td>\n",
       "      <td>0.012573</td>\n",
       "    </tr>\n",
       "  </tbody>\n",
       "</table>\n",
       "<p>16519 rows × 8 columns</p>\n",
       "</div>"
      ],
      "text/plain": [
       "                                                   impressions  ...  clickrate\n",
       "test_id                  image_id                               ...           \n",
       "5143605e220cb80002000076 5332b5101fae79f09f00020c        20596  ...   0.013935\n",
       "51436060220cb800020001df 5332ba641fae79f09f003410         8048  ...   0.008449\n",
       "51436060220cb800020001e1 5332ba161fae79f09f002c78        10641  ...   0.016070\n",
       "51436060220cb800020001e3 5332ba141fae79f09f002c4e        10603  ...   0.017919\n",
       "51436061220cb800020001e4 5332ba641fae79f09f003415        15576  ...   0.006163\n",
       "...                                                        ...  ...        ...\n",
       "55413048643265002c840200 554139db333531001c060000        10146  ...   0.001873\n",
       "5541323d643265002cbc0200 554103dc643933001c260100        10176  ...   0.004815\n",
       "5541358d643933000c3c0300 5511a35f336563000c400000        10168  ...   0.004229\n",
       "55413ef4333531000c180000 55412a79643265000ce10200         4105  ...   0.012180\n",
       "55414789313638001c520000 55412d5a643265000c0f0300        12169  ...   0.012573\n",
       "\n",
       "[16519 rows x 8 columns]"
      ]
     },
     "execution_count": 35,
     "metadata": {},
     "output_type": "execute_result"
    }
   ],
   "source": [
    "testpak[testpak.test_week.eq(1) & testpak.headline.gt(1) & testpak.clicks.gt(0) & testpak.headline.eq(testpak.slug)]"
   ]
  },
  {
   "cell_type": "markdown",
   "metadata": {
    "id": "2EKsGagRL9tp"
   },
   "source": [
    "**Note**: we have to be really careful with the samples, there are multiple doublicates that don't differ at all except for the clicks and impressions e.g. test_id 5143606b220cb800020005db\n",
    "\n",
    "Those test_ids are excluded from our test sample we use to do inference and prediction on"
   ]
  },
  {
   "cell_type": "code",
   "execution_count": null,
   "metadata": {
    "colab": {
     "base_uri": "https://localhost:8080/",
     "height": 564
    },
    "id": "BHyOyT_snNHz",
    "outputId": "4619f5a9-13f3-4a34-99d4-7cc21acb4cb0"
   },
   "outputs": [
    {
     "data": {
      "text/html": [
       "<div>\n",
       "<style scoped>\n",
       "    .dataframe tbody tr th:only-of-type {\n",
       "        vertical-align: middle;\n",
       "    }\n",
       "\n",
       "    .dataframe tbody tr th {\n",
       "        vertical-align: top;\n",
       "    }\n",
       "\n",
       "    .dataframe thead th {\n",
       "        text-align: right;\n",
       "    }\n",
       "</style>\n",
       "<table border=\"1\" class=\"dataframe\">\n",
       "  <thead>\n",
       "    <tr style=\"text-align: right;\">\n",
       "      <th></th>\n",
       "      <th>created_at</th>\n",
       "      <th>test_week</th>\n",
       "      <th>test_id</th>\n",
       "      <th>headline</th>\n",
       "      <th>image_id</th>\n",
       "      <th>excerpt</th>\n",
       "      <th>lede</th>\n",
       "      <th>slug</th>\n",
       "      <th>share_text</th>\n",
       "      <th>share_image</th>\n",
       "      <th>impressions</th>\n",
       "      <th>clicks</th>\n",
       "      <th>first_place</th>\n",
       "      <th>winner</th>\n",
       "      <th>clickrate</th>\n",
       "      <th>high_ctr_test</th>\n",
       "      <th>high_ctr_test_image</th>\n",
       "    </tr>\n",
       "  </thead>\n",
       "  <tbody>\n",
       "    <tr>\n",
       "      <th>26061</th>\n",
       "      <td>2013-03-12</td>\n",
       "      <td>2013-03-11</td>\n",
       "      <td>5143606b220cb800020005db</td>\n",
       "      <td>Genius Inventor Cracks Secret Of Trees To Harn...</td>\n",
       "      <td>5332ba5c1fae79f09f003372</td>\n",
       "      <td>Oh, And He’s 13.</td>\n",
       "      <td>&lt;p&gt;Watch out, Big Oil companies. This 13-year-...</td>\n",
       "      <td>genius-inventor-cracks-secret-of-trees-to-harn...</td>\n",
       "      <td>NaN</td>\n",
       "      <td>tree_thumb.jpg</td>\n",
       "      <td>2863</td>\n",
       "      <td>65</td>\n",
       "      <td>False</td>\n",
       "      <td>False</td>\n",
       "      <td>0.022703</td>\n",
       "      <td>False</td>\n",
       "      <td>False</td>\n",
       "    </tr>\n",
       "    <tr>\n",
       "      <th>50587</th>\n",
       "      <td>2013-03-12</td>\n",
       "      <td>2013-03-11</td>\n",
       "      <td>5143606b220cb800020005db</td>\n",
       "      <td>Genius Inventor Cracks Secret Of Trees To Harn...</td>\n",
       "      <td>5332ba5c1fae79f09f003372</td>\n",
       "      <td>Could this teenager cause the downfall of big ...</td>\n",
       "      <td>&lt;p&gt;Watch out, Big Oil companies. This 13-year-...</td>\n",
       "      <td>genius-inventor-cracks-secret-of-trees-to-harn...</td>\n",
       "      <td>NaN</td>\n",
       "      <td>tree_thumb.jpg</td>\n",
       "      <td>2661</td>\n",
       "      <td>59</td>\n",
       "      <td>False</td>\n",
       "      <td>False</td>\n",
       "      <td>0.022172</td>\n",
       "      <td>False</td>\n",
       "      <td>False</td>\n",
       "    </tr>\n",
       "    <tr>\n",
       "      <th>50589</th>\n",
       "      <td>2013-03-12</td>\n",
       "      <td>2013-03-11</td>\n",
       "      <td>5143606b220cb800020005db</td>\n",
       "      <td>Genius Inventor Cracks Secret Of Trees To Harn...</td>\n",
       "      <td>5332ba5c1fae79f09f003372</td>\n",
       "      <td>Could this teenager cause the downfall of big ...</td>\n",
       "      <td>&lt;p&gt;Watch out, Big Oil companies. This 13-year-...</td>\n",
       "      <td>genius-inventor-cracks-secret-of-trees-to-harn...</td>\n",
       "      <td>NaN</td>\n",
       "      <td>tree_thumb.jpg</td>\n",
       "      <td>2823</td>\n",
       "      <td>74</td>\n",
       "      <td>False</td>\n",
       "      <td>True</td>\n",
       "      <td>0.026213</td>\n",
       "      <td>False</td>\n",
       "      <td>False</td>\n",
       "    </tr>\n",
       "    <tr>\n",
       "      <th>50590</th>\n",
       "      <td>2013-03-12</td>\n",
       "      <td>2013-03-11</td>\n",
       "      <td>5143606b220cb800020005db</td>\n",
       "      <td>Meet The 13 Year-Old Who's Making Most Scienti...</td>\n",
       "      <td>5332ba5c1fae79f09f003372</td>\n",
       "      <td>Genius inventor cracks secret of trees to harn...</td>\n",
       "      <td>&lt;p&gt;Watch out, Big Oil companies. This 13-year-...</td>\n",
       "      <td>meet-the-13-year-old-whos-making-most-scientis...</td>\n",
       "      <td>NaN</td>\n",
       "      <td>tree_thumb.jpg</td>\n",
       "      <td>2820</td>\n",
       "      <td>82</td>\n",
       "      <td>True</td>\n",
       "      <td>False</td>\n",
       "      <td>0.029078</td>\n",
       "      <td>True</td>\n",
       "      <td>True</td>\n",
       "    </tr>\n",
       "  </tbody>\n",
       "</table>\n",
       "</div>"
      ],
      "text/plain": [
       "      created_at  test_week  ... high_ctr_test high_ctr_test_image\n",
       "26061 2013-03-12 2013-03-11  ...         False               False\n",
       "50587 2013-03-12 2013-03-11  ...         False               False\n",
       "50589 2013-03-12 2013-03-11  ...         False               False\n",
       "50590 2013-03-12 2013-03-11  ...          True                True\n",
       "\n",
       "[4 rows x 17 columns]"
      ]
     },
     "execution_count": 51,
     "metadata": {},
     "output_type": "execute_result"
    }
   ],
   "source": [
    "packages[packages.test_id.eq(\"5143606b220cb800020005db\")]"
   ]
  },
  {
   "cell_type": "code",
   "execution_count": null,
   "metadata": {
    "id": "_FXw1Fbp9kyo"
   },
   "outputs": [],
   "source": [
    "test_dataset = packages.loc[packages.test_id.isin(testset_id)]\n",
    "test_dataset = test_dataset.loc[test_dataset.image_id.isin(testset_image)]\n"
   ]
  },
  {
   "cell_type": "markdown",
   "metadata": {
    "id": "XJqqFv8yELkp"
   },
   "source": [
    "These are all packages that have at least 2 headlines per image_id within their test_ids, a unique test_week within their test_ids and as many headlines per test_id and image_id combination as packages (so no duplicate headlines). In addition, I deleted the test_ids that didn't havy any clicks at all among all packages. In total there are 16519 unique test_ids and 72135 packages "
   ]
  },
  {
   "cell_type": "code",
   "execution_count": null,
   "metadata": {
    "id": "yNFGfbZbAo8P"
   },
   "outputs": [],
   "source": [
    "test_dataset.to_csv(\"/content/drive/MyDrive/DataOpen/test_packages.csv\")"
   ]
  },
  {
   "cell_type": "markdown",
   "metadata": {
    "id": "ctuf5sHPBxk0"
   },
   "source": [
    "Keeping everything relevant for the test stable, we control what contributes towards higher clickrates. This way we can describe causality and not just correlation. This could look something like this, but with the sentiment. Then we can perform "
   ]
  },
  {
   "cell_type": "code",
   "execution_count": null,
   "metadata": {
    "id": "_ndDQxs5tTob"
   },
   "outputs": [],
   "source": [
    "highest_ctr = packages.loc[packages.test_id.isin(testset_id) & packages.image_id.isin(testset_image) & packages.high_ctr_test.eq(True)]\n",
    "lower_ctr = packages.loc[packages.test_id.isin(testset_id) & packages.image_id.isin(testset_image) & packages.high_ctr_test.eq(False)]"
   ]
  },
  {
   "cell_type": "code",
   "execution_count": null,
   "metadata": {
    "colab": {
     "base_uri": "https://localhost:8080/"
    },
    "id": "PZXyM6RcBGQz",
    "outputId": "98dc6755-ed44-4485-af07-c9946cf9e2ca"
   },
   "outputs": [
    {
     "data": {
      "text/plain": [
       "0.1286483064260842"
      ]
     },
     "execution_count": 47,
     "metadata": {},
     "output_type": "execute_result"
    }
   ],
   "source": [
    "highest_ctr['winner'].mean()"
   ]
  },
  {
   "cell_type": "code",
   "execution_count": null,
   "metadata": {
    "colab": {
     "base_uri": "https://localhost:8080/"
    },
    "id": "XwvYHs0-CJqL",
    "outputId": "4a5e84c4-df7b-47e9-cc3a-57dc6b8b6499"
   },
   "outputs": [
    {
     "data": {
      "text/plain": [
       "0.010649627263045794"
      ]
     },
     "execution_count": 48,
     "metadata": {},
     "output_type": "execute_result"
    }
   ],
   "source": [
    "lower_ctr['winner'].mean()"
   ]
  },
  {
   "cell_type": "markdown",
   "metadata": {
    "id": "eqEv9bz7XqWX"
   },
   "source": [
    "This is what we could do in a very first step to get some basic hypothesis tested"
   ]
  },
  {
   "cell_type": "code",
   "execution_count": null,
   "metadata": {
    "colab": {
     "base_uri": "https://localhost:8080/"
    },
    "id": "9uUid41FCLcq",
    "outputId": "48c21374-722e-45c6-cf9a-ef5c9a9b1a12"
   },
   "outputs": [
    {
     "data": {
      "text/plain": [
       "Ttest_indResult(statistic=43.7196654125302, pvalue=0.0)"
      ]
     },
     "execution_count": 49,
     "metadata": {},
     "output_type": "execute_result"
    }
   ],
   "source": [
    "stats.ttest_ind(highest_ctr.winner, lower_ctr.winner, equal_var=False)"
   ]
  },
  {
   "cell_type": "code",
   "execution_count": null,
   "metadata": {
    "id": "oYdOLfbcXA1V"
   },
   "outputs": [],
   "source": []
  },
  {
   "cell_type": "code",
   "execution_count": null,
   "metadata": {
    "id": "YgbdCU-KEL-x"
   },
   "outputs": [],
   "source": []
  },
  {
   "cell_type": "markdown",
   "metadata": {
    "id": "o6gowGIRBfpa"
   },
   "source": [
    "## TIME SERIES SECTION"
   ]
  },
  {
   "cell_type": "markdown",
   "metadata": {
    "id": "petMQowtBkn9"
   },
   "source": [
    "Research Questions:\n",
    " 1. How has click rate changed over time? Can we model this behavior?\n",
    " 2. How has sentiment changed over time? Can we model this behavior?\n",
    " 3. correlation between sentiment and clickrate over time. Constant or time contingent?\n",
    " 4. Possible Extra: How has good/neutral/bad sentiment effected the click rate over time?\\*\n",
    " \n",
    "\\* This would require a comparison of time series. If we group the packages by binned sentiment score (e.g. 0-0.25: 'negative sentiment', 0.25-0.75: 'neutral sentiment', 0.75-1, 'positive sentiment') perhaps we could make a relative comparison of each series by taking the differences between them. For example, if good sentiment and neutral sentiment both trend down over time, but good sentiment - neutral sentiment trends up then we may conclude that good sentiment increases clickrate __relative to neutral sentiment__ . I'm not sure if theres a way to get absolute effects, but it might be interesting to make these comparisons anyway as long as we don't make false inferences."
   ]
  },
  {
   "cell_type": "markdown",
   "metadata": {
    "id": "a6opxuJQBwLj"
   },
   "source": [
    "#### ARIMA MODELLING OF CLICK RATE FOR ALL PACKAGES - NO SENTIMENT CONSIDERATION"
   ]
  },
  {
   "cell_type": "code",
   "execution_count": null,
   "metadata": {
    "id": "GXS09XXpBzLj"
   },
   "outputs": [],
   "source": [
    "import numpy as np\n",
    "import pandas as pd\n",
    "import matplotlib.pyplot as plt\n",
    "from collections import Counter\n",
    "from tqdm import tqdm\n",
    "import statistics\n",
    "import statsmodels.tsa.stattools as tsa\n",
    "from statsmodels.graphics import tsaplots\n",
    "import statsmodels.api as sm\n",
    "from scipy.stats import shapiro\n",
    "from statsmodels.tsa.arima.model import ARIMA, ARIMAResults\n",
    "from sklearn.metrics import mean_squared_error\n",
    "from statsmodels.tsa.stattools import adfuller\n",
    "from statsmodels.stats.diagnostic import acorr_ljungbox\n",
    "import seaborn as sns\n",
    "from scipy import stats\n",
    "from arch import arch_model"
   ]
  },
  {
   "cell_type": "code",
   "execution_count": null,
   "metadata": {
    "id": "Cy_gdQLBGK1j"
   },
   "outputs": [],
   "source": [
    "test_packages = pd.read_csv('/content/drive/MyDrive/Datathon Materials/packages.csv')"
   ]
  },
  {
   "cell_type": "code",
   "execution_count": null,
   "metadata": {
    "colab": {
     "base_uri": "https://localhost:8080/",
     "height": 206
    },
    "id": "_pD9HC53B3bT",
    "outputId": "bf4108ce-0d25-47e1-9477-fdb19832c9ba"
   },
   "outputs": [
    {
     "data": {
      "text/html": [
       "<div>\n",
       "<style scoped>\n",
       "    .dataframe tbody tr th:only-of-type {\n",
       "        vertical-align: middle;\n",
       "    }\n",
       "\n",
       "    .dataframe tbody tr th {\n",
       "        vertical-align: top;\n",
       "    }\n",
       "\n",
       "    .dataframe thead th {\n",
       "        text-align: right;\n",
       "    }\n",
       "</style>\n",
       "<table border=\"1\" class=\"dataframe\">\n",
       "  <thead>\n",
       "    <tr style=\"text-align: right;\">\n",
       "      <th></th>\n",
       "      <th>test_week</th>\n",
       "      <th>test_id</th>\n",
       "      <th>headline</th>\n",
       "      <th>image_id</th>\n",
       "      <th>clickrate</th>\n",
       "    </tr>\n",
       "  </thead>\n",
       "  <tbody>\n",
       "    <tr>\n",
       "      <th>0</th>\n",
       "      <td>2014-11-17</td>\n",
       "      <td>546d88fb84ad38b2ce000024</td>\n",
       "      <td>They're Being Called 'Walmart's Worst Nightmar...</td>\n",
       "      <td>546d6fa19ad54eec8d00002d</td>\n",
       "      <td>0.049148</td>\n",
       "    </tr>\n",
       "    <tr>\n",
       "      <th>1</th>\n",
       "      <td>2014-11-17</td>\n",
       "      <td>546d88fb84ad38b2ce000024</td>\n",
       "      <td>They're Being Called 'Walmart's Worst Nightmar...</td>\n",
       "      <td>546d6fa19ad54eec8d00002d</td>\n",
       "      <td>0.040224</td>\n",
       "    </tr>\n",
       "    <tr>\n",
       "      <th>2</th>\n",
       "      <td>2014-11-17</td>\n",
       "      <td>546d88fb84ad38b2ce000024</td>\n",
       "      <td>They're Being Called 'Walmart's Worst Nightmar...</td>\n",
       "      <td>546d6fa19ad54eec8d00002d</td>\n",
       "      <td>0.035576</td>\n",
       "    </tr>\n",
       "    <tr>\n",
       "      <th>3</th>\n",
       "      <td>2014-11-17</td>\n",
       "      <td>546d902c26714c6c44000039</td>\n",
       "      <td>This Is What Sexism Against Men Sounds Like</td>\n",
       "      <td>546bc55335992b86c8000043</td>\n",
       "      <td>0.025525</td>\n",
       "    </tr>\n",
       "    <tr>\n",
       "      <th>4</th>\n",
       "      <td>2014-11-17</td>\n",
       "      <td>546d902c26714c6c44000039</td>\n",
       "      <td>This Is What Sexism Against Men Sounds Like</td>\n",
       "      <td>546d900426714cd2dd00002e</td>\n",
       "      <td>0.034227</td>\n",
       "    </tr>\n",
       "  </tbody>\n",
       "</table>\n",
       "</div>"
      ],
      "text/plain": [
       "   test_week                   test_id  ...                  image_id clickrate\n",
       "0 2014-11-17  546d88fb84ad38b2ce000024  ...  546d6fa19ad54eec8d00002d  0.049148\n",
       "1 2014-11-17  546d88fb84ad38b2ce000024  ...  546d6fa19ad54eec8d00002d  0.040224\n",
       "2 2014-11-17  546d88fb84ad38b2ce000024  ...  546d6fa19ad54eec8d00002d  0.035576\n",
       "3 2014-11-17  546d902c26714c6c44000039  ...  546bc55335992b86c8000043  0.025525\n",
       "4 2014-11-17  546d902c26714c6c44000039  ...  546d900426714cd2dd00002e  0.034227\n",
       "\n",
       "[5 rows x 5 columns]"
      ]
     },
     "execution_count": 5,
     "metadata": {},
     "output_type": "execute_result"
    }
   ],
   "source": [
    "# prepping data \n",
    "test_packages['clickrate'] = test_packages[\"clicks\"]/test_packages[\"impressions\"]\n",
    "test_packages = test_packages[['test_week', 'test_id', 'headline', 'image_id', 'clickrate']].copy()\n",
    "test_packages[\"test_week\"] = pd.to_datetime(test_packages[\"test_week\"])\n",
    "test_packages.head()"
   ]
  },
  {
   "cell_type": "code",
   "execution_count": null,
   "metadata": {
    "colab": {
     "base_uri": "https://localhost:8080/",
     "height": 255
    },
    "id": "Tg8XqHF3BxTF",
    "outputId": "705f0fa6-8adc-434b-928c-860805663a7b"
   },
   "outputs": [
    {
     "name": "stdout",
     "output_type": "stream",
     "text": [
      "Shape of Data:  (119, 1)\n"
     ]
    },
    {
     "data": {
      "text/html": [
       "<div>\n",
       "<style scoped>\n",
       "    .dataframe tbody tr th:only-of-type {\n",
       "        vertical-align: middle;\n",
       "    }\n",
       "\n",
       "    .dataframe tbody tr th {\n",
       "        vertical-align: top;\n",
       "    }\n",
       "\n",
       "    .dataframe thead th {\n",
       "        text-align: right;\n",
       "    }\n",
       "</style>\n",
       "<table border=\"1\" class=\"dataframe\">\n",
       "  <thead>\n",
       "    <tr style=\"text-align: right;\">\n",
       "      <th></th>\n",
       "      <th>clickrate</th>\n",
       "    </tr>\n",
       "    <tr>\n",
       "      <th>test_week</th>\n",
       "      <th></th>\n",
       "    </tr>\n",
       "  </thead>\n",
       "  <tbody>\n",
       "    <tr>\n",
       "      <th>2013-01-21</th>\n",
       "      <td>0.024726</td>\n",
       "    </tr>\n",
       "    <tr>\n",
       "      <th>2013-01-28</th>\n",
       "      <td>0.024286</td>\n",
       "    </tr>\n",
       "    <tr>\n",
       "      <th>2013-02-04</th>\n",
       "      <td>0.023531</td>\n",
       "    </tr>\n",
       "    <tr>\n",
       "      <th>2013-02-11</th>\n",
       "      <td>0.020110</td>\n",
       "    </tr>\n",
       "    <tr>\n",
       "      <th>2013-02-18</th>\n",
       "      <td>0.014383</td>\n",
       "    </tr>\n",
       "  </tbody>\n",
       "</table>\n",
       "</div>"
      ],
      "text/plain": [
       "            clickrate\n",
       "test_week            \n",
       "2013-01-21   0.024726\n",
       "2013-01-28   0.024286\n",
       "2013-02-04   0.023531\n",
       "2013-02-11   0.020110\n",
       "2013-02-18   0.014383"
      ]
     },
     "metadata": {},
     "output_type": "display_data"
    }
   ],
   "source": [
    "clickRateTS = test_packages[['test_week', 'clickrate']].set_index('test_week').sort_index()\n",
    "# Creating time series of average weekly click rate\n",
    "weekly = clickRateTS.groupby('test_week').mean()\n",
    "print('Shape of Data: ', weekly.shape)\n",
    "display(weekly.head())"
   ]
  },
  {
   "cell_type": "code",
   "execution_count": null,
   "metadata": {
    "colab": {
     "base_uri": "https://localhost:8080/",
     "height": 906
    },
    "id": "3VhHDpKSBqOX",
    "outputId": "34fcc7db-2799-409e-d084-f1ffa9f99a34"
   },
   "outputs": [
    {
     "name": "stderr",
     "output_type": "stream",
     "text": [
      "/usr/local/lib/python3.7/dist-packages/statsmodels/graphics/tsaplots.py:353: FutureWarning: The default method 'yw' can produce PACF values outside of the [-1,1] interval. After 0.13, the default will change tounadjusted Yule-Walker ('ywm'). You can use this method now by setting method='ywm'.\n",
      "  FutureWarning,\n"
     ]
    },
    {
     "data": {
      "image/png": "[encoded data removed]",
      "text/plain": [
       "<Figure size 432x288 with 1 Axes>"
      ]
     },
     "metadata": {
      "needs_background": "light"
     },
     "output_type": "display_data"
    },
    {
     "data": {
      "image/png": "[encoded data removed]",
      "text/plain": [
       "<Figure size 432x288 with 1 Axes>"
      ]
     },
     "metadata": {
      "needs_background": "light"
     },
     "output_type": "display_data"
    },
    {
     "data": {
      "image/png": "[encoded data removed]",
      "text/plain": [
       "<Figure size 432x288 with 1 Axes>"
      ]
     },
     "metadata": {
      "needs_background": "light"
     },
     "output_type": "display_data"
    }
   ],
   "source": [
    "# Visualising Time series, and plotting ACF & PACF\n",
    "fig = plt.figure()\n",
    "sns.lineplot(x=weekly.index, y=weekly['clickrate'])\n",
    "plt.title('Package Click Rate Over Time')\n",
    "plt.xticks(rotation=45)\n",
    "\n",
    "tsaplots.plot_acf(weekly, alpha=0.05)\n",
    "tsaplots.plot_pacf(weekly, alpha=0.05)\n",
    "plt.show()\n",
    "\n"
   ]
  },
  {
   "cell_type": "markdown",
   "metadata": {
    "id": "Ay0vjbVXCZhJ"
   },
   "source": [
    "We see a linear decay in the sample ACF plot, indicating that there may be a non-stationary component to the series. We will perform an Augmented Dickey-Fuller test to check if this is the case."
   ]
  },
  {
   "cell_type": "code",
   "execution_count": null,
   "metadata": {
    "colab": {
     "base_uri": "https://localhost:8080/"
    },
    "id": "nTGBqrk4CaP1",
    "outputId": "7a54ba3f-d05f-4069-9f4b-7856f6ad897b"
   },
   "outputs": [
    {
     "name": "stdout",
     "output_type": "stream",
     "text": [
      "Test Statistic:  -1.7888441550753797\n",
      "p-value:  0.38601415743452616\n",
      "Critical Values at 5%:  -2.8867966864160075\n"
     ]
    }
   ],
   "source": [
    "result = adfuller(weekly)\n",
    "print('Test Statistic: ', result[0])\n",
    "print('p-value: ', result[1])\n",
    "print('Critical Values at 5%: ', result[4]['5%'])"
   ]
  },
  {
   "cell_type": "markdown",
   "metadata": {
    "id": "Q5SZ3kbjInzp"
   },
   "source": [
    "We fail to reject the null hypothesis, that the time series has a unit root. That is, the series is not stationary. We difference the series to remove this."
   ]
  },
  {
   "cell_type": "code",
   "execution_count": null,
   "metadata": {
    "colab": {
     "base_uri": "https://localhost:8080/",
     "height": 1000
    },
    "id": "JG3orniJC98I",
    "outputId": "a448832b-2697-4888-8c5e-77f74c2c877c"
   },
   "outputs": [
    {
     "name": "stderr",
     "output_type": "stream",
     "text": [
      "/usr/local/lib/python3.7/dist-packages/statsmodels/graphics/tsaplots.py:353: FutureWarning: The default method 'yw' can produce PACF values outside of the [-1,1] interval. After 0.13, the default will change tounadjusted Yule-Walker ('ywm'). You can use this method now by setting method='ywm'.\n",
      "  FutureWarning,\n"
     ]
    },
    {
     "data": {
      "image/png": "[encoded data removed]",
      "text/plain": [
       "<Figure size 432x288 with 1 Axes>"
      ]
     },
     "metadata": {
      "needs_background": "light"
     },
     "output_type": "display_data"
    },
    {
     "data": {
      "image/png": "[encoded data removed]",
      "text/plain": [
       "<Figure size 432x288 with 1 Axes>"
      ]
     },
     "metadata": {
      "needs_background": "light"
     },
     "output_type": "display_data"
    },
    {
     "data": {
      "image/png": "[encoded data removed]",
      "text/plain": [
       "<Figure size 432x288 with 1 Axes>"
      ]
     },
     "metadata": {
      "needs_background": "light"
     },
     "output_type": "display_data"
    },
    {
     "data": {
      "image/png": "[encoded data removed]",
      "text/plain": [
       "<Figure size 432x288 with 1 Axes>"
      ]
     },
     "metadata": {
      "needs_background": "light"
     },
     "output_type": "display_data"
    },
    {
     "data": {
      "image/png": "[encoded data removed]",
      "text/plain": [
       "<Figure size 432x288 with 1 Axes>"
      ]
     },
     "metadata": {
      "needs_background": "light"
     },
     "output_type": "display_data"
    }
   ],
   "source": [
    "# drop first observation in defferenced series as this goes to null\n",
    "weeklyDiff = weekly.diff(periods=1)[1:]\n",
    "# Visualising the differenced series\n",
    "weeklyDiff.plot()\n",
    "tsaplots.plot_acf(weeklyDiff, alpha=0.05)\n",
    "tsaplots.plot_pacf(weeklyDiff, alpha=0.05)\n",
    "# plotting Squared series & squared ACF to identify hetroskedastic variance\n",
    "weeklyDiff.pow(2).plot(title='squared time series')\n",
    "tsaplots.plot_acf(weeklyDiff.pow(2))\n",
    "plt.show()"
   ]
  },
  {
   "cell_type": "code",
   "execution_count": null,
   "metadata": {
    "colab": {
     "base_uri": "https://localhost:8080/"
    },
    "id": "SVWP6RHZAUXH",
    "outputId": "86e1f5aa-dc10-4572-bffe-fc0173632fc5"
   },
   "outputs": [
    {
     "name": "stdout",
     "output_type": "stream",
     "text": [
      "Test Statistic:  -10.739971697828857\n",
      "p-value:  2.8345811118626223e-19\n",
      "Critical Value at 5%:  -2.8867966864160075\n"
     ]
    }
   ],
   "source": [
    "result = adfuller(weeklyDiff)\n",
    "print('Test Statistic: ', result[0])\n",
    "print('p-value: ', result[1])\n",
    "print('Critical Value at 5%: ', result[4]['5%'])"
   ]
  },
  {
   "cell_type": "markdown",
   "metadata": {
    "id": "GDpLV5A-DM0a"
   },
   "source": [
    "Differencing the series once has removed the trend component (the original times series is integrated of order 1). Examining the ACF and PACF plots here seems to indicate that the the differenced series may be MA(1) since the ACF has only one non-null lag, while the PACF tails off exponentially. There is also a possible hetroskadastic component to the model, with variance in package click-rate falling over time.\n",
    "\n",
    "Note: ARIMA(0,1,1) is not the only possible model here, the behavior of the ACF and PACF plots are also indicatve of a white noise with trend $Y_t = \\alpha + \\beta t + \\epsilon_t$ However, this is not a useful model if we have heteroskedasticity."
   ]
  },
  {
   "cell_type": "code",
   "execution_count": null,
   "metadata": {
    "colab": {
     "base_uri": "https://localhost:8080/"
    },
    "id": "LNLrZ8mfDRm1",
    "outputId": "ed7aba3a-84bc-4f63-aef9-bcb7a18823c9"
   },
   "outputs": [
    {
     "name": "stdout",
     "output_type": "stream",
     "text": [
      "                               SARIMAX Results                                \n",
      "==============================================================================\n",
      "Dep. Variable:              clickrate   No. Observations:                  119\n",
      "Model:                 ARIMA(0, 1, 1)   Log Likelihood                 491.342\n",
      "Date:                Sun, 07 Nov 2021   AIC                           -978.684\n",
      "Time:                        09:30:24   BIC                           -973.143\n",
      "Sample:                    01-21-2013   HQIC                          -976.434\n",
      "                         - 04-27-2015                                         \n",
      "Covariance Type:                  opg                                         \n",
      "==============================================================================\n",
      "                 coef    std err          z      P>|z|      [0.025      0.975]\n",
      "------------------------------------------------------------------------------\n",
      "ma.L1         -0.4146      0.061     -6.839      0.000      -0.533      -0.296\n",
      "sigma2      1.411e-05   1.03e-06     13.665      0.000    1.21e-05    1.61e-05\n",
      "===================================================================================\n",
      "Ljung-Box (L1) (Q):                   0.00   Jarque-Bera (JB):               144.74\n",
      "Prob(Q):                              0.98   Prob(JB):                         0.00\n",
      "Heteroskedasticity (H):               0.10   Skew:                             1.28\n",
      "Prob(H) (two-sided):                  0.00   Kurtosis:                         7.79\n",
      "===================================================================================\n",
      "\n",
      "Warnings:\n",
      "[1] Covariance matrix calculated using the outer product of gradients (complex-step).\n"
     ]
    },
    {
     "name": "stderr",
     "output_type": "stream",
     "text": [
      "/usr/local/lib/python3.7/dist-packages/statsmodels/tsa/base/tsa_model.py:539: ValueWarning: No frequency information was provided, so inferred frequency W-MON will be used.\n",
      "  % freq, ValueWarning)\n",
      "/usr/local/lib/python3.7/dist-packages/statsmodels/tsa/base/tsa_model.py:539: ValueWarning: No frequency information was provided, so inferred frequency W-MON will be used.\n",
      "  % freq, ValueWarning)\n",
      "/usr/local/lib/python3.7/dist-packages/statsmodels/tsa/base/tsa_model.py:539: ValueWarning: No frequency information was provided, so inferred frequency W-MON will be used.\n",
      "  % freq, ValueWarning)\n"
     ]
    }
   ],
   "source": [
    "# Fitting Model\n",
    "model = ARIMA(weekly, order=(0,1,1))\n",
    "model_fit = model.fit()\n",
    "print(model_fit.summary())"
   ]
  },
  {
   "cell_type": "code",
   "execution_count": null,
   "metadata": {
    "colab": {
     "base_uri": "https://localhost:8080/",
     "height": 1000
    },
    "id": "FYXOXVm3DV3Y",
    "outputId": "b4157bc6-8f21-4c57-8adb-e4509ce4445e"
   },
   "outputs": [
    {
     "data": {
      "image/png": "[encoded data removed]",
      "text/plain": [
       "<Figure size 432x288 with 1 Axes>"
      ]
     },
     "metadata": {
      "needs_background": "light"
     },
     "output_type": "display_data"
    },
    {
     "data": {
      "image/png": "[encoded data removed]",
      "text/plain": [
       "<Figure size 432x288 with 1 Axes>"
      ]
     },
     "metadata": {
      "needs_background": "light"
     },
     "output_type": "display_data"
    },
    {
     "name": "stderr",
     "output_type": "stream",
     "text": [
      "/usr/local/lib/python3.7/dist-packages/statsmodels/graphics/tsaplots.py:353: FutureWarning: The default method 'yw' can produce PACF values outside of the [-1,1] interval. After 0.13, the default will change tounadjusted Yule-Walker ('ywm'). You can use this method now by setting method='ywm'.\n",
      "  FutureWarning,\n"
     ]
    },
    {
     "data": {
      "image/png": "[encoded data removed]",
      "text/plain": [
       "<Figure size 432x288 with 1 Axes>"
      ]
     },
     "metadata": {
      "needs_background": "light"
     },
     "output_type": "display_data"
    },
    {
     "data": {
      "image/png": "[encoded data removed]",
      "text/plain": [
       "<Figure size 432x288 with 1 Axes>"
      ]
     },
     "metadata": {
      "needs_background": "light"
     },
     "output_type": "display_data"
    },
    {
     "data": {
      "image/png": "[encoded data removed]",
      "text/plain": [
       "<Figure size 432x288 with 1 Axes>"
      ]
     },
     "metadata": {
      "needs_background": "light"
     },
     "output_type": "display_data"
    }
   ],
   "source": [
    "# model predictions\n",
    "preds = model_fit.predict(start=1, end=118)\n",
    "# residual of modedl predictions\n",
    "residuals = weekly['clickrate'][1:].subtract(preds.values)\n",
    "# Plotting Fitted model vs Observed Time Series\n",
    "plt.figure()\n",
    "plt.plot(preds, label='Prediction')\n",
    "plt.plot(weekly, color='r', label='Observed')\n",
    "plt.title('Model vs. Observed')\n",
    "plt.xticks(rotation=25)\n",
    "plt.legend()\n",
    "\n",
    "plt.show()\n",
    "# Plotting Differenced Fitted Model vs Observed Differenced Time Series\n",
    "predsDiff = preds.diff(periods=1)[1:]\n",
    "weeklyDiff = weekly.diff(periods=1)[1:]\n",
    "plt.figure()\n",
    "plt.plot(predsDiff, label='Differenced Prediction')\n",
    "plt.plot(weeklyDiff, color='r', label='Differenced Observed')\n",
    "plt.title('Differenced Model vs. Differenced Observed')\n",
    "plt.xticks(rotation=25)\n",
    "plt.legend()\n",
    "plt.show()\n",
    "# Plotting Model Residuals\n",
    "residuals.plot(title='Residual Plot')\n",
    "tsaplots.plot_acf(residuals, alpha=0.05)\n",
    "tsaplots.plot_pacf(residuals, alpha=0.05)\n",
    "plt.show()"
   ]
  },
  {
   "cell_type": "code",
   "execution_count": null,
   "metadata": {
    "colab": {
     "base_uri": "https://localhost:8080/",
     "height": 1000
    },
    "id": "iRvDR6qXDYj9",
    "outputId": "c62dba26-7262-49f3-822a-e61dd2ddd5fa"
   },
   "outputs": [
    {
     "name": "stdout",
     "output_type": "stream",
     "text": [
      "Ljung Box Test Results:\n",
      "        lb_stat  lb_pvalue\n",
      "21  26.092911   0.202928\n",
      "Shapiro-Wilk Test Statistics: 0.8980158567428589, and p-value: 1.885210281216132e-07\n",
      "McLeod-Li Test Results:\n",
      "        lb_stat  lb_pvalue\n",
      "21  42.534739   0.003602\n"
     ]
    },
    {
     "data": {
      "image/png": "[encoded data removed]",
      "text/plain": [
       "<Figure size 432x288 with 1 Axes>"
      ]
     },
     "metadata": {
      "needs_background": "light"
     },
     "output_type": "display_data"
    },
    {
     "data": {
      "image/png": "[encoded data removed]",
      "text/plain": [
       "<Figure size 432x288 with 1 Axes>"
      ]
     },
     "metadata": {
      "needs_background": "light"
     },
     "output_type": "display_data"
    },
    {
     "data": {
      "image/png": "[encoded data removed]",
      "text/plain": [
       "<Figure size 432x288 with 1 Axes>"
      ]
     },
     "metadata": {
      "needs_background": "light"
     },
     "output_type": "display_data"
    },
    {
     "data": {
      "image/png": "[encoded data removed]",
      "text/plain": [
       "<Figure size 432x288 with 1 Axes>"
      ]
     },
     "metadata": {
      "needs_background": "light"
     },
     "output_type": "display_data"
    }
   ],
   "source": [
    "# EXAMINING RESIDUALS\n",
    "\n",
    "# Ljung Box test\n",
    "print('Ljung Box Test Results:\\n ', acorr_ljungbox(residuals, lags=[21]))\n",
    "# Shapiro Wilk test for normality\n",
    "print('Shapiro-Wilk Test Statistics: {}, and p-value: {}'.format(shapiro(residuals)[0], shapiro(residuals)[1]))\n",
    "# McLeod-Li test\n",
    "print('McLeod-Li Test Results:\\n ', acorr_ljungbox(residuals.pow(2), lags=[21]))\n",
    "\n",
    "# qqplot of residuals\n",
    "sm.qqplot(residuals, line='s')\n",
    "plt.show()\n",
    "# histogram of residuals\n",
    "plt.figure()\n",
    "ax = sns.histplot(residuals, stat='density', bins=30).set_title('Density Plot of Model Residuals') \n",
    "plt.show()\n",
    "# plotting squared residuals\n",
    "residuals.pow(2).plot(title='Squared Residuals')\n",
    "plt.show()\n",
    "# AFC plots for squared residuals\n",
    "tsaplots.plot_acf(residuals.pow(2), alpha=0.05, title='Squared ACF Residual PLot')\n",
    "plt.show()\n"
   ]
  },
  {
   "cell_type": "markdown",
   "metadata": {
    "id": "ETMKXpTWDgBh"
   },
   "source": [
    "We have significant heteroskedasticity. It could be hypothesise that this may be cause by phenomena such as 'viral/trending' posts, where the usual model fails to apply"
   ]
  },
  {
   "cell_type": "code",
   "execution_count": null,
   "metadata": {
    "colab": {
     "base_uri": "https://localhost:8080/",
     "height": 623
    },
    "id": "sXf8Px1m1PyN",
    "outputId": "8e0e15c6-5b81-474d-fd15-71c1c809d0ae"
   },
   "outputs": [
    {
     "name": "stdout",
     "output_type": "stream",
     "text": [
      "Iteration:      1,   Func. Count:      4,   Neg. LLF: -488.6714969222335\n",
      "Optimization terminated successfully.    (Exit mode 0)\n",
      "            Current function value: -488.6714965697319\n",
      "            Iterations: 5\n",
      "            Function evaluations: 4\n",
      "            Gradient evaluations: 1\n"
     ]
    },
    {
     "name": "stderr",
     "output_type": "stream",
     "text": [
      "/usr/local/lib/python3.7/dist-packages/arch/univariate/base.py:310: DataScaleWarning: y is poorly scaled, which may affect convergence of the optimizer when\n",
      "estimating the model parameters. The scale of y is 1.407e-05. Parameter\n",
      "estimation work better when this value is between 1 and 1000. The recommended\n",
      "rescaling is 100 * y.\n",
      "\n",
      "This warning can be disabled by either rescaling y before initializing the\n",
      "model or by setting rescale=False.\n",
      "\n",
      "  data_scale_warning.format(orig_scale, rescale), DataScaleWarning\n"
     ]
    },
    {
     "data": {
      "text/html": [
       "<table class=\"simpletable\">\n",
       "<caption>Zero Mean - ARCH Model Results</caption>\n",
       "<tr>\n",
       "  <th>Dep. Variable:</th>        <td>None</td>        <th>  R-squared:         </th>  <td>   0.000</td> \n",
       "</tr>\n",
       "<tr>\n",
       "  <th>Mean Model:</th>         <td>Zero Mean</td>     <th>  Adj. R-squared:    </th>  <td>   0.008</td> \n",
       "</tr>\n",
       "<tr>\n",
       "  <th>Vol Model:</th>            <td>ARCH</td>        <th>  Log-Likelihood:    </th> <td>   488.671</td>\n",
       "</tr>\n",
       "<tr>\n",
       "  <th>Distribution:</th>        <td>Normal</td>       <th>  AIC:               </th> <td>  -973.343</td>\n",
       "</tr>\n",
       "<tr>\n",
       "  <th>Method:</th>        <td>Maximum Likelihood</td> <th>  BIC:               </th> <td>  -967.802</td>\n",
       "</tr>\n",
       "<tr>\n",
       "  <th></th>                        <td></td>          <th>  No. Observations:  </th>     <td>118</td>   \n",
       "</tr>\n",
       "<tr>\n",
       "  <th>Date:</th>           <td>Sun, Nov 07 2021</td>  <th>  Df Residuals:      </th>     <td>118</td>   \n",
       "</tr>\n",
       "<tr>\n",
       "  <th>Time:</th>               <td>10:00:58</td>      <th>  Df Model:          </th>      <td>0</td>    \n",
       "</tr>\n",
       "</table>\n",
       "<table class=\"simpletable\">\n",
       "<caption>Volatility Model</caption>\n",
       "<tr>\n",
       "      <td></td>        <th>coef</th>     <th>std err</th>      <th>t</th>       <th>P>|t|</th>     <th>95.0% Conf. Int.</th>   \n",
       "</tr>\n",
       "<tr>\n",
       "  <th>omega</th>    <td>7.0649e-06</td> <td>1.036e-08</td> <td>  682.210</td>   <td>0.000</td>   <td>[7.045e-06,7.085e-06]</td>\n",
       "</tr>\n",
       "<tr>\n",
       "  <th>alpha[1]</th> <td>    0.2000</td> <td>    0.183</td> <td>    1.093</td> <td>    0.274</td>   <td>[ -0.159,  0.559]</td>  \n",
       "</tr>\n",
       "</table><br/><br/>Covariance estimator: robust"
      ],
      "text/plain": [
       "<class 'statsmodels.iolib.summary.Summary'>\n",
       "\"\"\"\n",
       "                        Zero Mean - ARCH Model Results                        \n",
       "==============================================================================\n",
       "Dep. Variable:                   None   R-squared:                       0.000\n",
       "Mean Model:                 Zero Mean   Adj. R-squared:                  0.008\n",
       "Vol Model:                       ARCH   Log-Likelihood:                488.671\n",
       "Distribution:                  Normal   AIC:                          -973.343\n",
       "Method:            Maximum Likelihood   BIC:                          -967.802\n",
       "                                        No. Observations:                  118\n",
       "Date:                Sun, Nov 07 2021   Df Residuals:                      118\n",
       "Time:                        10:00:58   Df Model:                            0\n",
       "                              Volatility Model                              \n",
       "============================================================================\n",
       "                 coef    std err          t      P>|t|      95.0% Conf. Int.\n",
       "----------------------------------------------------------------------------\n",
       "omega      7.0649e-06  1.036e-08    682.210      0.000 [7.045e-06,7.085e-06]\n",
       "alpha[1]       0.2000      0.183      1.093      0.274     [ -0.159,  0.559]\n",
       "============================================================================\n",
       "\n",
       "Covariance estimator: robust\n",
       "\"\"\""
      ]
     },
     "execution_count": 44,
     "metadata": {},
     "output_type": "execute_result"
    }
   ],
   "source": [
    "# Creating GARCH(1,q) model, where q is set to one, its coefficients significance tested, incremented, and so on\n",
    "\n",
    "# GARCH(1,0)\n",
    "model = arch_model(residuals, mean='Zero', vol='GARCH', p=1, q=0)\n",
    "model_fit = model.fit()\n",
    "model_fit.summary()"
   ]
  },
  {
   "cell_type": "code",
   "execution_count": null,
   "metadata": {
    "colab": {
     "base_uri": "https://localhost:8080/",
     "height": 644
    },
    "id": "M2b5SZaV1P8K",
    "outputId": "a6931386-ee2c-4090-aab4-6fba2bc95d6a"
   },
   "outputs": [
    {
     "name": "stdout",
     "output_type": "stream",
     "text": [
      "Iteration:      1,   Func. Count:      5,   Neg. LLF: -509.44343510937847\n",
      "Optimization terminated successfully.    (Exit mode 0)\n",
      "            Current function value: -509.4434360745158\n",
      "            Iterations: 5\n",
      "            Function evaluations: 5\n",
      "            Gradient evaluations: 1\n"
     ]
    },
    {
     "name": "stderr",
     "output_type": "stream",
     "text": [
      "/usr/local/lib/python3.7/dist-packages/arch/univariate/base.py:310: DataScaleWarning: y is poorly scaled, which may affect convergence of the optimizer when\n",
      "estimating the model parameters. The scale of y is 1.407e-05. Parameter\n",
      "estimation work better when this value is between 1 and 1000. The recommended\n",
      "rescaling is 100 * y.\n",
      "\n",
      "This warning can be disabled by either rescaling y before initializing the\n",
      "model or by setting rescale=False.\n",
      "\n",
      "  data_scale_warning.format(orig_scale, rescale), DataScaleWarning\n"
     ]
    },
    {
     "data": {
      "text/html": [
       "<table class=\"simpletable\">\n",
       "<caption>Zero Mean - GARCH Model Results</caption>\n",
       "<tr>\n",
       "  <th>Dep. Variable:</th>        <td>None</td>        <th>  R-squared:         </th>  <td>   0.000</td> \n",
       "</tr>\n",
       "<tr>\n",
       "  <th>Mean Model:</th>         <td>Zero Mean</td>     <th>  Adj. R-squared:    </th>  <td>   0.008</td> \n",
       "</tr>\n",
       "<tr>\n",
       "  <th>Vol Model:</th>            <td>GARCH</td>       <th>  Log-Likelihood:    </th> <td>   509.443</td>\n",
       "</tr>\n",
       "<tr>\n",
       "  <th>Distribution:</th>        <td>Normal</td>       <th>  AIC:               </th> <td>  -1012.89</td>\n",
       "</tr>\n",
       "<tr>\n",
       "  <th>Method:</th>        <td>Maximum Likelihood</td> <th>  BIC:               </th> <td>  -1004.57</td>\n",
       "</tr>\n",
       "<tr>\n",
       "  <th></th>                        <td></td>          <th>  No. Observations:  </th>     <td>118</td>   \n",
       "</tr>\n",
       "<tr>\n",
       "  <th>Date:</th>           <td>Sun, Nov 07 2021</td>  <th>  Df Residuals:      </th>     <td>118</td>   \n",
       "</tr>\n",
       "<tr>\n",
       "  <th>Time:</th>               <td>10:01:51</td>      <th>  Df Model:          </th>      <td>0</td>    \n",
       "</tr>\n",
       "</table>\n",
       "<table class=\"simpletable\">\n",
       "<caption>Volatility Model</caption>\n",
       "<tr>\n",
       "      <td></td>        <th>coef</th>     <th>std err</th>      <th>t</th>        <th>P>|t|</th>     <th>95.0% Conf. Int.</th>   \n",
       "</tr>\n",
       "<tr>\n",
       "  <th>omega</th>    <td>2.8260e-07</td> <td>2.706e-10</td> <td> 1044.313</td>    <td>0.000</td>   <td>[2.821e-07,2.831e-07]</td>\n",
       "</tr>\n",
       "<tr>\n",
       "  <th>alpha[1]</th> <td>    0.1000</td> <td>4.652e-02</td> <td>    2.150</td>  <td>3.157e-02</td>  <td>[8.832e-03,  0.191]</td> \n",
       "</tr>\n",
       "<tr>\n",
       "  <th>beta[1]</th>  <td>    0.8800</td> <td>2.535e-02</td> <td>   34.715</td> <td>4.660e-264</td>   <td>[  0.830,  0.930]</td>  \n",
       "</tr>\n",
       "</table><br/><br/>Covariance estimator: robust"
      ],
      "text/plain": [
       "<class 'statsmodels.iolib.summary.Summary'>\n",
       "\"\"\"\n",
       "                       Zero Mean - GARCH Model Results                        \n",
       "==============================================================================\n",
       "Dep. Variable:                   None   R-squared:                       0.000\n",
       "Mean Model:                 Zero Mean   Adj. R-squared:                  0.008\n",
       "Vol Model:                      GARCH   Log-Likelihood:                509.443\n",
       "Distribution:                  Normal   AIC:                          -1012.89\n",
       "Method:            Maximum Likelihood   BIC:                          -1004.57\n",
       "                                        No. Observations:                  118\n",
       "Date:                Sun, Nov 07 2021   Df Residuals:                      118\n",
       "Time:                        10:01:51   Df Model:                            0\n",
       "                              Volatility Model                              \n",
       "============================================================================\n",
       "                 coef    std err          t      P>|t|      95.0% Conf. Int.\n",
       "----------------------------------------------------------------------------\n",
       "omega      2.8260e-07  2.706e-10   1044.313      0.000 [2.821e-07,2.831e-07]\n",
       "alpha[1]       0.1000  4.652e-02      2.150  3.157e-02   [8.832e-03,  0.191]\n",
       "beta[1]        0.8800  2.535e-02     34.715 4.660e-264     [  0.830,  0.930]\n",
       "============================================================================\n",
       "\n",
       "Covariance estimator: robust\n",
       "\"\"\""
      ]
     },
     "execution_count": 45,
     "metadata": {},
     "output_type": "execute_result"
    }
   ],
   "source": [
    "# GARCH(1,1)\n",
    "model = arch_model(residuals, mean='Zero', vol='GARCH', p=1, q=1)\n",
    "model_fit = model.fit()\n",
    "model_fit.summary()"
   ]
  },
  {
   "cell_type": "code",
   "execution_count": null,
   "metadata": {
    "colab": {
     "base_uri": "https://localhost:8080/",
     "height": 665
    },
    "id": "tx-MMYT8MK8y",
    "outputId": "4d1a5e70-897a-49c6-f576-176cfac83dc4"
   },
   "outputs": [
    {
     "name": "stdout",
     "output_type": "stream",
     "text": [
      "Iteration:      1,   Func. Count:      6,   Neg. LLF: -510.20340042985606\n",
      "Optimization terminated successfully.    (Exit mode 0)\n",
      "            Current function value: -510.2034000524083\n",
      "            Iterations: 5\n",
      "            Function evaluations: 6\n",
      "            Gradient evaluations: 1\n"
     ]
    },
    {
     "name": "stderr",
     "output_type": "stream",
     "text": [
      "/usr/local/lib/python3.7/dist-packages/arch/univariate/base.py:310: DataScaleWarning: y is poorly scaled, which may affect convergence of the optimizer when\n",
      "estimating the model parameters. The scale of y is 1.407e-05. Parameter\n",
      "estimation work better when this value is between 1 and 1000. The recommended\n",
      "rescaling is 100 * y.\n",
      "\n",
      "This warning can be disabled by either rescaling y before initializing the\n",
      "model or by setting rescale=False.\n",
      "\n",
      "  data_scale_warning.format(orig_scale, rescale), DataScaleWarning\n"
     ]
    },
    {
     "data": {
      "text/html": [
       "<table class=\"simpletable\">\n",
       "<caption>Zero Mean - GARCH Model Results</caption>\n",
       "<tr>\n",
       "  <th>Dep. Variable:</th>        <td>None</td>        <th>  R-squared:         </th>  <td>   0.000</td> \n",
       "</tr>\n",
       "<tr>\n",
       "  <th>Mean Model:</th>         <td>Zero Mean</td>     <th>  Adj. R-squared:    </th>  <td>   0.008</td> \n",
       "</tr>\n",
       "<tr>\n",
       "  <th>Vol Model:</th>            <td>GARCH</td>       <th>  Log-Likelihood:    </th> <td>   510.203</td>\n",
       "</tr>\n",
       "<tr>\n",
       "  <th>Distribution:</th>        <td>Normal</td>       <th>  AIC:               </th> <td>  -1012.41</td>\n",
       "</tr>\n",
       "<tr>\n",
       "  <th>Method:</th>        <td>Maximum Likelihood</td> <th>  BIC:               </th> <td>  -1001.32</td>\n",
       "</tr>\n",
       "<tr>\n",
       "  <th></th>                        <td></td>          <th>  No. Observations:  </th>     <td>118</td>   \n",
       "</tr>\n",
       "<tr>\n",
       "  <th>Date:</th>           <td>Sun, Nov 07 2021</td>  <th>  Df Residuals:      </th>     <td>118</td>   \n",
       "</tr>\n",
       "<tr>\n",
       "  <th>Time:</th>               <td>10:03:19</td>      <th>  Df Model:          </th>      <td>0</td>    \n",
       "</tr>\n",
       "</table>\n",
       "<table class=\"simpletable\">\n",
       "<caption>Volatility Model</caption>\n",
       "<tr>\n",
       "      <td></td>        <th>coef</th>     <th>std err</th>      <th>t</th>       <th>P>|t|</th>     <th>95.0% Conf. Int.</th>   \n",
       "</tr>\n",
       "<tr>\n",
       "  <th>omega</th>    <td>2.8260e-07</td> <td>2.680e-10</td> <td> 1054.338</td>   <td>0.000</td>   <td>[2.821e-07,2.831e-07]</td>\n",
       "</tr>\n",
       "<tr>\n",
       "  <th>alpha[1]</th> <td>    0.2000</td> <td>7.728e-02</td> <td>    2.588</td> <td>9.657e-03</td>  <td>[4.853e-02,  0.351]</td> \n",
       "</tr>\n",
       "<tr>\n",
       "  <th>beta[1]</th>  <td>    0.3900</td> <td>    0.149</td> <td>    2.625</td> <td>8.673e-03</td>  <td>[9.877e-02,  0.681]</td> \n",
       "</tr>\n",
       "<tr>\n",
       "  <th>beta[2]</th>  <td>    0.3900</td> <td>    0.172</td> <td>    2.270</td> <td>2.319e-02</td>  <td>[5.332e-02,  0.727]</td> \n",
       "</tr>\n",
       "</table><br/><br/>Covariance estimator: robust"
      ],
      "text/plain": [
       "<class 'statsmodels.iolib.summary.Summary'>\n",
       "\"\"\"\n",
       "                       Zero Mean - GARCH Model Results                        \n",
       "==============================================================================\n",
       "Dep. Variable:                   None   R-squared:                       0.000\n",
       "Mean Model:                 Zero Mean   Adj. R-squared:                  0.008\n",
       "Vol Model:                      GARCH   Log-Likelihood:                510.203\n",
       "Distribution:                  Normal   AIC:                          -1012.41\n",
       "Method:            Maximum Likelihood   BIC:                          -1001.32\n",
       "                                        No. Observations:                  118\n",
       "Date:                Sun, Nov 07 2021   Df Residuals:                      118\n",
       "Time:                        10:03:19   Df Model:                            0\n",
       "                              Volatility Model                              \n",
       "============================================================================\n",
       "                 coef    std err          t      P>|t|      95.0% Conf. Int.\n",
       "----------------------------------------------------------------------------\n",
       "omega      2.8260e-07  2.680e-10   1054.338      0.000 [2.821e-07,2.831e-07]\n",
       "alpha[1]       0.2000  7.728e-02      2.588  9.657e-03   [4.853e-02,  0.351]\n",
       "beta[1]        0.3900      0.149      2.625  8.673e-03   [9.877e-02,  0.681]\n",
       "beta[2]        0.3900      0.172      2.270  2.319e-02   [5.332e-02,  0.727]\n",
       "============================================================================\n",
       "\n",
       "Covariance estimator: robust\n",
       "\"\"\""
      ]
     },
     "execution_count": 46,
     "metadata": {},
     "output_type": "execute_result"
    }
   ],
   "source": [
    "# GARCH(1,2)\n",
    "model = arch_model(residuals, mean='Zero', vol='GARCH', p=1, q=2)\n",
    "model_fit = model.fit()\n",
    "model_fit.summary()"
   ]
  },
  {
   "cell_type": "code",
   "execution_count": null,
   "metadata": {
    "colab": {
     "base_uri": "https://localhost:8080/",
     "height": 687
    },
    "id": "emwhq9WG24oS",
    "outputId": "1ff4c3f8-38fd-4fd5-8789-69f457b4c659"
   },
   "outputs": [
    {
     "name": "stdout",
     "output_type": "stream",
     "text": [
      "Iteration:      1,   Func. Count:      7,   Neg. LLF: -511.3068249158105\n",
      "Optimization terminated successfully.    (Exit mode 0)\n",
      "            Current function value: -511.3068252451792\n",
      "            Iterations: 5\n",
      "            Function evaluations: 7\n",
      "            Gradient evaluations: 1\n"
     ]
    },
    {
     "name": "stderr",
     "output_type": "stream",
     "text": [
      "/usr/local/lib/python3.7/dist-packages/arch/univariate/base.py:310: DataScaleWarning: y is poorly scaled, which may affect convergence of the optimizer when\n",
      "estimating the model parameters. The scale of y is 1.407e-05. Parameter\n",
      "estimation work better when this value is between 1 and 1000. The recommended\n",
      "rescaling is 100 * y.\n",
      "\n",
      "This warning can be disabled by either rescaling y before initializing the\n",
      "model or by setting rescale=False.\n",
      "\n",
      "  data_scale_warning.format(orig_scale, rescale), DataScaleWarning\n"
     ]
    },
    {
     "data": {
      "text/html": [
       "<table class=\"simpletable\">\n",
       "<caption>Zero Mean - GARCH Model Results</caption>\n",
       "<tr>\n",
       "  <th>Dep. Variable:</th>        <td>None</td>        <th>  R-squared:         </th>  <td>   0.000</td> \n",
       "</tr>\n",
       "<tr>\n",
       "  <th>Mean Model:</th>         <td>Zero Mean</td>     <th>  Adj. R-squared:    </th>  <td>   0.008</td> \n",
       "</tr>\n",
       "<tr>\n",
       "  <th>Vol Model:</th>            <td>GARCH</td>       <th>  Log-Likelihood:    </th> <td>   511.307</td>\n",
       "</tr>\n",
       "<tr>\n",
       "  <th>Distribution:</th>        <td>Normal</td>       <th>  AIC:               </th> <td>  -1012.61</td>\n",
       "</tr>\n",
       "<tr>\n",
       "  <th>Method:</th>        <td>Maximum Likelihood</td> <th>  BIC:               </th> <td>  -998.760</td>\n",
       "</tr>\n",
       "<tr>\n",
       "  <th></th>                        <td></td>          <th>  No. Observations:  </th>     <td>118</td>   \n",
       "</tr>\n",
       "<tr>\n",
       "  <th>Date:</th>           <td>Sun, Nov 07 2021</td>  <th>  Df Residuals:      </th>     <td>118</td>   \n",
       "</tr>\n",
       "<tr>\n",
       "  <th>Time:</th>               <td>10:05:04</td>      <th>  Df Model:          </th>      <td>0</td>    \n",
       "</tr>\n",
       "</table>\n",
       "<table class=\"simpletable\">\n",
       "<caption>Volatility Model</caption>\n",
       "<tr>\n",
       "      <td></td>        <th>coef</th>     <th>std err</th>      <th>t</th>       <th>P>|t|</th>     <th>95.0% Conf. Int.</th>   \n",
       "</tr>\n",
       "<tr>\n",
       "  <th>omega</th>    <td>2.8260e-07</td> <td>2.487e-10</td> <td> 1136.317</td>   <td>0.000</td>   <td>[2.821e-07,2.831e-07]</td>\n",
       "</tr>\n",
       "<tr>\n",
       "  <th>alpha[1]</th> <td>    0.2000</td> <td>    0.100</td> <td>    1.999</td> <td>4.560e-02</td>  <td>[3.913e-03,  0.396]</td> \n",
       "</tr>\n",
       "<tr>\n",
       "  <th>beta[1]</th>  <td>    0.2600</td> <td>    0.262</td> <td>    0.993</td> <td>    0.321</td>   <td>[ -0.253,  0.773]</td>  \n",
       "</tr>\n",
       "<tr>\n",
       "  <th>beta[2]</th>  <td>    0.2600</td> <td>    0.143</td> <td>    1.820</td> <td>6.875e-02</td> <td>[-1.999e-02,  0.540]</td> \n",
       "</tr>\n",
       "<tr>\n",
       "  <th>beta[3]</th>  <td>    0.2600</td> <td>    0.215</td> <td>    1.211</td> <td>    0.226</td>   <td>[ -0.161,  0.681]</td>  \n",
       "</tr>\n",
       "</table><br/><br/>Covariance estimator: robust"
      ],
      "text/plain": [
       "<class 'statsmodels.iolib.summary.Summary'>\n",
       "\"\"\"\n",
       "                       Zero Mean - GARCH Model Results                        \n",
       "==============================================================================\n",
       "Dep. Variable:                   None   R-squared:                       0.000\n",
       "Mean Model:                 Zero Mean   Adj. R-squared:                  0.008\n",
       "Vol Model:                      GARCH   Log-Likelihood:                511.307\n",
       "Distribution:                  Normal   AIC:                          -1012.61\n",
       "Method:            Maximum Likelihood   BIC:                          -998.760\n",
       "                                        No. Observations:                  118\n",
       "Date:                Sun, Nov 07 2021   Df Residuals:                      118\n",
       "Time:                        10:05:04   Df Model:                            0\n",
       "                              Volatility Model                              \n",
       "============================================================================\n",
       "                 coef    std err          t      P>|t|      95.0% Conf. Int.\n",
       "----------------------------------------------------------------------------\n",
       "omega      2.8260e-07  2.487e-10   1136.317      0.000 [2.821e-07,2.831e-07]\n",
       "alpha[1]       0.2000      0.100      1.999  4.560e-02   [3.913e-03,  0.396]\n",
       "beta[1]        0.2600      0.262      0.993      0.321     [ -0.253,  0.773]\n",
       "beta[2]        0.2600      0.143      1.820  6.875e-02  [-1.999e-02,  0.540]\n",
       "beta[3]        0.2600      0.215      1.211      0.226     [ -0.161,  0.681]\n",
       "============================================================================\n",
       "\n",
       "Covariance estimator: robust\n",
       "\"\"\""
      ]
     },
     "execution_count": 48,
     "metadata": {},
     "output_type": "execute_result"
    }
   ],
   "source": [
    "# GARCH(1,3)\n",
    "model = arch_model(residuals, mean='Zero', vol='GARCH', p=1, q=3)\n",
    "model_fit = model.fit()\n",
    "model_fit.summary()"
   ]
  },
  {
   "cell_type": "markdown",
   "metadata": {
    "id": "wsKrw9WZ3Lmp"
   },
   "source": [
    "GARCH(1,3) Model coefficients not significant, therefore we may stop."
   ]
  },
  {
   "cell_type": "code",
   "execution_count": null,
   "metadata": {
    "colab": {
     "base_uri": "https://localhost:8080/",
     "height": 1000
    },
    "id": "HU3od2bB62gj",
    "outputId": "506fd22c-2bfa-4daa-8506-245985e03ef9"
   },
   "outputs": [
    {
     "name": "stdout",
     "output_type": "stream",
     "text": [
      "Iteration:      1,   Func. Count:      5,   Neg. LLF: -509.44343510937847\n",
      "Optimization terminated successfully.    (Exit mode 0)\n",
      "            Current function value: -509.4434360745158\n",
      "            Iterations: 5\n",
      "            Function evaluations: 5\n",
      "            Gradient evaluations: 1\n"
     ]
    },
    {
     "name": "stderr",
     "output_type": "stream",
     "text": [
      "/usr/local/lib/python3.7/dist-packages/arch/univariate/base.py:310: DataScaleWarning: y is poorly scaled, which may affect convergence of the optimizer when\n",
      "estimating the model parameters. The scale of y is 1.407e-05. Parameter\n",
      "estimation work better when this value is between 1 and 1000. The recommended\n",
      "rescaling is 100 * y.\n",
      "\n",
      "This warning can be disabled by either rescaling y before initializing the\n",
      "model or by setting rescale=False.\n",
      "\n",
      "  data_scale_warning.format(orig_scale, rescale), DataScaleWarning\n",
      "/usr/local/lib/python3.7/dist-packages/statsmodels/graphics/tsaplots.py:353: FutureWarning: The default method 'yw' can produce PACF values outside of the [-1,1] interval. After 0.13, the default will change tounadjusted Yule-Walker ('ywm'). You can use this method now by setting method='ywm'.\n",
      "  FutureWarning,\n"
     ]
    },
    {
     "data": {
      "text/plain": [
       "<Figure size 432x288 with 0 Axes>"
      ]
     },
     "metadata": {},
     "output_type": "display_data"
    },
    {
     "data": {
      "image/png": "[encoded data removed]",
      "text/plain": [
       "<Figure size 432x288 with 1 Axes>"
      ]
     },
     "metadata": {
      "needs_background": "light"
     },
     "output_type": "display_data"
    },
    {
     "data": {
      "text/plain": [
       "<Figure size 432x288 with 0 Axes>"
      ]
     },
     "metadata": {},
     "output_type": "display_data"
    },
    {
     "data": {
      "image/png": "[encoded data removed]",
      "text/plain": [
       "<Figure size 432x288 with 1 Axes>"
      ]
     },
     "metadata": {
      "needs_background": "light"
     },
     "output_type": "display_data"
    },
    {
     "data": {
      "text/plain": [
       "<Figure size 432x288 with 0 Axes>"
      ]
     },
     "metadata": {},
     "output_type": "display_data"
    },
    {
     "data": {
      "image/png": "[encoded data removed]",
      "text/plain": [
       "<Figure size 432x288 with 1 Axes>"
      ]
     },
     "metadata": {
      "needs_background": "light"
     },
     "output_type": "display_data"
    },
    {
     "name": "stdout",
     "output_type": "stream",
     "text": [
      "Ljung Box Test Results:\n",
      "        lb_stat  lb_pvalue\n",
      "21  16.923601   0.715727\n",
      "McLeod-Li Test Results:\n",
      "       lb_stat  lb_pvalue\n",
      "21  19.35769   0.562206\n",
      "Shapiro-Wilk Test Stat is 0.921511173248291 with a p-value of 3.4940208024636377e-06\n"
     ]
    }
   ],
   "source": [
    "model = arch_model(residuals, mean='Zero', vol='GARCH', p=1, q=1)\n",
    "model_fit = model.fit()\n",
    "standRes = model_fit.resid/model_fit.conditional_volatility\n",
    "\n",
    "# plotting standardized residuals\n",
    "plt.figure()\n",
    "tsaplots.plot_acf(standRes, alpha=0.05, title='Standardized Residual ACF')\n",
    "\n",
    "# ACF of Standardized residuals\n",
    "plt.figure()\n",
    "tsaplots.plot_pacf(standRes, alpha=0.05, title='Standardized Residual PACF')\n",
    "\n",
    "# Q-Q plot of standardized residuals\n",
    "plt.figure()\n",
    "sm.qqplot(standRes, line='s', markerfacecolor='#1f77b4', markeredgecolor='k')\n",
    "plt.title('Q-Q plot of Standardized Model Residuals')\n",
    "plt.show()\n",
    "\n",
    "# RESIDUAL TESTS\n",
    "# Ljung Box test\n",
    "print('Ljung Box Test Results:\\n ', acorr_ljungbox(standRes, lags=[21]))\n",
    "# McLeod-Li test\n",
    "print('McLeod-Li Test Results:\\n ', acorr_ljungbox(standRes.pow(2), lags=[21]))\n",
    "# Shapiro Wilk test for normality\n",
    "print('Shapiro-Wilk Test Stat is {} with a p-value of {}'.format(shapiro(standRes)[0], shapiro(standRes)[1]))"
   ]
  },
  {
   "cell_type": "code",
   "execution_count": null,
   "metadata": {
    "id": "Uzx72V95f9Dv"
   },
   "outputs": [],
   "source": [
    "!pip install --upgrade --no-deps statsmodels"
   ]
  },
  {
   "cell_type": "code",
   "execution_count": null,
   "metadata": {
    "id": "ZHBvUOewqT-L"
   },
   "outputs": [],
   "source": [
    "!pip install pmdarima"
   ]
  },
  {
   "cell_type": "code",
   "execution_count": null,
   "metadata": {
    "id": "cy9JgBrbf9Dy"
   },
   "outputs": [],
   "source": [
    "from statsmodels.tsa.arima.model import ARIMA"
   ]
  },
  {
   "cell_type": "code",
   "execution_count": null,
   "metadata": {
    "id": "8hERBPJlf9Dz"
   },
   "outputs": [],
   "source": [
    "import numpy as np\n",
    "import pandas as pd\n",
    "import matplotlib.pyplot as plt\n",
    "from collections import Counter\n",
    "from tqdm import tqdm\n",
    "import statistics\n",
    "import statsmodels.tsa.stattools as tsa\n",
    "from statsmodels.graphics import tsaplots\n",
    "import statsmodels.api as sm\n",
    "from scipy.stats import shapiro\n",
    "import seaborn as sns\n",
    "\n",
    "from sklearn.metrics import mean_squared_error\n",
    "from statsmodels.tsa.stattools import adfuller\n",
    "from statsmodels.stats.diagnostic import acorr_ljungbox"
   ]
  },
  {
   "cell_type": "code",
   "execution_count": null,
   "metadata": {
    "id": "U0WwH5TRpPBz"
   },
   "outputs": [],
   "source": [
    "import pmdarima as pm"
   ]
  },
  {
   "cell_type": "markdown",
   "metadata": {
    "id": "E4WzpVbTq627"
   },
   "source": [
    "### Sentiment change over time"
   ]
  },
  {
   "cell_type": "code",
   "execution_count": null,
   "metadata": {
    "id": "OD3Xtzj2rTmW"
   },
   "outputs": [],
   "source": [
    "test_packages = pd.read_csv('/content/drive/MyDrive/DataOpen/test_packages_with_sentiment.csv')"
   ]
  },
  {
   "cell_type": "code",
   "execution_count": null,
   "metadata": {
    "id": "d7uW2EDS0ai2"
   },
   "outputs": [],
   "source": [
    "test_packages[\"test_week\"] = pd.to_datetime(test_packages[\"test_week\"])\n",
    "test_packages[\"created_at\"] = pd.to_datetime(test_packages[\"created_at\"])"
   ]
  },
  {
   "cell_type": "code",
   "execution_count": null,
   "metadata": {
    "id": "KEgr6m2lrp58"
   },
   "outputs": [],
   "source": [
    "test_packages.head(1)"
   ]
  },
  {
   "cell_type": "markdown",
   "metadata": {
    "id": "Bw01ElOpCXxT"
   },
   "source": [
    "We want to find out what sentiment was the strongest in each of the packages, thus we define 3 new columns: max_neg, max_neu and max_pos that are boolean and indicate wheter the respective sentiment was the most pronounced."
   ]
  },
  {
   "cell_type": "code",
   "execution_count": null,
   "metadata": {
    "id": "olNfI1nHsRNU"
   },
   "outputs": [],
   "source": [
    "test_packages['max_neg'] = test_packages[['neg','neu','pos']].max(axis=1) == test_packages['neg']\n",
    "test_packages['max_neu'] = test_packages[['neg','neu','pos']].max(axis=1) == test_packages['neu']\n",
    "test_packages['max_pos'] = test_packages[['neg','neu','pos']].max(axis=1) == test_packages['pos']"
   ]
  },
  {
   "cell_type": "markdown",
   "metadata": {
    "id": "yOm1o0JCCtUT"
   },
   "source": [
    "We also want to know what the most pronounced sentiment in the most clicked package was. Here we (still) define the tests different than in the original data set, as we keep the week and image_id constant, but do not need to keep the specific test_id constant, as we have distinct headlines and can thus already reason about causality. The newly created boolean colomns neg_high, neu_high, pos_high thus indicate whether a respective package was the most clicked within their test and wheterh the most pronounced senteiment was negative, neutral or positive, respectively. "
   ]
  },
  {
   "cell_type": "code",
   "execution_count": null,
   "metadata": {
    "id": "KqPwyE1CAfPw"
   },
   "outputs": [],
   "source": [
    "test_packages['neg_high'] = test_packages.max_neg.eq(True) & test_packages.high_ctr_test_image.eq(True)\n",
    "test_packages['neu_high'] = test_packages.max_neu.eq(True) & test_packages.high_ctr_test_image.eq(True)\n",
    "test_packages['pos_high'] = test_packages.max_pos.eq(True) & test_packages.high_ctr_test_image.eq(True)"
   ]
  },
  {
   "cell_type": "markdown",
   "metadata": {
    "id": "hbOml1TYuIxf"
   },
   "source": [
    "Most of the time, negative sentiment dominates among the 3 sentiment levels"
   ]
  },
  {
   "cell_type": "code",
   "execution_count": null,
   "metadata": {
    "colab": {
     "base_uri": "https://localhost:8080/"
    },
    "id": "WRzFhmOosyiS",
    "outputId": "5af19d82-0a4a-40ec-fd04-402c1521f235"
   },
   "outputs": [
    {
     "data": {
      "text/plain": [
       "neg_high    7228\n",
       "neu_high    6545\n",
       "pos_high    2677\n",
       "dtype: int64"
      ]
     },
     "execution_count": 11,
     "metadata": {},
     "output_type": "execute_result"
    }
   ],
   "source": [
    "test_packages[['neg_high','neu_high','pos_high']].sum()"
   ]
  },
  {
   "cell_type": "code",
   "execution_count": null,
   "metadata": {
    "id": "LF7PwLtsrWke"
   },
   "outputs": [],
   "source": [
    "weekly = test_packages.groupby('test_week').aggregate({'test_id':'count', 'impressions':'sum', 'clicks':'sum', 'max_neg':'sum', 'max_neu':'sum','max_pos':'sum', 'neg_high':'sum', 'neu_high':'sum', 'pos_high':'sum'})\n",
    "weekly['clickrate'] = weekly['clicks']/weekly['impressions']"
   ]
  },
  {
   "cell_type": "markdown",
   "metadata": {
    "id": "q_db6mF1Dhpl"
   },
   "source": [
    "We want to know what was the weekly percentage of mostly negative, neutral or positive sentiment, respectivley. This way the results can be compared to the number of most clicked packages from each of these 3 sentiment categories."
   ]
  },
  {
   "cell_type": "code",
   "execution_count": null,
   "metadata": {
    "id": "tqNSRclktn8E"
   },
   "outputs": [],
   "source": [
    "weekly['pneg'] = weekly.max_neg/weekly.test_id\n",
    "weekly['pneu'] = weekly.max_neu/weekly.test_id\n",
    "weekly['ppos'] = weekly.max_pos/weekly.test_id"
   ]
  },
  {
   "cell_type": "code",
   "execution_count": null,
   "metadata": {
    "id": "P9bR7o4eLin1"
   },
   "outputs": [],
   "source": [
    "total_weekly_high = weekly.neg_high + weekly.neu_high + weekly.pos_high\n",
    "weekly['pneg_high'] = weekly.neg_high/total_weekly_high\n",
    "weekly['pneu_high'] = weekly.neu_high/total_weekly_high\n",
    "weekly['ppos_high'] = weekly.pos_high/total_weekly_high"
   ]
  },
  {
   "cell_type": "code",
   "execution_count": null,
   "metadata": {
    "colab": {
     "base_uri": "https://localhost:8080/",
     "height": 235
    },
    "id": "83-xR5HkCFNd",
    "outputId": "6c1ba30f-de13-4fb5-e78f-25fe067c95b6"
   },
   "outputs": [
    {
     "data": {
      "text/html": [
       "<div>\n",
       "<style scoped>\n",
       "    .dataframe tbody tr th:only-of-type {\n",
       "        vertical-align: middle;\n",
       "    }\n",
       "\n",
       "    .dataframe tbody tr th {\n",
       "        vertical-align: top;\n",
       "    }\n",
       "\n",
       "    .dataframe thead th {\n",
       "        text-align: right;\n",
       "    }\n",
       "</style>\n",
       "<table border=\"1\" class=\"dataframe\">\n",
       "  <thead>\n",
       "    <tr style=\"text-align: right;\">\n",
       "      <th></th>\n",
       "      <th>test_id</th>\n",
       "      <th>impressions</th>\n",
       "      <th>clicks</th>\n",
       "      <th>max_neg</th>\n",
       "      <th>max_neu</th>\n",
       "      <th>max_pos</th>\n",
       "      <th>neg_high</th>\n",
       "      <th>neu_high</th>\n",
       "      <th>pos_high</th>\n",
       "      <th>clickrate</th>\n",
       "      <th>pneg</th>\n",
       "      <th>pneu</th>\n",
       "      <th>ppos</th>\n",
       "      <th>pneg_high</th>\n",
       "      <th>pneu_high</th>\n",
       "      <th>ppos_high</th>\n",
       "    </tr>\n",
       "    <tr>\n",
       "      <th>test_week</th>\n",
       "      <th></th>\n",
       "      <th></th>\n",
       "      <th></th>\n",
       "      <th></th>\n",
       "      <th></th>\n",
       "      <th></th>\n",
       "      <th></th>\n",
       "      <th></th>\n",
       "      <th></th>\n",
       "      <th></th>\n",
       "      <th></th>\n",
       "      <th></th>\n",
       "      <th></th>\n",
       "      <th></th>\n",
       "      <th></th>\n",
       "      <th></th>\n",
       "    </tr>\n",
       "  </thead>\n",
       "  <tbody>\n",
       "    <tr>\n",
       "      <th>2013-01-21</th>\n",
       "      <td>22</td>\n",
       "      <td>42335</td>\n",
       "      <td>1165</td>\n",
       "      <td>17</td>\n",
       "      <td>3</td>\n",
       "      <td>2</td>\n",
       "      <td>6</td>\n",
       "      <td>0</td>\n",
       "      <td>1</td>\n",
       "      <td>0.027519</td>\n",
       "      <td>0.772727</td>\n",
       "      <td>0.136364</td>\n",
       "      <td>0.090909</td>\n",
       "      <td>0.857143</td>\n",
       "      <td>0.000000</td>\n",
       "      <td>0.142857</td>\n",
       "    </tr>\n",
       "    <tr>\n",
       "      <th>2013-01-28</th>\n",
       "      <td>19</td>\n",
       "      <td>46655</td>\n",
       "      <td>1150</td>\n",
       "      <td>5</td>\n",
       "      <td>9</td>\n",
       "      <td>5</td>\n",
       "      <td>2</td>\n",
       "      <td>2</td>\n",
       "      <td>1</td>\n",
       "      <td>0.024649</td>\n",
       "      <td>0.263158</td>\n",
       "      <td>0.473684</td>\n",
       "      <td>0.263158</td>\n",
       "      <td>0.400000</td>\n",
       "      <td>0.400000</td>\n",
       "      <td>0.200000</td>\n",
       "    </tr>\n",
       "    <tr>\n",
       "      <th>2013-02-04</th>\n",
       "      <td>106</td>\n",
       "      <td>302866</td>\n",
       "      <td>7134</td>\n",
       "      <td>49</td>\n",
       "      <td>45</td>\n",
       "      <td>12</td>\n",
       "      <td>16</td>\n",
       "      <td>9</td>\n",
       "      <td>6</td>\n",
       "      <td>0.023555</td>\n",
       "      <td>0.462264</td>\n",
       "      <td>0.424528</td>\n",
       "      <td>0.113208</td>\n",
       "      <td>0.516129</td>\n",
       "      <td>0.290323</td>\n",
       "      <td>0.193548</td>\n",
       "    </tr>\n",
       "    <tr>\n",
       "      <th>2013-02-11</th>\n",
       "      <td>187</td>\n",
       "      <td>515211</td>\n",
       "      <td>10492</td>\n",
       "      <td>80</td>\n",
       "      <td>76</td>\n",
       "      <td>31</td>\n",
       "      <td>24</td>\n",
       "      <td>19</td>\n",
       "      <td>12</td>\n",
       "      <td>0.020364</td>\n",
       "      <td>0.427807</td>\n",
       "      <td>0.406417</td>\n",
       "      <td>0.165775</td>\n",
       "      <td>0.436364</td>\n",
       "      <td>0.345455</td>\n",
       "      <td>0.218182</td>\n",
       "    </tr>\n",
       "    <tr>\n",
       "      <th>2013-02-18</th>\n",
       "      <td>140</td>\n",
       "      <td>424712</td>\n",
       "      <td>6011</td>\n",
       "      <td>43</td>\n",
       "      <td>62</td>\n",
       "      <td>35</td>\n",
       "      <td>16</td>\n",
       "      <td>17</td>\n",
       "      <td>12</td>\n",
       "      <td>0.014153</td>\n",
       "      <td>0.307143</td>\n",
       "      <td>0.442857</td>\n",
       "      <td>0.250000</td>\n",
       "      <td>0.355556</td>\n",
       "      <td>0.377778</td>\n",
       "      <td>0.266667</td>\n",
       "    </tr>\n",
       "  </tbody>\n",
       "</table>\n",
       "</div>"
      ],
      "text/plain": [
       "            test_id  impressions  clicks  ...  pneg_high  pneu_high  ppos_high\n",
       "test_week                                 ...                                 \n",
       "2013-01-21       22        42335    1165  ...   0.857143   0.000000   0.142857\n",
       "2013-01-28       19        46655    1150  ...   0.400000   0.400000   0.200000\n",
       "2013-02-04      106       302866    7134  ...   0.516129   0.290323   0.193548\n",
       "2013-02-11      187       515211   10492  ...   0.436364   0.345455   0.218182\n",
       "2013-02-18      140       424712    6011  ...   0.355556   0.377778   0.266667\n",
       "\n",
       "[5 rows x 16 columns]"
      ]
     },
     "execution_count": 15,
     "metadata": {},
     "output_type": "execute_result"
    }
   ],
   "source": [
    "weekly.head()"
   ]
  },
  {
   "cell_type": "markdown",
   "metadata": {
    "id": "J3wtd9vEyzNK"
   },
   "source": [
    "Developement of percentage of negative, neutral and positive sentiment most clicked in tested packages per week"
   ]
  },
  {
   "cell_type": "code",
   "execution_count": null,
   "metadata": {
    "colab": {
     "base_uri": "https://localhost:8080/",
     "height": 315
    },
    "id": "noXKnhb_ufi2",
    "outputId": "4c9d2953-f57d-49c0-cd8c-2cb963117d3c"
   },
   "outputs": [
    {
     "data": {
      "text/plain": [
       "<matplotlib.legend.Legend at 0x7fbdea5f03d0>"
      ]
     },
     "execution_count": 16,
     "metadata": {},
     "output_type": "execute_result"
    },
    {
     "data": {
      "image/png": "[encoded data removed]",
      "text/plain": [
       "<Figure size 432x288 with 1 Axes>"
      ]
     },
     "metadata": {
      "needs_background": "light"
     },
     "output_type": "display_data"
    }
   ],
   "source": [
    "plt.figure()\n",
    "plt.plot(weekly.pneg_high, label='Negative')\n",
    "plt.plot(weekly.pneu_high, label='Neutral')\n",
    "plt.plot(weekly.ppos_high, label='Positive')\n",
    "plt.title('Percentage of Most Clicked Sentiment over Time')\n",
    "plt.xticks(rotation=25)\n",
    "plt.legend()"
   ]
  },
  {
   "cell_type": "code",
   "execution_count": null,
   "metadata": {
    "id": "Gz7mPd1zz-L9"
   },
   "outputs": [],
   "source": [
    "# Visualising the differenced series\n",
    "weekly.ppos_high.plot()\n",
    "tsaplots.plot_acf(weekly.ppos_high, alpha=0.05)\n",
    "tsaplots.plot_pacf(weekly.ppos_high, alpha=0.05)\n"
   ]
  },
  {
   "cell_type": "markdown",
   "metadata": {
    "id": "Hbtc1U2K9Dfd"
   },
   "source": [
    "Sample inference for percentage of packages per week with positive sentiment. The negative and neutral sentiment time series are both constant and the best fitted ARIMA models are ARIMA(0,0,0), so a constant, for both. This in turn, indicates stable percentage of sentiment over time.  "
   ]
  },
  {
   "cell_type": "code",
   "execution_count": null,
   "metadata": {
    "colab": {
     "base_uri": "https://localhost:8080/"
    },
    "id": "opUAaGQk8_i8",
    "outputId": "7125ed13-2459-41b4-8a09-395ac8d4fb2c"
   },
   "outputs": [
    {
     "name": "stdout",
     "output_type": "stream",
     "text": [
      "ADF Statistic: -10.983014\n",
      "p-value: 0.000000\n"
     ]
    }
   ],
   "source": [
    "result = adfuller(weekly.pneg_high)\n",
    "print('ADF Statistic: %f' % result[0])\n",
    "print('p-value: %f' % result[1])"
   ]
  },
  {
   "cell_type": "markdown",
   "metadata": {
    "id": "JZpZsJUwQWAo"
   },
   "source": [
    "Clearly the three time serieses are stationary and constant with only little variation"
   ]
  },
  {
   "cell_type": "code",
   "execution_count": null,
   "metadata": {
    "colab": {
     "base_uri": "https://localhost:8080/"
    },
    "id": "tjeDx8oQ-Vge",
    "outputId": "069d45d4-54d5-426e-9f89-d04e40be1d8e"
   },
   "outputs": [
    {
     "name": "stderr",
     "output_type": "stream",
     "text": [
      "/usr/local/lib/python3.7/dist-packages/pmdarima/arima/_validation.py:62: UserWarning: m (12) set for non-seasonal fit. Setting to 0\n",
      "  warnings.warn(\"m (%i) set for non-seasonal fit. Setting to 0\" % m)\n"
     ]
    },
    {
     "name": "stdout",
     "output_type": "stream",
     "text": [
      "Performing stepwise search to minimize aic\n",
      " ARIMA(1,0,1)(0,0,0)[0]             : AIC=-379.933, Time=0.25 sec\n",
      " ARIMA(0,0,0)(0,0,0)[0]             : AIC=-79.108, Time=0.03 sec\n",
      " ARIMA(1,0,0)(0,0,0)[0]             : AIC=-309.646, Time=0.03 sec\n",
      " ARIMA(0,0,1)(0,0,0)[0]             : AIC=-164.236, Time=0.04 sec\n",
      " ARIMA(2,0,1)(0,0,0)[0]             : AIC=-378.384, Time=0.28 sec\n",
      " ARIMA(1,0,2)(0,0,0)[0]             : AIC=-378.322, Time=0.22 sec\n",
      " ARIMA(0,0,2)(0,0,0)[0]             : AIC=-214.451, Time=0.08 sec\n",
      " ARIMA(2,0,0)(0,0,0)[0]             : AIC=-347.745, Time=0.05 sec\n",
      " ARIMA(2,0,2)(0,0,0)[0]             : AIC=-375.933, Time=0.24 sec\n",
      " ARIMA(1,0,1)(0,0,0)[0] intercept   : AIC=-385.307, Time=0.28 sec\n",
      " ARIMA(0,0,1)(0,0,0)[0] intercept   : AIC=-384.817, Time=0.08 sec\n",
      " ARIMA(1,0,0)(0,0,0)[0] intercept   : AIC=-384.839, Time=0.08 sec\n",
      " ARIMA(2,0,1)(0,0,0)[0] intercept   : AIC=-385.424, Time=0.34 sec\n",
      " ARIMA(2,0,0)(0,0,0)[0] intercept   : AIC=-384.878, Time=0.15 sec\n",
      " ARIMA(3,0,1)(0,0,0)[0] intercept   : AIC=-384.129, Time=0.34 sec\n",
      " ARIMA(2,0,2)(0,0,0)[0] intercept   : AIC=-383.115, Time=0.43 sec\n",
      " ARIMA(1,0,2)(0,0,0)[0] intercept   : AIC=-386.223, Time=0.30 sec\n",
      " ARIMA(0,0,2)(0,0,0)[0] intercept   : AIC=-384.225, Time=0.15 sec\n",
      " ARIMA(1,0,3)(0,0,0)[0] intercept   : AIC=-385.776, Time=0.40 sec\n",
      " ARIMA(0,0,3)(0,0,0)[0] intercept   : AIC=-384.015, Time=0.37 sec\n",
      " ARIMA(2,0,3)(0,0,0)[0] intercept   : AIC=-382.306, Time=0.56 sec\n",
      "\n",
      "Best model:  ARIMA(1,0,2)(0,0,0)[0] intercept\n",
      "Total fit time: 4.731 seconds\n",
      "                               SARIMAX Results                                \n",
      "==============================================================================\n",
      "Dep. Variable:                      y   No. Observations:                  119\n",
      "Model:               SARIMAX(1, 0, 2)   Log Likelihood                 198.112\n",
      "Date:                Sun, 07 Nov 2021   AIC                           -386.223\n",
      "Time:                        01:25:02   BIC                           -372.327\n",
      "Sample:                             0   HQIC                          -380.581\n",
      "                                - 119                                         \n",
      "Covariance Type:                  opg                                         \n",
      "==============================================================================\n",
      "                 coef    std err          z      P>|z|      [0.025      0.975]\n",
      "------------------------------------------------------------------------------\n",
      "intercept      0.0439      0.038      1.153      0.249      -0.031       0.118\n",
      "ar.L1          0.7367      0.229      3.214      0.001       0.287       1.186\n",
      "ma.L1         -0.7684      0.228     -3.364      0.001      -1.216      -0.321\n",
      "ma.L2          0.1916      0.092      2.082      0.037       0.011       0.372\n",
      "sigma2         0.0021      0.000      7.308      0.000       0.002       0.003\n",
      "===================================================================================\n",
      "Ljung-Box (L1) (Q):                   0.04   Jarque-Bera (JB):                 5.98\n",
      "Prob(Q):                              0.83   Prob(JB):                         0.05\n",
      "Heteroskedasticity (H):               0.78   Skew:                             0.54\n",
      "Prob(H) (two-sided):                  0.43   Kurtosis:                         3.18\n",
      "===================================================================================\n",
      "\n",
      "Warnings:\n",
      "[1] Covariance matrix calculated using the outer product of gradients (complex-step).\n"
     ]
    }
   ],
   "source": [
    "model = pm.auto_arima(weekly.ppos_high, start_p=1, start_q=1,\n",
    "                      test='adf',       # use adftest to find optimal 'd'\n",
    "                      max_p=3, max_q=3, # maximum p and q\n",
    "                      m=12,              # frequency of series\n",
    "                      d=None,           # let model determine 'd'\n",
    "                      seasonal=False,   # No Seasonality\n",
    "                      start_P=0, \n",
    "                      D=0, \n",
    "                      trace=True,\n",
    "                      error_action='ignore',  \n",
    "                      suppress_warnings=True, \n",
    "                      stepwise=True)\n",
    "\n",
    "print(model.summary())"
   ]
  },
  {
   "cell_type": "code",
   "execution_count": null,
   "metadata": {
    "colab": {
     "base_uri": "https://localhost:8080/",
     "height": 458
    },
    "id": "emqGfJlEQrRL",
    "outputId": "1fd84aaa-bb28-42a0-c12a-0b3c135c4117"
   },
   "outputs": [
    {
     "data": {
      "image/png": "[encoded data removed]",
      "text/plain": [
       "<Figure size 720x504 with 4 Axes>"
      ]
     },
     "metadata": {
      "needs_background": "light"
     },
     "output_type": "display_data"
    }
   ],
   "source": [
    "model.plot_diagnostics(figsize=(10,7))\n",
    "plt.show()"
   ]
  }
 ],
 "metadata": {
  "colab": {
   "collapsed_sections": [],
   "name": "Citadel Datathon Code.ipynb",
   "provenance": []
  },
  "kernelspec": {
   "display_name": "Python 3",
   "language": "python",
   "name": "python3"
  },
  "language_info": {
   "codemirror_mode": {
    "name": "ipython",
    "version": 3
   },
   "file_extension": ".py",
   "mimetype": "text/x-python",
   "name": "python",
   "nbconvert_exporter": "python",
   "pygments_lexer": "ipython3",
   "version": "3.8.8"
  }
 },
 "nbformat": 4,
 "nbformat_minor": 1
}
